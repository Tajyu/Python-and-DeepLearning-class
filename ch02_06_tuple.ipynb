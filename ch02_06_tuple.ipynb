{
  "nbformat": 4,
  "nbformat_minor": 0,
  "metadata": {
    "colab": {
      "name": "ch02_06_tuple.ipynb",
      "provenance": [],
      "include_colab_link": true
    },
    "kernelspec": {
      "name": "python3",
      "display_name": "Python 3"
    }
  },
  "cells": [
    {
      "cell_type": "markdown",
      "metadata": {
        "id": "view-in-github",
        "colab_type": "text"
      },
      "source": [
        "<a href=\"https://colab.research.google.com/github/Tajyu/sm11/blob/master/ch02_06_tuple.ipynb\" target=\"_parent\"><img src=\"https://colab.research.google.com/assets/colab-badge.svg\" alt=\"Open In Colab\"/></a>"
      ]
    },
    {
      "cell_type": "markdown",
      "metadata": {
        "id": "J5Eo9cE5pd4S",
        "colab_type": "text"
      },
      "source": [
        "파이썬_튜플이란 : 튜플은 ( )으로 둘러싼다.\n",
        "                  튜플은 그 값을 바꿀 수 없다."
      ]
    },
    {
      "cell_type": "code",
      "metadata": {
        "id": "H27UO3GlpHwq",
        "colab_type": "code",
        "colab": {}
      },
      "source": [
        "even = (2, 4, 6, 8)\n",
        "print(even)\n",
        "\n",
        "# print(even[1]=3)\n",
        "# 튜플은 ()로 사용\n",
        "\n",
        "# 여러 가지 튜플\n",
        "t1 = ()  # 튜플 초기화\n",
        "print((type(t1))\n",
        "t2 = (1,) \n",
        "      # 튜플안에 단일요소이면 반드시 , 를 붙여야한다.\n",
        "      # vscode로는 정상 작동\n",
        "print(t2)\n",
        "t3 = (1, 2, 3)\n",
        "print(t3)\n",
        "t4 = 1, 2, 3 # 소괄호로 안하더라도 소괄호안에 출력된다.\n",
        "print(t4)\n",
        "t5 = (\"a\", \"b\", (\"ab\", \"cd\"))\n",
        "print(t5)\n",
        "# t2 = (1,)처럼 단지 1개의 요소만을 가질 때는 요소 뒤에\n",
        "# 콤마(,)를 반드시 붙여야 한다는 것과\n",
        "# t4 = 1, 2, 3처럼 괄호( )를 생략해도 무방하다."
      ],
      "execution_count": 0,
      "outputs": []
    },
    {
      "cell_type": "markdown",
      "metadata": {
        "id": "ecT-_z2FqpkO",
        "colab_type": "text"
      },
      "source": [
        "튜플의 요소값 삭제 및 변경"
      ]
    },
    {
      "cell_type": "code",
      "metadata": {
        "id": "FcN-8scbpwgT",
        "colab_type": "code",
        "colab": {}
      },
      "source": [
        "# 1. 튜플 요솟값을 삭제하려 할 때\n",
        "t1 = (1, 2, \"a\", \"b\")\n",
        "#del t1[0]  \n",
        "# Error 튜플은 불변이기때문에 한번 정의되면 제거 불가능.\n",
        "#\n",
        "# 2. 튜플 요솟값을 변경하려 할 때\n",
        "#\n",
        "# t1[0] = \"c\"  # TypeError\n",
        "\n",
        "#### 튜플은 불변이기때문에 변경 불가능"
      ],
      "execution_count": 0,
      "outputs": []
    },
    {
      "cell_type": "markdown",
      "metadata": {
        "id": "88EOKNVeq8kR",
        "colab_type": "text"
      },
      "source": [
        "튜플 사용방법(인덱싱, 슬라이싱, 튜플더하기 등)"
      ]
    },
    {
      "cell_type": "code",
      "metadata": {
        "id": "kheFfzWlqwtG",
        "colab_type": "code",
        "colab": {}
      },
      "source": [
        "# 인덱싱하기\n",
        "#\n",
        "t1 = (1, 2, \"a\", \"b\")\n",
        "print(t1[0])\n",
        "print(t1[3])\n",
        "#\n",
        "# 슬라이싱하기\n",
        "#\n",
        "t1 = (1, 2, \"a\", \"b\")\n",
        "print(t1[1:])\n",
        "print(t1[2:-1])  # ('a',)  , 포함해서 나온다. // \"a\"부터 \"b\"까지라서 \"b\"는 포함 X \n",
        "print(t1[2:])\n",
        "#\n",
        "# 튜플 더하기\n",
        "#\n",
        "t1 = (1, 2, \"a\", \"b\")\n",
        "t2 = (3, 4)\n",
        "print(t1 + t2)\n",
        "#\n",
        "# 튜플 곱하기\n",
        "#\n",
        "t2 = (3, 4)\n",
        "print(id(t2)) # t2가 저장된 주소를 알려준다.\n",
        "print(t2 * 3)\n",
        "print(id(t2))\n",
        "t2 = t2 * 3\n",
        "print(id(t2))\n",
        "#\n",
        "# 튜플 길이 구하기\n",
        "#\n",
        "t1 = (1, 2, \"a\", \"b\")\n",
        "print(len(t1))"
      ],
      "execution_count": 0,
      "outputs": []
    },
    {
      "cell_type": "code",
      "metadata": {
        "id": "yl51KldDrRSd",
        "colab_type": "code",
        "colab": {}
      },
      "source": [
        ""
      ],
      "execution_count": 0,
      "outputs": []
    }
  ]
}