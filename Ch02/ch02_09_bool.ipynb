{
  "nbformat": 4,
  "nbformat_minor": 0,
  "metadata": {
    "colab": {
      "name": "ch02_09_bool.ipynb",
      "provenance": [],
      "include_colab_link": true
    },
    "kernelspec": {
      "name": "python3",
      "display_name": "Python 3"
    }
  },
  "cells": [
    {
      "cell_type": "markdown",
      "metadata": {
        "id": "view-in-github",
        "colab_type": "text"
      },
      "source": [
        "<a href=\"https://colab.research.google.com/github/Tajyu/sm11/blob/master/Ch02/ch02_09_bool.ipynb\" target=\"_parent\"><img src=\"https://colab.research.google.com/assets/colab-badge.svg\" alt=\"Open In Colab\"/></a>"
      ]
    },
    {
      "cell_type": "markdown",
      "metadata": {
        "id": "PF8W0tpxvE_i",
        "colab_type": "text"
      },
      "source": [
        "불 자료형이란?\n",
        "\n",
        "불(bool) 자료형이란 참(True)과 거짓(False)을 나타내는 자료형이다.\n",
        "불 자료형은 다음 2가지 값만을 가질 수 있다.\n",
        "True - 참\n",
        "False - 거짓\n",
        "True나 False는 파이썬의 예약어로 true, false와 같이 사용하지 말고\n",
        "첫 문자를 항상 대문자로 사용해야 한다."
      ]
    },
    {
      "cell_type": "code",
      "metadata": {
        "id": "Uezstt8ruka9",
        "colab_type": "code",
        "colab": {}
      },
      "source": [
        "a = True\n",
        "b = False\n",
        "type(a), type(b)"
      ],
      "execution_count": 0,
      "outputs": []
    },
    {
      "cell_type": "markdown",
      "metadata": {
        "id": "L8ioKhA0vWXH",
        "colab_type": "text"
      },
      "source": [
        "불_참과거짓"
      ]
    },
    {
      "cell_type": "code",
      "metadata": {
        "id": "GUKk5QmMvNDX",
        "colab_type": "code",
        "colab": {}
      },
      "source": [
        "print(1 == 1)\n",
        "print(2 > 1)\n",
        "print(2 < 1)\n",
        "print(True + 1) # True는 default값이 1이라서 1+1이 된다.\n",
        "print(False + 1) # False는 default값이 1이라서 0+1이 된다.\n",
        "#\n",
        "# 자료형의 참과 거짓\n",
        "#\n",
        "print(bool(\"python\"))\n",
        "print(bool(\"\"))\n",
        "print(bool([1, 2, 3]))\n",
        "print(bool([2, 3]))\n",
        "print(bool([]))\n",
        "print(bool(()))\n",
        "print(bool({}))\n",
        "print(bool(1))\n",
        "print(bool(0))\n",
        "print(bool(None))\n",
        "bool(-99) # 0이아닌 모든 수(음수)는 True다."
      ],
      "execution_count": 0,
      "outputs": []
    },
    {
      "cell_type": "markdown",
      "metadata": {
        "id": "5liFGdCpvxLn",
        "colab_type": "text"
      },
      "source": [
        "불 값을 이용한 코드"
      ]
    },
    {
      "cell_type": "code",
      "metadata": {
        "id": "HMaNqXkSvtDS",
        "colab_type": "code",
        "outputId": "d30bda5c-b028-464e-8cca-0bfefe1769ff",
        "colab": {
          "base_uri": "https://localhost:8080/",
          "height": 107
        }
      },
      "source": [
        "a = [1, 2, 3, 4]\n",
        "#\n",
        "while a:\n",
        "    print(a.pop()) # 역순으로 출력\n",
        "\n",
        "\n",
        "#\n",
        "if []:\n",
        "    print(\"참\")\n",
        "else:\n",
        "    print(\"거짓\")"
      ],
      "execution_count": 0,
      "outputs": [
        {
          "output_type": "stream",
          "text": [
            "4\n",
            "3\n",
            "2\n",
            "1\n",
            "거짓\n"
          ],
          "name": "stdout"
        }
      ]
    },
    {
      "cell_type": "markdown",
      "metadata": {
        "id": "oVmx58LLv2MP",
        "colab_type": "text"
      },
      "source": [
        " Representation error\n",
        "\n",
        "double precision representation of floating-point numbers"
      ]
    },
    {
      "cell_type": "code",
      "metadata": {
        "id": "dOq1fnC1vyNy",
        "colab_type": "code",
        "outputId": "e9555414-f3d4-4952-f13a-791b2703c02a",
        "colab": {
          "base_uri": "https://localhost:8080/",
          "height": 127
        }
      },
      "source": [
        "print(1-0.9)\n",
        "# 0.09999999999999998\n",
        "print(1-0.9==.1)\n",
        "# False\n",
        "\n",
        "import decimal\n",
        "x=decimal.Decimal(3.14)\n",
        "y=decimal.Decimal(2.74)\n",
        "print(x,y)\n",
        "\n",
        "print(x*y)\n",
        "# Decimal('8.603600000000001010036498883')\n",
        "decimal.getcontext().prec=4 # 소수 4째자리까지만 표현\n",
        "print(x*y)\n",
        "# Decimal('8.604')"
      ],
      "execution_count": 0,
      "outputs": [
        {
          "output_type": "stream",
          "text": [
            "0.09999999999999998\n",
            "False\n",
            "3.140000000000000124344978758017532527446746826171875 2.7400000000000002131628207280300557613372802734375\n",
            "8.604\n",
            "8.604\n"
          ],
          "name": "stdout"
        }
      ]
    },
    {
      "cell_type": "code",
      "metadata": {
        "id": "EnEPDE1Vv6sX",
        "colab_type": "code",
        "colab": {}
      },
      "source": [
        ""
      ],
      "execution_count": 0,
      "outputs": []
    }
  ]
}