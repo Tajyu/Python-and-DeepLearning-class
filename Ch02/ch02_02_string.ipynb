{
  "nbformat": 4,
  "nbformat_minor": 0,
  "metadata": {
    "colab": {
      "name": "ch02_02_string.ipynb",
      "provenance": [],
      "collapsed_sections": [],
      "include_colab_link": true
    },
    "kernelspec": {
      "name": "python3",
      "display_name": "Python 3"
    }
  },
  "cells": [
    {
      "cell_type": "markdown",
      "metadata": {
        "id": "view-in-github",
        "colab_type": "text"
      },
      "source": [
        "<a href=\"https://colab.research.google.com/github/Tajyu/sm11/blob/master/Ch02/ch02_02_string.ipynb\" target=\"_parent\"><img src=\"https://colab.research.google.com/assets/colab-badge.svg\" alt=\"Open In Colab\"/></a>"
      ]
    },
    {
      "cell_type": "markdown",
      "metadata": {
        "id": "Eof7YJ-TpOQ_",
        "colab_type": "text"
      },
      "source": [
        "파이썬 문자열"
      ]
    },
    {
      "cell_type": "code",
      "metadata": {
        "id": "wdpcOXVipCqQ",
        "colab_type": "code",
        "outputId": "04beadbb-e733-41e7-b21a-b6a0580bcb96",
        "colab": {
          "base_uri": "https://localhost:8080/",
          "height": 107
        }
      },
      "source": [
        "print(\"문자열: '\")\n",
        "food = \"Python's favorite food is perl\"\n",
        "print(food)\n",
        "\n",
        "# food = 'Python's favorite food is perl'  # Error\n",
        "\n",
        "say = '\"Python is very easy.\" he says.'\n",
        "\n",
        "print(\"문자열: \\ 이용\")\n",
        "food = 'Python\\'s favorite food is perl'\n",
        "say = \"\\\"Python is very easy.\\\" he says.\"\n",
        "print(food)\n",
        "print(say)"
      ],
      "execution_count": 0,
      "outputs": [
        {
          "output_type": "stream",
          "text": [
            "문자열: '\n",
            "Python's favorite food is perl\n",
            "문자열: \\ 이용\n",
            "Python's favorite food is perl\n",
            "\"Python is very easy.\" he says.\n"
          ],
          "name": "stdout"
        }
      ]
    },
    {
      "cell_type": "markdown",
      "metadata": {
        "id": "1GxjuKLmplWn",
        "colab_type": "text"
      },
      "source": [
        "파이썬 문자열_이스케이프 코드"
      ]
    },
    {
      "cell_type": "code",
      "metadata": {
        "id": "HO0veRGapcJx",
        "colab_type": "code",
        "outputId": "31984ce4-eda2-4e9c-b679-72c8ea0caa19",
        "colab": {
          "base_uri": "https://localhost:8080/",
          "height": 71
        }
      },
      "source": [
        "# 이스케이프 코드\n",
        "print(\"문자열: 이스케이프 코드 이용\")\n",
        "multiline = \"Life is too short\\nYou need python\"\n",
        "multiline\n",
        "print(multiline)"
      ],
      "execution_count": 0,
      "outputs": [
        {
          "output_type": "stream",
          "text": [
            "문자열: 이스케이프 코드 이용\n",
            "Life is too short\n",
            "You need python\n"
          ],
          "name": "stdout"
        }
      ]
    },
    {
      "cell_type": "markdown",
      "metadata": {
        "id": "TLQQevEOpvhX",
        "colab_type": "text"
      },
      "source": [
        "파이썬 문자열_여러 문자열 처리"
      ]
    },
    {
      "cell_type": "code",
      "metadata": {
        "id": "u612j6UdpreM",
        "colab_type": "code",
        "outputId": "7a59b2af-2eed-4eae-96f5-bf09b0724500",
        "colab": {
          "base_uri": "https://localhost:8080/",
          "height": 89
        }
      },
      "source": [
        "# 여러줄 문자열 처리\n",
        "multiline = '''\n",
        "... Life is too short\n",
        "... You need python\n",
        "... '''\n",
        "multiline\n",
        "print(multiline)\n",
        "#multiline = '''Life is too short ... You need Python''' > print(multiline)"
      ],
      "execution_count": 0,
      "outputs": [
        {
          "output_type": "stream",
          "text": [
            "\n",
            "Life is too short\n",
            "You need python\n",
            "\n"
          ],
          "name": "stdout"
        }
      ]
    },
    {
      "cell_type": "markdown",
      "metadata": {
        "id": "8-04m263p3bu",
        "colab_type": "text"
      },
      "source": [
        "파이썬 문자열 _ 문자열의 덧셈, 곱셈"
      ]
    },
    {
      "cell_type": "code",
      "metadata": {
        "id": "qrvPUPMup1Bg",
        "colab_type": "code",
        "outputId": "c04e4c3e-356d-408e-eec6-ff6e394ad391",
        "colab": {
          "base_uri": "https://localhost:8080/",
          "height": 89
        }
      },
      "source": [
        "print(\"문자열 연산: 더하기\")\n",
        "head = \"Python\"\n",
        "tail = \" is fun!\"\n",
        "print(head + tail)\n",
        "\n",
        "print(\"문자열 연산: 곱하기\")\n",
        "a = \"python\"\n",
        "a * 2"
      ],
      "execution_count": 0,
      "outputs": [
        {
          "output_type": "stream",
          "text": [
            "문자열 연산: 더하기\n",
            "Python is fun!\n",
            "문자열 연산: 곱하기\n"
          ],
          "name": "stdout"
        },
        {
          "output_type": "execute_result",
          "data": {
            "text/plain": [
              "'pythonpython'"
            ]
          },
          "metadata": {
            "tags": []
          },
          "execution_count": 8
        }
      ]
    },
    {
      "cell_type": "markdown",
      "metadata": {
        "id": "LnL-QsEAqFxX",
        "colab_type": "text"
      },
      "source": [
        "파이썬 문자열 _ multi string"
      ]
    },
    {
      "cell_type": "code",
      "metadata": {
        "id": "UPEoFDMOqDBg",
        "colab_type": "code",
        "outputId": "f5e7003a-42a3-42ff-cca0-7804da253f02",
        "colab": {
          "base_uri": "https://localhost:8080/",
          "height": 71
        }
      },
      "source": [
        "# multistring.py\n",
        "print(\"=\" * 50)\n",
        "print(\"I am now coding Python!\")\n",
        "print(\"=\" * 50)"
      ],
      "execution_count": 0,
      "outputs": [
        {
          "output_type": "stream",
          "text": [
            "==================================================\n",
            "I am now coding Python!\n",
            "==================================================\n"
          ],
          "name": "stdout"
        }
      ]
    },
    {
      "cell_type": "markdown",
      "metadata": {
        "id": "PNAdEZXBqM7X",
        "colab_type": "text"
      },
      "source": [
        "파이썬 문자열 _ 문자열의 인덱싱 "
      ]
    },
    {
      "cell_type": "code",
      "metadata": {
        "id": "tZlTMm8AqMaY",
        "colab_type": "code",
        "outputId": "792d3d76-dc9c-4a3c-9798-83ebad651fc8",
        "colab": {
          "base_uri": "https://localhost:8080/",
          "height": 125
        }
      },
      "source": [
        "print(\"문자열: 인덱싱이란?\")\n",
        "a = \"Life is too short, You need Python\"\n",
        "print(a[3])\n",
        "print(a[15])\n",
        "\n",
        "# \"파이썬은 0부터 숫자를 센다.\"\n",
        "print(\"문자열: 인덱싱 활용\")\n",
        "\n",
        "a = \"Life is too short, You need Python\"\n",
        "print(a[0], a[12], a[-1])\n",
        "\n",
        "# a[-0] 뒤에서부터 차례대로\n",
        "print(a[-2], a[-5], a[-12])"
      ],
      "execution_count": 0,
      "outputs": [
        {
          "output_type": "stream",
          "text": [
            "문자열: 인덱싱이란?\n",
            "e\n",
            "r\n",
            "문자열: 인덱싱 활용\n",
            "L s n\n",
            "o y  \n"
          ],
          "name": "stdout"
        }
      ]
    },
    {
      "cell_type": "markdown",
      "metadata": {
        "id": "SV4FOoFcq3A3",
        "colab_type": "text"
      },
      "source": [
        "파이썬 문자열 _ 문자열의 슬라이싱"
      ]
    },
    {
      "cell_type": "code",
      "metadata": {
        "id": "n6PqJBYYq1TQ",
        "colab_type": "code",
        "outputId": "0bc6c34b-f471-4562-d160-f325be650499",
        "colab": {
          "base_uri": "https://localhost:8080/",
          "height": 143
        }
      },
      "source": [
        "print(\"문자열: 슬라이싱 응용?\")\n",
        "a = \"20190909Sunny\"\n",
        "date = a[:8]\n",
        "weather = a[8:]\n",
        "print(date, weather)\n",
        "\n",
        "a = \"20190917Rainy\"\n",
        "year = a[:4]\n",
        "day = a[4:8]\n",
        "weather = a[8:]\n",
        "print(year,day,weather)\n",
        "\n",
        "# \"Pithon\"이라는 문자열을 \"Python\"으로 바꾸려면?\n",
        "a = \"Pithon\"\n",
        "print(a[1])\n",
        "# a[1] = 'y'  # Error (immutable한 자료형)\n",
        "#################\n",
        "a = \"Pithon\"\n",
        "print(a[:1])\n",
        "print(a[2:])\n",
        "print(a[:1] + 'y' + a[2:])  # Python"
      ],
      "execution_count": 0,
      "outputs": [
        {
          "output_type": "stream",
          "text": [
            "문자열: 슬라이싱 응용?\n",
            "20190909 Sunny\n",
            "2019 0917 Rainy\n",
            "i\n",
            "P\n",
            "thon\n",
            "Python\n"
          ],
          "name": "stdout"
        }
      ]
    },
    {
      "cell_type": "markdown",
      "metadata": {
        "id": "JblK6C23rh8G",
        "colab_type": "text"
      },
      "source": [
        "파이썬 문자열 _ 포맷팅 _ 정의"
      ]
    },
    {
      "cell_type": "code",
      "metadata": {
        "id": "kCG6T1RnrDqB",
        "colab_type": "code",
        "outputId": "7fece258-3b57-4c1e-8752-03ea54f2d53d",
        "colab": {
          "base_uri": "https://localhost:8080/",
          "height": 179
        }
      },
      "source": [
        "print(\"문자열: 포매팅이란?\")\n",
        "# 1. 숫자 바로 대입\n",
        "print(\"I eat %d apples.\" % 3)\n",
        "\n",
        "# 2. 문자열 바로 대입\n",
        "print(\"I eat %s apples.\" % \"five\")\n",
        "\n",
        "# 3. 숫자 값을 나타내는 변수로 대입\n",
        "number = 3\n",
        "print(\"I eat %d apples.\" % number)\n",
        "\n",
        "# 4. 2개 이상의 값 넣기\n",
        "number = 10\n",
        "day = \"three\"\n",
        "# \"I ate %d apples. so I was sick for %s days.\" % number  # , day   # Error\n",
        "print(\"I ate %d apples. so I was sick for %s days.\" % (number, day))\n",
        "# 소괄호 안에 콤마(,)로 구분하여 각각의 값을 넣어 준다.\n",
        "\n",
        "print(\"문자열: 포맷 코드\")\n",
        "# %d, %s, %c, %f, %o, %x, %%\n",
        "# %s, 묵시적 형변환\n",
        "print(\"I have %s apples\" % 3)\n",
        "print(\"rate is %s\" % 3.234)\n",
        "\n",
        "# \"Error is %d%.\" % 98 에러\n",
        "\"Error is %d%%.\" % 98"
      ],
      "execution_count": 0,
      "outputs": [
        {
          "output_type": "stream",
          "text": [
            "문자열: 포매팅이란?\n",
            "I eat 3 apples.\n",
            "I eat five apples.\n",
            "I eat 3 apples.\n",
            "I ate 10 apples. so I was sick for three days.\n",
            "문자열: 포맷 코드\n",
            "I have 3 apples\n",
            "rate is 3.234\n"
          ],
          "name": "stdout"
        },
        {
          "output_type": "execute_result",
          "data": {
            "text/plain": [
              "'Error is 98%.'"
            ]
          },
          "metadata": {
            "tags": []
          },
          "execution_count": 31
        }
      ]
    },
    {
      "cell_type": "markdown",
      "metadata": {
        "id": "eF2i_syLsONe",
        "colab_type": "text"
      },
      "source": [
        "파이썬 문자열 _ 포맷코드와 숫자 함꼐 사용"
      ]
    },
    {
      "cell_type": "code",
      "metadata": {
        "id": "t6pDo60nrnZA",
        "colab_type": "code",
        "outputId": "a7680760-0b67-4a45-a4b5-a5757215647c",
        "colab": {
          "base_uri": "https://localhost:8080/",
          "height": 107
        }
      },
      "source": [
        "print(\"문자열: 포맷 코드와 숫자 함께 사용하기\")\n",
        "# 1. 정렬과 공백\n",
        "print(\"%10s\" % \"hi\")\n",
        "print(\"%-10sjane.\" % \"hi\")\n",
        "# 2. 소수점 표현하기\n",
        "print(\"%0.4f\" % 3.42134234)\n",
        "\"%10.4f\" % 3.42134234"
      ],
      "execution_count": 0,
      "outputs": [
        {
          "output_type": "stream",
          "text": [
            "문자열: 포맷 코드와 숫자 함께 사용하기\n",
            "        hi\n",
            "hi        jane.\n",
            "3.4213\n"
          ],
          "name": "stdout"
        },
        {
          "output_type": "execute_result",
          "data": {
            "text/plain": [
              "'    3.4213'"
            ]
          },
          "metadata": {
            "tags": []
          },
          "execution_count": 32
        }
      ]
    },
    {
      "cell_type": "markdown",
      "metadata": {
        "id": "DxlfKeOKsfJe",
        "colab_type": "text"
      },
      "source": [
        "파이썬 문자열 _ format 함수 사용하여 포매팅"
      ]
    },
    {
      "cell_type": "code",
      "metadata": {
        "id": "swsfVFZbsYsL",
        "colab_type": "code",
        "colab": {}
      },
      "source": [
        "print(\"문자열: format 함수를 사용한 포매팅\")\n",
        "# 1. 숫자 바로 대입하기\n",
        "print(\"I eat {0} apples\".format(3))\n",
        "print(\"I eat {0} {1} apples\".format(3, 4))\n",
        "\n",
        "# 2. 문자열 바로 대입하기\n",
        "print(\"I eat {0} apples\".format(\"five\"))\n",
        "print(\"I eat {0} apples from {1} boxes\".format(\"five\", \"three\")) \n",
        "#\"I eat {0} apples from {1} boxes\".format(\"five\", \"3\") 문자랑 숫자도 가능\n",
        "\n",
        "# 3. 숫자 값을 가진 변수로 대입하기\n",
        "number = 3\n",
        "print(\"I eat {0} apples\".format(number))\n",
        "print(\"I eat {0} apples\".format(number + 1))\n",
        "\n",
        "# 2개 이상의 값 넣기\n",
        "number = 10\n",
        "day = \"three\"\n",
        "print(\"I ate {0} apples. so I was sick for {1} days.\".format(number, day))\n",
        "# 이름으로 넣기\n",
        "print(\"I ate {number} apples. so I was sick for {day} days.\".format(number=10, day=3))\n",
        "# 인덱스와 이름을 혼용해서 넣기\n",
        "print(\"I ate {0} apples. so I was sick for {day} days.\".format(10, day=3))\n",
        "#\n",
        "######################################\n",
        "# 왼쪽 정렬/ 오른쪽 정렬\n",
        "print(\"{0:<10}\".format(\"hi\")) #{0}\n",
        "print(\"{0:>10}\".format(\"hi\"))\n",
        "# 가운데 정렬\n",
        "print(\"{0:^10}\".format(\"hi\"))\n",
        "# 공백 채우기\n",
        "print(\"{0:=^10}\".format(\"hi\")) #\"{0:=<10}\".format(\"hi\") 우측공백채우기   \"{0:=>10}\".format(\"hi\") 좌측공백채우기\n",
        "print(\"{0:!<10}\".format(\"hi\"))\n",
        "# 도전하기\n",
        "# \"{0:<10}{1:>10}\".format(\"hi\",'hcit')\n",
        "print(\"{0:<10}{1:>10}\".format(\"hi\",'hcit'))\n",
        "\n",
        "#########################################\n",
        "\n",
        "# 소수점 표현하기\n",
        "y = 3.42134234\n",
        "print(\"{0:0.4f}\".format(y))\n",
        "print(\"{0:10.4f}\".format(y))\n",
        "# { 또는 } 문자 표현하기\n",
        "print(\"{{ and }}\".format())"
      ],
      "execution_count": 0,
      "outputs": []
    },
    {
      "cell_type": "markdown",
      "metadata": {
        "id": "gfQrgssTtgIG",
        "colab_type": "text"
      },
      "source": [
        "파이썬 문자열 _ f 문자열 포매팅"
      ]
    },
    {
      "cell_type": "code",
      "metadata": {
        "id": "f9TzBlcrtftl",
        "colab_type": "code",
        "outputId": "504dd2f9-813a-430a-de4d-d03a850bd29d",
        "colab": {
          "base_uri": "https://localhost:8080/",
          "height": 467
        }
      },
      "source": [
        "print(\"문자열: f 문자열 포매팅\")\n",
        "name = \"홍길동\"\n",
        "age = 30\n",
        "print(f\"나의 이름은 {name}입니다. 나이는 {age}입니다.\")\n",
        "\n",
        "age = 30\n",
        "print(f\"나는 내년이면 {age+1}살이 된다.\")\n",
        "\n",
        "# 딕셔너리는 f 문자열 포매팅에서 다음과 같이 사용\n",
        "d = {\"name\": \"홍길동\", \"age\": 30}\n",
        "print(f'나의 이름은 {d[\"name\"]}입니다. 나이는 {d[\"age\"]}입니다.')\n",
        "\n",
        "# 정렬\n",
        "print(f'{\"hi\":<10}')  # 왼쪽 정렬\n",
        "print(f'{\"hi\":>10}')  # 오른쪽 정렬\n",
        "print(f'{\"hi\":^10}')  # 가운데 정렬\n",
        "\n",
        "# 공백 채우기\n",
        "y = 3.42134234\n",
        "print(f\"{y:0.4f}\")  # 소수점 4자리까지만 표현\n",
        "f\"{y:10.4f}\"  # 소수점 4자리까지 표현하고 총 자리수를 10으로 맞춤\n",
        "# { } 문자를 표시\n",
        "print(f\"{{ and }}\")\n",
        "\n",
        "##############################################\n",
        "print(\"문자열: 관련 내장 함수들\")\n",
        "# 문자 개수 세기(count)\n",
        "a = \"hobby\"\n",
        "print(a.count(\"b\"))\n",
        "\n",
        "# 위치 알려주기1(find)\n",
        "a = \"Python is the best choice\"\n",
        "print(a.find(\"b\"))\n",
        "print( a.find(\"k\") ) # what value?\n",
        "# 위치 알려주기2(index)\n",
        "a = \"Life is too short\"\n",
        "print(a.index(\"t\"))\n",
        "# print(a.index(\"k\")) k라는 문자가 없어서 출력 X\n",
        "\n",
        "# 문자열 삽입(join)\n",
        "print(\",\".join(\"abcd\"))\n",
        "print(\",\".join([\"a\", \"b\", \"c\", \"d\"]))\n",
        "\n",
        "# 소문자를 대문자로 바꾸기(upper)\n",
        "a = \"hi\"\n",
        "print(a.upper())\n",
        "\n",
        "# 대문자를 소문자로 바꾸기(lower)\n",
        "a = \"IoT\"\n",
        "print(a.lower())\n",
        "\n",
        "# 왼쪽 공백 지우기(lstrip)\n",
        "a = \" hi \"\n",
        "print(a.lstrip())\n",
        "\n",
        "# 오른쪽 공백 지우기(rstrip)\n",
        "print(a.rstrip())\n",
        "\n",
        "# 양쪽 공백 지우기(strip)\n",
        "print(a.strip())\n",
        "\n",
        "# 문자열 바꾸기(replace)\n",
        "a = \"Life is too short\"\n",
        "print(a.replace(\"Life\", \"Your leg\"))\n",
        "\n",
        "# 문자열 나누기(split) -> 리스트로 변환하여 반환\n",
        "a = \"Life is too short\"\n",
        "print(a.split())\n",
        "b = \"a:b:c:d\"\n",
        "print(b.split(\":\"))\n",
        "\n",
        "#### 도전하기 #####\n",
        "# format 함수 또는 f 문자열 포매팅을 이용해서 '!!!python!!!' 문자열을 출력해보시오.\n",
        "\"{0:!^12}\".format(\"python\")\n",
        "f'{\"python\":!^12}'\n",
        "\n",
        "\n",
        "print(\"도전하기의 답은\"  f'{\"python\":!^10}') # f'{\"python\":!^12}' > f'{\"python\":!^10}변경'"
      ],
      "execution_count": 0,
      "outputs": [
        {
          "output_type": "stream",
          "text": [
            "문자열: f 문자열 포매팅\n",
            "나의 이름은 홍길동입니다. 나이는 30입니다.\n",
            "나는 내년이면 31살이 된다.\n",
            "나의 이름은 홍길동입니다. 나이는 30입니다.\n",
            "hi        \n",
            "        hi\n",
            "    hi    \n",
            "3.4213\n",
            "{ and }\n",
            "문자열: 관련 내장 함수들\n",
            "2\n",
            "14\n",
            "-1\n",
            "8\n",
            "a,b,c,d\n",
            "a,b,c,d\n",
            "HI\n",
            "iot\n",
            "hi \n",
            " hi\n",
            "hi\n",
            "Your leg is too short\n",
            "['Life', 'is', 'too', 'short']\n",
            "['a', 'b', 'c', 'd']\n",
            "도전하기의 답은!!python!!\n"
          ],
          "name": "stdout"
        }
      ]
    },
    {
      "cell_type": "code",
      "metadata": {
        "id": "pi_EQjhot_Hj",
        "colab_type": "code",
        "colab": {}
      },
      "source": [
        ""
      ],
      "execution_count": 0,
      "outputs": []
    }
  ]
}