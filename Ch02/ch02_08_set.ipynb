{
  "nbformat": 4,
  "nbformat_minor": 0,
  "metadata": {
    "colab": {
      "name": "ch02_08_set.ipynb",
      "provenance": [],
      "include_colab_link": true
    },
    "kernelspec": {
      "name": "python3",
      "display_name": "Python 3"
    }
  },
  "cells": [
    {
      "cell_type": "markdown",
      "metadata": {
        "id": "view-in-github",
        "colab_type": "text"
      },
      "source": [
        "<a href=\"https://colab.research.google.com/github/Tajyu/sm11/blob/master/Ch02/ch02_08_set.ipynb\" target=\"_parent\"><img src=\"https://colab.research.google.com/assets/colab-badge.svg\" alt=\"Open In Colab\"/></a>"
      ]
    },
    {
      "cell_type": "markdown",
      "metadata": {
        "id": "r5E5nShYtK-R",
        "colab_type": "text"
      },
      "source": [
        "집합(Set)이란?\n",
        "집합에 관련된 것을 쉽게 처리하기 위해 만든 자료형\n",
        "중복된 값을 허용하지 않는다.\n"
      ]
    },
    {
      "cell_type": "code",
      "metadata": {
        "id": "j4od39zNs9Nx",
        "colab_type": "code",
        "colab": {
          "base_uri": "https://localhost:8080/",
          "height": 71
        },
        "outputId": "8a89b970-97a9-45ef-f4c0-329f5250617e"
      },
      "source": [
        "# set 키워드를 사용해서 집합자료형을 만든다.\n",
        "#\n",
        "s1 = set([1, 2, 3])\n",
        "print(s1)\n",
        "s1n = set([1, 2, 3, 2])\n",
        "print(s1n)  # 2인 value값이 중복되어 앞에 2만 출력\n",
        "s2 = set(\"Hello\")\n",
        "s2 # l이 중복되어 l 하나만 출력 / set은 순서대로 지정안해서 H, e, l, o 순으로 출력 X"
      ],
      "execution_count": 1,
      "outputs": [
        {
          "output_type": "stream",
          "text": [
            "{1, 2, 3}\n",
            "{1, 2, 3}\n"
          ],
          "name": "stdout"
        },
        {
          "output_type": "execute_result",
          "data": {
            "text/plain": [
              "{'H', 'e', 'l', 'o'}"
            ]
          },
          "metadata": {
            "tags": []
          },
          "execution_count": 1
        }
      ]
    },
    {
      "cell_type": "markdown",
      "metadata": {
        "id": "GGp88skHtbfL",
        "colab_type": "text"
      },
      "source": [
        " 집합 자료형의 특징\n",
        " 1. 중복을 허용하지 않는다.\n",
        " 2. 순서가 없다(Unordered).\n",
        "*** set 자료형은 순서가 없기(unordered) 때문에 인덱싱으로 값을 얻을 수 없다."
      ]
    },
    {
      "cell_type": "code",
      "metadata": {
        "id": "CC8Y9k-_tXky",
        "colab_type": "code",
        "colab": {}
      },
      "source": [
        "s1 = set([1,2,3])\n",
        "#s1[0]\n",
        "# set은 순서에 대한 개념이 없어서 0번째 인덱스를 출력할려고 하면 에러가 뜬다. \n",
        "l1=list(s1)\n",
        "print(l1)\n",
        "l1[0] # list로 변경후에 인덱스값을 출력한다.\n",
        "#\n",
        "t1=tuple(s1)\n",
        "t1\n",
        "t1[0] # tuple로 변경후에 인덱스값을 출력한다."
      ],
      "execution_count": 0,
      "outputs": []
    },
    {
      "cell_type": "markdown",
      "metadata": {
        "id": "hzijpUWstoGI",
        "colab_type": "text"
      },
      "source": [
        "교집합, 합집합, 차집합 구하기"
      ]
    },
    {
      "cell_type": "code",
      "metadata": {
        "id": "FUUBIAZetlkM",
        "colab_type": "code",
        "colab": {
          "base_uri": "https://localhost:8080/",
          "height": 161
        },
        "outputId": "28fb4322-dca9-401c-8a6e-aede0f120f84"
      },
      "source": [
        "s1 = set([1, 2, 3, 4, 5, 6])\n",
        "s2 = set([4, 5, 6, 7, 8, 9])\n",
        "# \n",
        "# 1. 교집합 \n",
        "#\n",
        "print(s1 & s2)\n",
        "print(s1.intersection(s2))\n",
        "# \n",
        "# 2. 합집합\n",
        "#\n",
        "print(s1 | s2)\n",
        "print(s1.union(s2))\n",
        "# \n",
        "# 3. 차집합\n",
        "#\n",
        "print(s1 - s2)\n",
        "print(s2 - s1)\n",
        "print(s1.difference(s2))\n",
        "print(s2.difference(s1))"
      ],
      "execution_count": 3,
      "outputs": [
        {
          "output_type": "stream",
          "text": [
            "{4, 5, 6}\n",
            "{4, 5, 6}\n",
            "{1, 2, 3, 4, 5, 6, 7, 8, 9}\n",
            "{1, 2, 3, 4, 5, 6, 7, 8, 9}\n",
            "{1, 2, 3}\n",
            "{8, 9, 7}\n",
            "{1, 2, 3}\n",
            "{8, 9, 7}\n"
          ],
          "name": "stdout"
        }
      ]
    },
    {
      "cell_type": "markdown",
      "metadata": {
        "id": "S8eSk-wUuExY",
        "colab_type": "text"
      },
      "source": [
        "집합 (set): 관련 내장 함수들"
      ]
    },
    {
      "cell_type": "code",
      "metadata": {
        "id": "pkmWuzbGt1xf",
        "colab_type": "code",
        "colab": {
          "base_uri": "https://localhost:8080/",
          "height": 71
        },
        "outputId": "8e0c8ceb-f821-4acd-cb07-515926a30a03"
      },
      "source": [
        "# 값 1개 추가하기(add)\n",
        "#\n",
        "s1 = set([1, 2, 3])\n",
        "s1.add(4)\n",
        "print(s1)\n",
        "#\n",
        "# 값 여러 개 추가하기(update)\n",
        "#\n",
        "s1 = set([1, 2, 3])\n",
        "s1.update([4,5,6])\n",
        "print(s1)\n",
        "s1.add(5)\n",
        "# s1 # 5라는 vlaue값이 있어서 추가로 출력X\n",
        "#\n",
        "# 특정 값 제거하기(remove)\n",
        "#\n",
        "s1 = set([1, 2, 3])\n",
        "s1.remove(2)\n",
        "print(s1)"
      ],
      "execution_count": 4,
      "outputs": [
        {
          "output_type": "stream",
          "text": [
            "{1, 2, 3, 4}\n",
            "{1, 2, 3, 4, 5, 6}\n",
            "{1, 3}\n"
          ],
          "name": "stdout"
        }
      ]
    },
    {
      "cell_type": "markdown",
      "metadata": {
        "id": "X1sZerjCuQvq",
        "colab_type": "text"
      },
      "source": [
        "frozenset() 함수"
      ]
    },
    {
      "cell_type": "code",
      "metadata": {
        "id": "zj0EuRC0uOR2",
        "colab_type": "code",
        "colab": {
          "base_uri": "https://localhost:8080/",
          "height": 35
        },
        "outputId": "817fdd10-c68c-42d9-949f-3d16d47647e9"
      },
      "source": [
        "small_primes = frozenset([2, 3, 5, 7]) #frozenset은 불변형이다.\n",
        "bigger_primes = frozenset([5, 7, 11]) #frozenset은 불변형이다.\n",
        "# small_primes.add(11)  # we cannot add to a frozenset -> AttributeError\n",
        "\n",
        "# small_primes.remove(2)  # neither we can remove -> AttributeError\n",
        "\n",
        "small_primes & bigger_primes  # intersect, union, etc. allowed\n",
        "# frozenset({5, 7})"
      ],
      "execution_count": 7,
      "outputs": [
        {
          "output_type": "execute_result",
          "data": {
            "text/plain": [
              "frozenset({5, 7})"
            ]
          },
          "metadata": {
            "tags": []
          },
          "execution_count": 7
        }
      ]
    },
    {
      "cell_type": "code",
      "metadata": {
        "id": "vhcqIx6suUAD",
        "colab_type": "code",
        "colab": {}
      },
      "source": [
        ""
      ],
      "execution_count": 0,
      "outputs": []
    }
  ]
}