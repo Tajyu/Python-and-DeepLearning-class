{
  "nbformat": 4,
  "nbformat_minor": 0,
  "metadata": {
    "colab": {
      "name": "ch02_07_dictionry.ipynb",
      "provenance": [],
      "include_colab_link": true
    },
    "kernelspec": {
      "name": "python3",
      "display_name": "Python 3"
    }
  },
  "cells": [
    {
      "cell_type": "markdown",
      "metadata": {
        "id": "view-in-github",
        "colab_type": "text"
      },
      "source": [
        "<a href=\"https://colab.research.google.com/github/Tajyu/sm11/blob/master/Ch02/ch02_07_dictionry.ipynb\" target=\"_parent\"><img src=\"https://colab.research.google.com/assets/colab-badge.svg\" alt=\"Open In Colab\"/></a>"
      ]
    },
    {
      "cell_type": "markdown",
      "metadata": {
        "id": "XHYOufPkrpsF",
        "colab_type": "text"
      },
      "source": [
        "파이썬_딕셔너리 : \n",
        "딕셔너리란 대응 관계를 나타내는 자료형.\n",
        "연관 배열(Associative array) 또는 해시(Hash)\n",
        "딕셔너리는 Key와 Value를 한 쌍으로 갖는 자료형\n",
        "\n",
        "기본 딕셔너리의 모습\n",
        "{Key1:Value1, Key2:Value2, Key3:Value3, ...}\n",
        "Key와 Value의 쌍 여러 개가 { }로 둘러싸여 있다.\n",
        "각각의 요소는 Key : Value 형태로 이루어져 있고 쉼표(,)로 구분"
      ]
    },
    {
      "cell_type": "code",
      "metadata": {
        "id": "SIy9mXAxrkC8",
        "colab_type": "code",
        "outputId": "63a572fe-0c1d-48e2-9131-aab8a68a5cfb",
        "colab": {
          "base_uri": "https://localhost:8080/",
          "height": 35
        }
      },
      "source": [
        "dic = {\"name\": \"pey\", \"phone\": \"0119993323\", \"birth\": \"1118\"}\n",
        "# Key는 각각 'name', 'phone', 'birth'\n",
        "# 각 Key에 해당하는 Value는 'pey', '0119993323', '1118'\n",
        "print(dic)"
      ],
      "execution_count": 0,
      "outputs": [
        {
          "output_type": "stream",
          "text": [
            "{'name': 'pey', 'phone': '0119993323', 'birth': '1118'}\n"
          ],
          "name": "stdout"
        }
      ]
    },
    {
      "cell_type": "markdown",
      "metadata": {
        "id": "v4q7u6KAr9zJ",
        "colab_type": "text"
      },
      "source": [
        "다양한 딕셔너리"
      ]
    },
    {
      "cell_type": "code",
      "metadata": {
        "id": "UDtzXL-Kr3iH",
        "colab_type": "code",
        "outputId": "4bd2439c-83bc-4919-a9af-3339706f8cb6",
        "colab": {
          "base_uri": "https://localhost:8080/",
          "height": 71
        }
      },
      "source": [
        "# 여러 가지 딕셔너리\n",
        "a = {1: \"hi\"}\n",
        "print(a[1])\n",
        "# a{1}\n",
        "# 파이썬에서는 값을 찾을려면 대괄호를 사용\n",
        "a = {\"a\": [1, 2, 3]}  # value에는 복합 자료형도 사용된다.\n",
        "print(len(a))\n",
        "# a[a]  # TypeError\n",
        "a[\"a\"]"
      ],
      "execution_count": 0,
      "outputs": [
        {
          "output_type": "stream",
          "text": [
            "hi\n",
            "1\n"
          ],
          "name": "stdout"
        },
        {
          "output_type": "execute_result",
          "data": {
            "text/plain": [
              "[1, 2, 3]"
            ]
          },
          "metadata": {
            "tags": []
          },
          "execution_count": 3
        }
      ]
    },
    {
      "cell_type": "markdown",
      "metadata": {
        "id": "YjErIzqcsN-J",
        "colab_type": "text"
      },
      "source": [
        "딕셔너리 쌍 추가와 삭제"
      ]
    },
    {
      "cell_type": "code",
      "metadata": {
        "id": "WndyP_4psGlm",
        "colab_type": "code",
        "outputId": "462dc30a-668f-41c1-c364-d3fe532c91ed",
        "colab": {
          "base_uri": "https://localhost:8080/",
          "height": 71
        }
      },
      "source": [
        "# 딕셔너리 쌍 추가하기\n",
        "#\n",
        "a = {1: \"a\"}\n",
        "a[2] = \"b\"\n",
        "a[\"name\"] = \"pey\"\n",
        "print(a)\n",
        "a[3] = [1, 2, 3]\n",
        "print(a)\n",
        "#\n",
        "# 딕셔너리 쌍 삭제하기\n",
        "#\n",
        "del a[1]\n",
        "a"
      ],
      "execution_count": 0,
      "outputs": [
        {
          "output_type": "stream",
          "text": [
            "{1: 'a', 2: 'b', 'name': 'pey'}\n",
            "{1: 'a', 2: 'b', 'name': 'pey', 3: [1, 2, 3]}\n"
          ],
          "name": "stdout"
        },
        {
          "output_type": "execute_result",
          "data": {
            "text/plain": [
              "{2: 'b', 3: [1, 2, 3], 'name': 'pey'}"
            ]
          },
          "metadata": {
            "tags": []
          },
          "execution_count": 4
        }
      ]
    },
    {
      "cell_type": "markdown",
      "metadata": {
        "id": "DWduWKTXsW4p",
        "colab_type": "text"
      },
      "source": [
        "딕셔너리 사용방법 예제"
      ]
    },
    {
      "cell_type": "code",
      "metadata": {
        "id": "3KGgVVBRsTK2",
        "colab_type": "code",
        "outputId": "331eb74e-a9a1-483b-91ee-74c13f3666d1",
        "colab": {
          "base_uri": "https://localhost:8080/",
          "height": 35
        }
      },
      "source": [
        "d = {\"김연아\": \"피겨스케이팅\", \"류현진\": \"야구\", \"손흥민\": \"축구\", \"귀도\": \"파이썬\"}\n",
        "d\n",
        "d[\"손흥민\"]"
      ],
      "execution_count": 0,
      "outputs": [
        {
          "output_type": "execute_result",
          "data": {
            "text/plain": [
              "'축구'"
            ]
          },
          "metadata": {
            "tags": []
          },
          "execution_count": 5
        }
      ]
    },
    {
      "cell_type": "code",
      "metadata": {
        "id": "Deqo3OfbsZgi",
        "colab_type": "code",
        "outputId": "383510c8-3176-45ce-affb-1755edc9cce4",
        "colab": {
          "base_uri": "https://localhost:8080/",
          "height": 269
        }
      },
      "source": [
        "# 딕셔너리에서 Key 사용해 Value 얻기\n",
        "#\n",
        "grade = {\"pey\": 10, \"julliet\": 99}\n",
        "print(grade[\"pey\"])\n",
        "print(grade[\"julliet\"])\n",
        "#\n",
        "a = {1: \"a\", 2: \"b\"}\n",
        "print(a[1])  # 1은 key\n",
        "#\n",
        "a = {\"a\": 1, \"b\": 2}\n",
        "print(a[\"b\"])\n",
        "# a[b]\n",
        "# TypeError \" \" 를 넣어줘야한다.\n",
        "#\n",
        "dic = {\"name\": \"pey\", \"phone\": \"0109993323\", \"birth\": \"1118\"}\n",
        "print(dic[\"birth\"])\n",
        "print(dic[\"phone\"])\n",
        "print(dic[\"name\"])\n",
        "#\n",
        "# 딕셔너리 만들 때 주의할 사항\n",
        "# 딕셔너리에서 Key는 고유한 값이므로 중복되는 Key 값을 설정해 놓으면\n",
        "# 하나를 제외한 나머지 것들이 모두 무시된다\n",
        "#\n",
        "a = {1: \"a\", 1: \"b\"} # key값이 동일하면 항상 맨뒤의 값만 출력\n",
        "print(a[1])\n",
        "#\n",
        "print(\"딕셔너리: 관련 내장 함수들\")\n",
        "#\n",
        "# Key 리스트 만들기(keys)\n",
        "#\n",
        "a = {\"name\": \"pey\", \"phone\": \"0119993323\", \"birth\": \"1118\"}\n",
        "a.keys()\n",
        "print(list(a.keys())) # key의 값들을 list로 표현\n",
        "#################################################\n",
        "# 기본적인 반복(iterate) 구문(예: for문)을 실행\n",
        "#################################################\n",
        "for k in a.keys():\n",
        "    print(k) # enter를 한번 더 쳐준다.\n",
        "\n",
        "\n",
        "\n",
        "#\n",
        "# Value 리스트 만들기(values)\n",
        "#\n",
        "a.values() # a에서 value 값들만 출력\n",
        "#\n",
        "# Key, Value 쌍 얻기(items)\n",
        "#\n",
        "a.items()  # Key와 Value의 쌍을 튜플로 묶은 값을 dict_items 객체로 돌려준다.\n",
        "#\n",
        "#\n",
        "# Key: Value 쌍 모두 지우기(clear)\n",
        "#\n",
        "a.clear()\n",
        "a\n",
        "#\n",
        "# Key로 Value얻기(get)\n",
        "#\n",
        "a = {\"name\": \"pey\", \"phone\": \"0119993323\", \"birth\": \"1118\"}\n",
        "a.get(\"name\")  # a['name']\n",
        "a.get(\"phone\")  # a['phone']\n",
        "\n",
        "# print(a[\"nokey\"])  # KeyError nokey 라는 값이 없기때문에 출력 에러\n",
        "#\n",
        "# get(x, '디폴트 값')\n",
        "#\n",
        "# 딕셔너리 안에 찾으려는 Key 값이 없을 경우\n",
        "# 미리 정해 둔 디폴트 값을 대신 가져오게 설정.\n",
        "#\n",
        "a.get(\"foo\", \"bar\") # foo라는 key가 없기때문에 바로 bar라는 값이 출력.\n",
        "a.get(\"name\", \"bar\")\n",
        "\n",
        "#\n",
        "# 해당 Key가 딕셔너리 안에 있는지 조사하기(in)\n",
        "#\n",
        "a = {\"name\": \"pey\", \"phone\": \"0119993323\", \"birth\": \"1118\"}\n",
        "\"name\" in a\n",
        "\"foo\" in a # foo라는 key값이 없기때문에 false라고 출력."
      ],
      "execution_count": 0,
      "outputs": [
        {
          "output_type": "stream",
          "text": [
            "10\n",
            "99\n",
            "a\n",
            "2\n",
            "1118\n",
            "0109993323\n",
            "pey\n",
            "b\n",
            "딕셔너리: 관련 내장 함수들\n",
            "['name', 'phone', 'birth']\n",
            "name\n",
            "phone\n",
            "birth\n"
          ],
          "name": "stdout"
        },
        {
          "output_type": "execute_result",
          "data": {
            "text/plain": [
              "False"
            ]
          },
          "metadata": {
            "tags": []
          },
          "execution_count": 7
        }
      ]
    },
    {
      "cell_type": "code",
      "metadata": {
        "id": "iQVSLcAxsyuN",
        "colab_type": "code",
        "colab": {}
      },
      "source": [
        ""
      ],
      "execution_count": 0,
      "outputs": []
    }
  ]
}