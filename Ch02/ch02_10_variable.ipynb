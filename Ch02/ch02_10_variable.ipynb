{
  "nbformat": 4,
  "nbformat_minor": 0,
  "metadata": {
    "colab": {
      "name": "ch02_10_variable.ipynb",
      "provenance": [],
      "include_colab_link": true
    },
    "kernelspec": {
      "name": "python3",
      "display_name": "Python 3"
    }
  },
  "cells": [
    {
      "cell_type": "markdown",
      "metadata": {
        "id": "view-in-github",
        "colab_type": "text"
      },
      "source": [
        "<a href=\"https://colab.research.google.com/github/Tajyu/sm11/blob/master/Ch02/ch02_10_variable.ipynb\" target=\"_parent\"><img src=\"https://colab.research.google.com/assets/colab-badge.svg\" alt=\"Open In Colab\"/></a>"
      ]
    },
    {
      "cell_type": "markdown",
      "metadata": {
        "id": "WLk_TezOwS7I",
        "colab_type": "text"
      },
      "source": [
        "\n",
        "\n",
        ">변수란?\n",
        "\n",
        "변수는 자료(값)을 저장하는 공간\n",
        "\n"
      ]
    },
    {
      "cell_type": "code",
      "metadata": {
        "id": "OTJVjqKbwN1M",
        "colab_type": "code",
        "colab": {}
      },
      "source": [
        "a = [1, 2, 3]\n",
        "print(id(a))  # a 변수가 가리키는 메모리의 주소\n",
        "# list\n",
        "a = [1, 2, 3] # 재정의하면 주소가 달라진다.\n",
        "print(id(a))\n",
        "b = a # 같다고 정의하였기때문에 모든것을 공유한다.\n",
        "print(id(a), id(b)) # a=b 이기때문에 주소도 같다.\n",
        "a is b # a랑 b는 같다.\n",
        "a[1] = 4\n",
        "print(a, b)\n",
        "a is b\n",
        "b = [1, 2, 3]\n",
        "print(id(b))\n",
        "print(a is b)\n",
        "#\n",
        "# b 변수를 생성할 때 a 변수의 값을 가져오면서\n",
        "# a와는 다른 주소를 가리키도록 만들수는 없을까?\n",
        "# 다음 2가지 방법이 있다.\n",
        "#\n",
        "# 1. [:] 이용\n",
        "#\n",
        "a = [1, 2, 3]\n",
        "b = a[:]\n",
        "a[1] = 4\n",
        "print(a, b)\n",
        "#\n",
        "# 2. copy 모듈 이용\n",
        "#\n",
        "a = [1, 2, 3]\n",
        "# from copy import copy\n",
        "# b = copy(a) vscode에서는 정상작동\n",
        "\n",
        "print(b is a, a is b) # 값은 같지만 주소가 달라서 (False, False)라고 뜬다."
      ],
      "execution_count": 0,
      "outputs": []
    },
    {
      "cell_type": "markdown",
      "metadata": {
        "id": "Yp0bqhu7xMSu",
        "colab_type": "text"
      },
      "source": [
        "변수를 만드는 여러가지 방범"
      ]
    },
    {
      "cell_type": "code",
      "metadata": {
        "id": "KPBoniOxws2S",
        "colab_type": "code",
        "colab": {
          "base_uri": "https://localhost:8080/",
          "height": 215
        },
        "outputId": "c8077da9-e53b-4ddd-d1cb-274c5c3cad11"
      },
      "source": [
        "a, b = \"python\", \"life\" # 바로\n",
        "print(a)\n",
        "print(b)\n",
        "\n",
        "a, b = (\"python\", \"life\") # 튜플\n",
        "print(a)\n",
        "print(b)\n",
        "print(a, b)\n",
        "\n",
        "[a, b] = [\"python\", \"life\"] # 리스트\n",
        "print(a)\n",
        "print(b)\n",
        "\n",
        "(a, b) = [\"python\", \"life\"] # 튜플 + 리스트\n",
        "print(a)\n",
        "print(b)\n",
        "\n",
        "a = 3\n",
        "b = 5\n",
        "a, b = b, a\n",
        "print(a)\n",
        "print(b)"
      ],
      "execution_count": 6,
      "outputs": [
        {
          "output_type": "stream",
          "text": [
            "python\n",
            "life\n",
            "python\n",
            "life\n",
            "python life\n",
            "python\n",
            "life\n",
            "python\n",
            "life\n",
            "5\n",
            "3\n"
          ],
          "name": "stdout"
        }
      ]
    },
    {
      "cell_type": "code",
      "metadata": {
        "id": "BQVllteBxZpH",
        "colab_type": "code",
        "colab": {}
      },
      "source": [
        ""
      ],
      "execution_count": 0,
      "outputs": []
    }
  ]
}