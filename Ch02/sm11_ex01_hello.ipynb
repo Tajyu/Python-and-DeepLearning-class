{
  "nbformat": 4,
  "nbformat_minor": 0,
  "metadata": {
    "colab": {
      "name": "sm11_ex01_hello.ipynb",
      "provenance": [],
      "collapsed_sections": [],
      "include_colab_link": true
    },
    "kernelspec": {
      "name": "python3",
      "display_name": "Python 3"
    }
  },
  "cells": [
    {
      "cell_type": "markdown",
      "metadata": {
        "id": "view-in-github",
        "colab_type": "text"
      },
      "source": [
        "<a href=\"https://colab.research.google.com/github/Tajyu/sm11/blob/master/Ch02/sm11_ex01_hello.ipynb\" target=\"_parent\"><img src=\"https://colab.research.google.com/assets/colab-badge.svg\" alt=\"Open In Colab\"/></a>"
      ]
    },
    {
      "cell_type": "markdown",
      "metadata": {
        "id": "UfpWGFxDdpyY",
        "colab_type": "text"
      },
      "source": [
        "## sm11 report 1"
      ]
    },
    {
      "cell_type": "code",
      "metadata": {
        "id": "y5e7rdnHdWfy",
        "colab_type": "code",
        "outputId": "f35f2269-f7b6-4340-9aa8-8e78745a14cf",
        "colab": {
          "base_uri": "https://localhost:8080/",
          "height": 125
        }
      },
      "source": [
        "a=1\n",
        "b=2\n",
        "c=a+b\n",
        "print(c)\n",
        "################\n",
        "s2=\"I love Python!\"\n",
        "print(s2)\n",
        "# list\n",
        "x=[1,2,3]\n",
        "y=[4,5,6]\n",
        "print(x)\n",
        "print(x+y)\n",
        "# funcion\n",
        "def add(a,b):\n",
        "    return a+b\n",
        "#\n",
        "print(add(1,2))\n",
        "add(x,y)"
      ],
      "execution_count": 0,
      "outputs": [
        {
          "output_type": "stream",
          "text": [
            "3\n",
            "I love Python!\n",
            "[1, 2, 3]\n",
            "[1, 2, 3, 4, 5, 6]\n",
            "3\n"
          ],
          "name": "stdout"
        },
        {
          "output_type": "execute_result",
          "data": {
            "text/plain": [
              "[1, 2, 3, 4, 5, 6]"
            ]
          },
          "metadata": {
            "tags": []
          },
          "execution_count": 5
        }
      ]
    },
    {
      "cell_type": "code",
      "metadata": {
        "id": "IRHuwBZ9eLcE",
        "colab_type": "code",
        "outputId": "e16d84ff-50ca-40d9-bad2-2375c73d76c7",
        "colab": {
          "base_uri": "https://localhost:8080/",
          "height": 35
        }
      },
      "source": [
        "a=1\n",
        "b=2\n",
        "c=a+b\n",
        "print(c)"
      ],
      "execution_count": 0,
      "outputs": [
        {
          "output_type": "stream",
          "text": [
            "3\n"
          ],
          "name": "stdout"
        }
      ]
    },
    {
      "cell_type": "markdown",
      "metadata": {
        "id": "8zy-WspzfKSo",
        "colab_type": "text"
      },
      "source": [
        "### 문자열"
      ]
    },
    {
      "cell_type": "code",
      "metadata": {
        "id": "SJflzdHkfI5I",
        "colab_type": "code",
        "outputId": "140ed159-0fdf-48a8-d387-ca57649ebb5b",
        "colab": {
          "base_uri": "https://localhost:8080/",
          "height": 35
        }
      },
      "source": [
        "s2=\"I love Python!\"\n",
        "print(s2)"
      ],
      "execution_count": 0,
      "outputs": [
        {
          "output_type": "stream",
          "text": [
            "I love Python!\n"
          ],
          "name": "stdout"
        }
      ]
    },
    {
      "cell_type": "markdown",
      "metadata": {
        "id": "QNEtmNvdfTdw",
        "colab_type": "text"
      },
      "source": [
        "리스트 출력\n"
      ]
    },
    {
      "cell_type": "code",
      "metadata": {
        "id": "YVB5D7ccfQKA",
        "colab_type": "code",
        "outputId": "fa1d0a4f-2f63-488d-efa9-e83359d3d578",
        "colab": {
          "base_uri": "https://localhost:8080/",
          "height": 53
        }
      },
      "source": [
        "# list\n",
        "x=[1,2,3]\n",
        "y=[4,5,6]\n",
        "print(x)\n",
        "print(x+y)"
      ],
      "execution_count": 0,
      "outputs": [
        {
          "output_type": "stream",
          "text": [
            "[1, 2, 3]\n",
            "[1, 2, 3, 4, 5, 6]\n"
          ],
          "name": "stdout"
        }
      ]
    },
    {
      "cell_type": "markdown",
      "metadata": {
        "id": "8qwEktO_fdXh",
        "colab_type": "text"
      },
      "source": [
        "함수 출력"
      ]
    },
    {
      "cell_type": "code",
      "metadata": {
        "id": "rTlOsnzffchQ",
        "colab_type": "code",
        "outputId": "97f6651c-f8ba-4a1e-c221-12f92f0edb83",
        "colab": {
          "base_uri": "https://localhost:8080/",
          "height": 53
        }
      },
      "source": [
        "# funcion\n",
        "def add(a,b):\n",
        "    return a+b\n",
        "#\n",
        "print(add(1,2))\n",
        "add(x,y)"
      ],
      "execution_count": 0,
      "outputs": [
        {
          "output_type": "stream",
          "text": [
            "3\n"
          ],
          "name": "stdout"
        },
        {
          "output_type": "execute_result",
          "data": {
            "text/plain": [
              "[1, 2, 3, 4, 5, 6]"
            ]
          },
          "metadata": {
            "tags": []
          },
          "execution_count": 11
        }
      ]
    }
  ]
}