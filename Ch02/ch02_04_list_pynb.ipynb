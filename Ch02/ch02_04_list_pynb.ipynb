{
  "nbformat": 4,
  "nbformat_minor": 0,
  "metadata": {
    "colab": {
      "name": "ch02_04_list.pynb",
      "provenance": [],
      "include_colab_link": true
    },
    "kernelspec": {
      "name": "python3",
      "display_name": "Python 3"
    }
  },
  "cells": [
    {
      "cell_type": "markdown",
      "metadata": {
        "id": "view-in-github",
        "colab_type": "text"
      },
      "source": [
        "<a href=\"https://colab.research.google.com/github/Tajyu/sm11/blob/master/Ch02/ch02_04_list_pynb.ipynb\" target=\"_parent\"><img src=\"https://colab.research.google.com/assets/colab-badge.svg\" alt=\"Open In Colab\"/></a>"
      ]
    },
    {
      "cell_type": "markdown",
      "metadata": {
        "id": "8n0coTrSk9G1",
        "colab_type": "text"
      },
      "source": [
        "파이썬 리스트란?"
      ]
    },
    {
      "cell_type": "code",
      "metadata": {
        "id": "xHj0_SxkTGJ3",
        "colab_type": "code",
        "colab": {}
      },
      "source": [
        "odd = [1, 3, 5, 7, 9]\n",
        "print(type(odd))\n",
        "#원래 파이썬에는 배열이없다. numpy라는 모듈에서는 가능.\n",
        "\n",
        "# 여러 가지 리스트\n",
        "a = []   # list 초기화\n",
        "print(a)\n",
        "b = [1, 2, 3]\n",
        "print(b)\n",
        "c = ['Life', 'is', 'too', 'short']\n",
        "print(c)\n",
        "d = [1, 2, 'Life', 'is']\n",
        "print(d)\n",
        "e = [1, 2, ['Life', 'is']] #파이썬은 리스트안에 리스트가능.\n",
        "print(e)\n",
        "\n",
        "a = list()\n",
        "print(a)   # []"
      ],
      "execution_count": 0,
      "outputs": []
    },
    {
      "cell_type": "markdown",
      "metadata": {
        "id": "wAhiqxA3lfVU",
        "colab_type": "text"
      },
      "source": [
        "파이썬 리스트_인덱싱"
      ]
    },
    {
      "cell_type": "code",
      "metadata": {
        "id": "Ea5TeQ1MleoI",
        "colab_type": "code",
        "colab": {}
      },
      "source": [
        "#항상 첫번째 인덱스는 0번\n",
        "#3은 0부터시작이여서 2번인데 3을 출력하면 범위를 벗어나서 에러가 뜬다.\n",
        "a = [1, 2, 3]\n",
        "print(a)\n",
        "print(a[0])\n",
        "# print(a[3]) 3번째인덱스가없어서 출력 안된다.\n",
        "print(a[0]+a[2]) #인덱스끼리 덧셈되어 출력\n",
        "print(a[-1]) # -를 붙이게되면 뒤에서부터 인덱스 시작\n",
        "#\n",
        "a = [1, 2, 3, ['a', 'b', 'c']] # 리스트안에 리스트는 하나의 인덱스로 간주한다.\n",
        "print(a[0])\n",
        "print(a[3])\n",
        "print(a[-1])\n",
        "# chaek this: a[0] + a[-1] -> TypeError\n",
        "# Indexing inner list\n",
        "print(a[3][1]) #2차원배열구조와 유사 / 내부리스트안에 인덱싱\n",
        "print(a[-1][0])\n",
        "print(a[-1][-1])\n",
        "# a[0] + a[-1] 정수와 리스트를 더하기때문에 에러가 뜬다.\n",
        "\n",
        "# Indexing of triple list\n",
        "# 삼중 리스트에서 인덱싱하기\n",
        "a = [1, 2, ['a', 'b', ['Life', 'is']]]\n",
        "print(a[2])\n",
        "print(a[2][-1])\n",
        "print(a[2][-1][0])   # 'Life'\n",
        "a[-1][-1][0]  # 'Life'"
      ],
      "execution_count": 0,
      "outputs": []
    },
    {
      "cell_type": "markdown",
      "metadata": {
        "id": "P9jivyPymQRz",
        "colab_type": "text"
      },
      "source": [
        "파이썬_리스트_슬라이싱"
      ]
    },
    {
      "cell_type": "code",
      "metadata": {
        "id": "E_MC9coUlbvt",
        "colab_type": "code",
        "colab": {}
      },
      "source": [
        "a = [1, 2, 3, 4, 5]\n",
        "print(a[0:2])\n",
        "a = \"12345\"\n",
        "print(a[0:2])\n",
        "#\n",
        "a = [1, 2, 3, 4, 5]\n",
        "print(a[0:2])\n",
        "print(a[2:])\n",
        "print(a[0:4:2])  # a[start:end:step] 2는 2칸\n",
        "#\n",
        "# 중첩된 리스트에서 슬라이싱하기\n",
        "#\n",
        "a = [1, 2, 3, ['a', 'b', 'c'], 4, 5] # len(a)는 길이 = 6\n",
        "print(a[2:5])\n",
        "print(a[3][:2]) # [3]은 ['a', 'b' 'c'] [:2]는 2번째까지\n",
        "#\n",
        "#\n",
        "#\n",
        "# 리스트: 인덱싱, 슬라이싱 연습\n",
        "#\n",
        "x = [1, 2, 3, 4, 5, 6, 7, 8, 9]\n",
        "print(x[0:3])\n",
        "print(x[3:])\n",
        "print(x[3:-1]) # 9 제외하고 나옴\n",
        "print(x[:6])\n",
        "print(x[0:6:2])  # x[:6:2]\n",
        "print(x[-1])\n",
        "print(x[-3])\n",
        "print(x[:-3])\n",
        "\n",
        "#[::]은 역순\n",
        "print(x[::-1]) #뒤에서부터 순차적으로(역순)\n",
        "x[-3::-1] # -3인  7부터 -1인 1까지"
      ],
      "execution_count": 0,
      "outputs": []
    },
    {
      "cell_type": "markdown",
      "metadata": {
        "id": "7FnccAtbm42D",
        "colab_type": "text"
      },
      "source": [
        "파이썬_리스트_연산"
      ]
    },
    {
      "cell_type": "code",
      "metadata": {
        "id": "fPbRK1zFlMFF",
        "colab_type": "code",
        "colab": {}
      },
      "source": [
        "# 리스트 더하기(+)\n",
        "#\n",
        "a = [1, 2, 3]\n",
        "b = [4, 5, 6]\n",
        "print(a + b)\n",
        "#\n",
        "# 리스트 반복하기(*)\n",
        "#\n",
        "print(a * 3)\n",
        "#\n",
        "# 리스트 길이구하기\n",
        "#\n",
        "print(len(a))\n",
        "print(len(a*3)) # *3을해주면(반복) 길이는 9가 나온다.\n",
        "#\n",
        "# 초보자가 범하기 쉬운 리스트 연산 오류\n",
        "#\n",
        "a = [1, 2, 3]\n",
        "# print(a[2] + \"hi\") # 오류 / 문자열끼리 더해야한다.\n",
        "print(str(a[2]) + \"hi\") # 문자열로 변경후 더한다.\n",
        "#\n",
        "# 리스트의 수정과 삭제\n",
        "#\n",
        "a = [1, 2, 3]\n",
        "a[2] = 4  # list is mutable!!! 2번째자리에 3을 4로 바꾼다.\n",
        "print(a)\n",
        "\n",
        "#\n",
        "# del 함수 사용해 리스트 요소 삭제하기\n",
        "#\n",
        "a = [1, 2, 3]\n",
        "del a[1] # 1번째 인덱스인 2를 제거\n",
        "print(a)\n",
        "a = [1, 2, 3, 4, 5]\n",
        "del a[2:] # 2번째 인덱스(3)부터 삭제\n",
        "a"
      ],
      "execution_count": 0,
      "outputs": []
    },
    {
      "cell_type": "code",
      "metadata": {
        "id": "As5yN6_WnQNC",
        "colab_type": "code",
        "colab": {}
      },
      "source": [
        ""
      ],
      "execution_count": 0,
      "outputs": []
    }
  ]
}