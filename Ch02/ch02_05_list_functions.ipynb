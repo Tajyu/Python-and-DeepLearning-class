{
  "nbformat": 4,
  "nbformat_minor": 0,
  "metadata": {
    "colab": {
      "name": "ch02_05_list_functions.ipynb",
      "provenance": [],
      "include_colab_link": true
    },
    "kernelspec": {
      "name": "python3",
      "display_name": "Python 3"
    }
  },
  "cells": [
    {
      "cell_type": "markdown",
      "metadata": {
        "id": "view-in-github",
        "colab_type": "text"
      },
      "source": [
        "<a href=\"https://colab.research.google.com/github/Tajyu/sm11/blob/master/Ch02/ch02_05_list_functions.ipynb\" target=\"_parent\"><img src=\"https://colab.research.google.com/assets/colab-badge.svg\" alt=\"Open In Colab\"/></a>"
      ]
    },
    {
      "cell_type": "markdown",
      "metadata": {
        "id": "USkyySyynysD",
        "colab_type": "text"
      },
      "source": [
        "파이썬_리스트_내부함수이용"
      ]
    },
    {
      "cell_type": "code",
      "metadata": {
        "id": "3oqKtWaEnsbh",
        "colab_type": "code",
        "colab": {}
      },
      "source": [
        "# 리스트에 요소 추가(append)\n",
        "#\n",
        "a = [1, 2, 3]\n",
        "a.append(4)\n",
        "print(a)\n",
        "# 리스트 안에는 어떤 자료형도 추가할 수 있다.\n",
        "# 리스트에 다시 리스트를 추가한 결과\n",
        "a.append([5, 6])\n",
        "print(a)\n",
        "#\n",
        "# 리스트 정렬(sort)\n",
        "#\n",
        "a = [1, 4, 3, 2]\n",
        "a.sort() # sort는 오름차순으로 정렬\n",
        "print(a)\n",
        "\n",
        "s = [\"a\", \"c\", \"b\"]\n",
        "s.sort()\n",
        "print(s)\n",
        "#\n",
        "# 리스트 뒤집기(reverse)\n",
        "#\n",
        "a = [\"a\", \"c\", \"b\"]\n",
        "a.reverse() \n",
        "print(a)\n",
        "\n",
        "#\n",
        "# 위치 반환(index)\n",
        "#    0  1  2\n",
        "a = [1, 2, 3]\n",
        "print(a.index(3)) # 3은 value라서 2번째 자리에있기때문에 출력값은 2\n",
        "print(a.index(1))\n",
        "# a.index(0)  \n",
        "#0은 리스트 안에 없기때문에 출력 X\n",
        "s = [\"a\", \"c\", \"b\"]\n",
        "#print(s.index(3))  \n",
        "# Error 3이라는 값이 없기때문에 에러\n",
        "\n",
        "#print(s.index(a))  \n",
        "# Error 문자열이기때문에 \" \" 안에 값을 입력해줘야한다.\n",
        "\n",
        "print(s.index(\"a\")) \n",
        "\n",
        "#\n",
        "# 리스트에 요소 삽입(insert)\n",
        "#\n",
        "a = [1, 2, 3]\n",
        "a.insert(0, 4) # 0번째 인덱스에 value값이 4를 넣는다.\n",
        "print(a)\n",
        "a.insert(3, 5)  # 3번째 인덱스에 value값이 5를 넣는다. 원래 3번째 자리에있던 수는 뒤로 간다.\n",
        "print(a)\n",
        "\n",
        "#\n",
        "# 리스트 요소 제거(remove)\n",
        "#\n",
        "a = [1, 2, 3, 1, 2, 3]\n",
        "a.remove(3) # value값이 3인 인덱스를 차례대로 제거\n",
        "print(a)\n",
        "# 3을 리스트 a에서 완전히 제거\n",
        "a.remove(3)\n",
        "print(a)\n",
        "\n",
        "# a.remove(3) \n",
        "# ValueError 3이없기때문\n",
        "#\n",
        "# 리스트 요소 끄집어내기(pop)\n",
        "#\n",
        "a = [1, 2, 3]\n",
        "#a[2] + \"hi\"\n",
        "# TypeError \n",
        "print(str(a[2]) + \"hi\")\n",
        "#\n",
        "# 리스트의 수정과 삭제\n",
        "#\n",
        "a = [1, 2, 3]\n",
        "# pop()은 리스트의 맨 마지막 요소를 돌려주고 그 요소는 삭제한다.\n",
        "a.pop()\n",
        "print(a)\n",
        "#\n",
        "a = [1, 2, 3]\n",
        "# pop(x)는 리스트의 index가 x인 요소를 돌려주고 그 요소는 삭제한다.\n",
        "a.pop(1)\n",
        "print(a)\n",
        "\n",
        "#a.pop(2)  \n",
        "# IndexError 2번인 인덱스가 없다.\n",
        "\n",
        "#\n",
        "# 리스트에 포함된 요소 x의 개수 세기(count)\n",
        "#\n",
        "a = [1, 2, 3, 1]\n",
        "print(a.count(1)) # count는 특정 vlaue의 갯수를 알고싶을때 사용함\n",
        "#\n",
        "# 리스트 확장(extend)\n",
        "#\n",
        "a = [1, 2, 3]\n",
        "a.extend([4, 5])\n",
        "a+=[4,5]\n",
        "print(a)  # a.extend([4, 5])는 a += [4, 5]와 동일\n",
        "\n",
        "b = [6, 7]\n",
        "a.extend(b)\n",
        "print(a)"
      ],
      "execution_count": 0,
      "outputs": []
    },
    {
      "cell_type": "code",
      "metadata": {
        "id": "MfeuriveoF5l",
        "colab_type": "code",
        "colab": {}
      },
      "source": [
        ""
      ],
      "execution_count": 0,
      "outputs": []
    }
  ]
}