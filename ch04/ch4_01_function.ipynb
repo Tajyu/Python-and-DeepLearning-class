{
  "nbformat": 4,
  "nbformat_minor": 0,
  "metadata": {
    "colab": {
      "name": "ch4_01_function.ipynb",
      "provenance": [],
      "include_colab_link": true
    },
    "kernelspec": {
      "name": "python3",
      "display_name": "Python 3"
    }
  },
  "cells": [
    {
      "cell_type": "markdown",
      "metadata": {
        "id": "view-in-github",
        "colab_type": "text"
      },
      "source": [
        "<a href=\"https://colab.research.google.com/github/Tajyu/sm11/blob/master/ch04/ch4_01_function.ipynb\" target=\"_parent\"><img src=\"https://colab.research.google.com/assets/colab-badge.svg\" alt=\"Open In Colab\"/></a>"
      ]
    },
    {
      "cell_type": "markdown",
      "metadata": {
        "id": "nOFsSOgQKadP",
        "colab_type": "text"
      },
      "source": [
        "## 함수란 무엇인가?\n",
        "### 입력값을 가지고 어떤 일을 수행한 다음에 \n",
        "### 그 결과물을 내어놓는 것"
      ]
    },
    {
      "cell_type": "markdown",
      "metadata": {
        "id": "zKmXx-C5KXrY",
        "colab_type": "text"
      },
      "source": [
        "## 함수를 사용하는 이유는 무엇일까?\n",
        "## 반복되는 부분을 함수로 전환.\n",
        "## 코딩을 모듈화"
      ]
    },
    {
      "cell_type": "markdown",
      "metadata": {
        "id": "COprSOrBLB8D",
        "colab_type": "text"
      },
      "source": [
        "## 파이썬 함수의 구조\n",
        "### def 함수명(매개변수):\n",
        "### <수행할 문장1>\n",
        "### <수행할 문장2>\n",
        "###  ..."
      ]
    },
    {
      "cell_type": "code",
      "metadata": {
        "id": "9w8968sHJi07",
        "colab_type": "code",
        "colab": {
          "base_uri": "https://localhost:8080/",
          "height": 53
        },
        "outputId": "9f215615-63a9-4772-e7d3-b68f35ca92f8"
      },
      "source": [
        "# add() 함수를 정의\n",
        "def add(a, b): \n",
        "    return a + b\n",
        "\n",
        "# add() 함수를 사용\n",
        "a=3\n",
        "b=4\n",
        "c=add(a,b)\n",
        "print(c)\n",
        "\n",
        "x=[1,2,3]\n",
        "y=[4,5,6]\n",
        "z=x+y\n",
        "print(z)"
      ],
      "execution_count": 3,
      "outputs": [
        {
          "output_type": "stream",
          "text": [
            "7\n",
            "[1, 2, 3, 4, 5, 6]\n"
          ],
          "name": "stdout"
        }
      ]
    },
    {
      "cell_type": "markdown",
      "metadata": {
        "id": "4AvwpP2pMDmh",
        "colab_type": "text"
      },
      "source": [
        "## 매개변수와 인수릐 차이를 이해하자\n",
        "\n",
        "### 매개변수는 함수에 입력으로 전달된 값을 받는 변수\n",
        "#### 인수는 함수를 호출할 때 전달하는 입력값을 의미\n",
        "\n",
        "### def add(a, b):  # a, b는 매개변수\n",
        "###    return a+b\n",
        "\n",
        "### print(add(3, 4))  # 3, 4는 인수"
      ]
    },
    {
      "cell_type": "markdown",
      "metadata": {
        "id": "kwL9pcR9MV5_",
        "colab_type": "text"
      },
      "source": [
        "## 입력값과 결괏값에 따른 함수의 형태\n",
        "### 입력값 ---> 함수 ----> 결괏값\n",
        "### 일반적인 함수\n",
        "### 입력값과 결괏값이 있는 함수\n",
        "\n",
        "### def 함수이름(매개변수):\n",
        "### <수행할 문장>\n",
        "### ...\n",
        "### return 결과값"
      ]
    },
    {
      "cell_type": "code",
      "metadata": {
        "id": "ZHVdMmtXLVOc",
        "colab_type": "code",
        "colab": {
          "base_uri": "https://localhost:8080/",
          "height": 35
        },
        "outputId": "420440b8-b0f7-4d5e-f426-cc13d1d3f01d"
      },
      "source": [
        "def add2(a, b): \n",
        "    result = a + b \n",
        "    return result\n",
        "\n",
        "# 입력값과 결괏값이 있는 함수의 사용법\n",
        "# 결괏값을 받을 변수 = 함수이름(입력인수1, 입력인수2, ...)\n",
        "a = add2(3, 4)\n",
        "print(a)\n"
      ],
      "execution_count": 5,
      "outputs": [
        {
          "output_type": "stream",
          "text": [
            "7\n"
          ],
          "name": "stdout"
        }
      ]
    },
    {
      "cell_type": "code",
      "metadata": {
        "id": "7WILMr4WOxBg",
        "colab_type": "code",
        "colab": {
          "base_uri": "https://localhost:8080/",
          "height": 35
        },
        "outputId": "1c185bf5-61dd-40be-afc3-02f3210e1489"
      },
      "source": [
        "# 입력값이 없는 함수\n",
        "\n",
        "def say(): \n",
        "    return 'Hi'\n",
        "\n",
        "# 입력값이 없는 함수의 사용법\n",
        "# 결괏값을 받을 변수 = 함수이름()\n",
        "a = say()\n",
        "print(a)\n"
      ],
      "execution_count": 6,
      "outputs": [
        {
          "output_type": "stream",
          "text": [
            "Hi\n"
          ],
          "name": "stdout"
        }
      ]
    },
    {
      "cell_type": "code",
      "metadata": {
        "id": "9hxedChjP_S4",
        "colab_type": "code",
        "colab": {
          "base_uri": "https://localhost:8080/",
          "height": 71
        },
        "outputId": "6201694a-27d9-493e-8453-9f40be13413d"
      },
      "source": [
        "# 결괏값이 없는 함수\n",
        "\n",
        "def add3(a, b): \n",
        "    print(\"%d, %d의 합은 %d입니다.\" % (a, b, a+b))\n",
        "\n",
        "\n",
        "# 결괏값이 없는 함수의 사용법\n",
        "# 함수이름(입력인수1, 입력인수2, ...)\n",
        "add3(3, 4)\n",
        "\n",
        "# 다음 결과는 무엇인가?\n",
        "a = add3(3, 4) \n",
        "print(a) #return을 안해서"
      ],
      "execution_count": 10,
      "outputs": [
        {
          "output_type": "stream",
          "text": [
            "3, 4의 합은 7입니다.\n",
            "3, 4의 합은 7입니다.\n",
            "None\n"
          ],
          "name": "stdout"
        }
      ]
    },
    {
      "cell_type": "code",
      "metadata": {
        "id": "Y2FEU4y2QBek",
        "colab_type": "code",
        "colab": {
          "base_uri": "https://localhost:8080/",
          "height": 35
        },
        "outputId": "95d0b387-6577-4fa9-a2d7-3bb3506b328b"
      },
      "source": [
        "# 입력값도 결괏값도 없는 함수\n",
        "\n",
        "def say2(): \n",
        "    print('Hi')\n",
        "\n",
        "\n",
        "# 입력값도 결괏값도 없는 함수의 사용법\n",
        "# 함수이름()\n",
        "say()\n"
      ],
      "execution_count": 9,
      "outputs": [
        {
          "output_type": "execute_result",
          "data": {
            "text/plain": [
              "'Hi'"
            ]
          },
          "metadata": {
            "tags": []
          },
          "execution_count": 9
        }
      ]
    },
    {
      "cell_type": "markdown",
      "metadata": {
        "id": "OqFohohcQ8OA",
        "colab_type": "text"
      },
      "source": [
        "## 매개변수의 값을 지정하여 호출하기"
      ]
    },
    {
      "cell_type": "code",
      "metadata": {
        "id": "z8FmHVhmQ8AY",
        "colab_type": "code",
        "colab": {
          "base_uri": "https://localhost:8080/",
          "height": 53
        },
        "outputId": "92b01fb5-59c9-49ae-b99c-33f31077c3ee"
      },
      "source": [
        "def add4(a, b):\n",
        "    return a+b\n",
        "\n",
        "\n",
        "result = add4(a=3, b=7)  # a에 3, b에 7을 전달\n",
        "print(result)\n",
        "# 매개변수의 순서에 상관없이 사용\n",
        "result = add4(b=5, a=3)  # b에 5, a에 3을 전달\n",
        "print(result)"
      ],
      "execution_count": 11,
      "outputs": [
        {
          "output_type": "stream",
          "text": [
            "10\n",
            "8\n"
          ],
          "name": "stdout"
        }
      ]
    },
    {
      "cell_type": "markdown",
      "metadata": {
        "id": "okJcaBgRRDuf",
        "colab_type": "text"
      },
      "source": [
        "## 입력값이 몇 개가 될지 모를 때는 어떻게 해야 할까?\n",
        "### def 함수이름(*매개변수): \n",
        "### <수행할 문장>\n",
        "###  ..."
      ]
    },
    {
      "cell_type": "code",
      "metadata": {
        "id": "UmjHX_KHQ_Fs",
        "colab_type": "code",
        "colab": {
          "base_uri": "https://localhost:8080/",
          "height": 35
        },
        "outputId": "87efead9-7bca-4b23-c10c-d52df4271a0a"
      },
      "source": [
        "def add_many(*args):\n",
        "    result = 0 \n",
        "    for i in args: \n",
        "        result = result + i \n",
        "    return result \n",
        "\n",
        "\n",
        "add_many(1, 2, 3)\n",
        "add_many(1, 2, 3, 4, 5, 6, 7, 8, 9)\n",
        "\n",
        "result = add_many(1,2,3,4,5,6,7,8,9,10)\n",
        "print(result)\n"
      ],
      "execution_count": 12,
      "outputs": [
        {
          "output_type": "stream",
          "text": [
            "55\n"
          ],
          "name": "stdout"
        }
      ]
    },
    {
      "cell_type": "markdown",
      "metadata": {
        "id": "wglON-kxRYv4",
        "colab_type": "text"
      },
      "source": [
        "## 여러 개의 입력을 처리하는 함수(*args)"
      ]
    },
    {
      "cell_type": "code",
      "metadata": {
        "id": "ZNq7tXl9ROVp",
        "colab_type": "code",
        "colab": {
          "base_uri": "https://localhost:8080/",
          "height": 53
        },
        "outputId": "5896fb85-492a-4350-c0e1-879373138e76"
      },
      "source": [
        "def add_mul(choice, *args):\n",
        "    if choice == \"add\":\n",
        "        result = 0 \n",
        "        for i in args:\n",
        "            result = result + i \n",
        "    elif choice == \"mul\":\n",
        "        result = 1 \n",
        "        for i in args: \n",
        "            result = result * i \n",
        "    return result \n",
        "\n",
        "# add\n",
        "result = add_mul('add', 1,2,3,4,5)\n",
        "print(result)\n",
        "# multiply\n",
        "result = add_mul('mul', 1,2,3,4,5)\n",
        "print(result)"
      ],
      "execution_count": 13,
      "outputs": [
        {
          "output_type": "stream",
          "text": [
            "15\n",
            "120\n"
          ],
          "name": "stdout"
        }
      ]
    },
    {
      "cell_type": "markdown",
      "metadata": {
        "id": "Id2Yoy8WR9DY",
        "colab_type": "text"
      },
      "source": [
        "## 키워드 파라미터 kwargs"
      ]
    },
    {
      "cell_type": "code",
      "metadata": {
        "id": "dr9AFLm9R84R",
        "colab_type": "code",
        "colab": {
          "base_uri": "https://localhost:8080/",
          "height": 53
        },
        "outputId": "777cd74c-10bc-4428-de41-bc8e7ff249bf"
      },
      "source": [
        "def print_kwargs(**kwargs):\n",
        "    print(kwargs)\n",
        "    \n",
        "# print_kwargs 함수는 매개변수 kwargs를 출력하는 함수\n",
        "\n",
        "print_kwargs(a=1)\n",
        "\n",
        "print_kwargs(name='foo', age=3)\n",
        "\n",
        "#\n",
        "# **kwargs처럼 매개변수 이름 앞에 **을 붙이면 매개변수 \n",
        "# kwargs는 딕셔너리가 되고 모든 key=value 형태의 결괏값이 \n",
        "# 그 딕셔너리에 저장된다."
      ],
      "execution_count": 14,
      "outputs": [
        {
          "output_type": "stream",
          "text": [
            "{'a': 1}\n",
            "{'name': 'foo', 'age': 3}\n"
          ],
          "name": "stdout"
        }
      ]
    },
    {
      "cell_type": "markdown",
      "metadata": {
        "id": "mGb1qMIWSPoB",
        "colab_type": "text"
      },
      "source": [
        "## 함수의 결괏값은 언제나 하나"
      ]
    },
    {
      "cell_type": "code",
      "metadata": {
        "id": "wibRWwn7SFL6",
        "colab_type": "code",
        "colab": {
          "base_uri": "https://localhost:8080/",
          "height": 53
        },
        "outputId": "cfec48a8-ce8b-4f66-e673-d14ca1298e55"
      },
      "source": [
        "def add_and_mul(a,b): \n",
        "    return a+b, a*b      # 하나의 자료구조로 리턴해준다.\n",
        "\n",
        "\n",
        "# add_and_mul() 사용 1.\n",
        "result = add_and_mul(3,4)\n",
        "\n",
        "print(result)\n",
        "\n",
        "# add_and_mul() 사용 2.\n",
        "result1, result2 = add_and_mul(3, 4)\n",
        "\n",
        "result1, result2"
      ],
      "execution_count": 15,
      "outputs": [
        {
          "output_type": "stream",
          "text": [
            "(7, 12)\n"
          ],
          "name": "stdout"
        },
        {
          "output_type": "execute_result",
          "data": {
            "text/plain": [
              "(7, 12)"
            ]
          },
          "metadata": {
            "tags": []
          },
          "execution_count": 15
        }
      ]
    },
    {
      "cell_type": "markdown",
      "metadata": {
        "id": "KMAQJ-5PSUzQ",
        "colab_type": "text"
      },
      "source": [
        "## 잘못된 함수"
      ]
    },
    {
      "cell_type": "code",
      "metadata": {
        "id": "cpGNu91ZSSJ-",
        "colab_type": "code",
        "colab": {
          "base_uri": "https://localhost:8080/",
          "height": 35
        },
        "outputId": "ec17f92a-8627-476a-8f49-029e4275d340"
      },
      "source": [
        "def add_and_mul2(a,b): \n",
        "    return a+b \n",
        "    return a*b  # Not working!! 앞에 이미 return으로 초기화 되면 뒤에 무엇이 오더라도 안된다.\n",
        "\n",
        "result = add_and_mul2(2, 3)\n",
        "print(result)  "
      ],
      "execution_count": 18,
      "outputs": [
        {
          "output_type": "stream",
          "text": [
            "5\n"
          ],
          "name": "stdout"
        }
      ]
    },
    {
      "cell_type": "markdown",
      "metadata": {
        "id": "6sEo-4d1SvwX",
        "colab_type": "text"
      },
      "source": [
        "## return 의 용도: 함수 실행 종료"
      ]
    },
    {
      "cell_type": "code",
      "metadata": {
        "id": "jHZ2w9wZSvkk",
        "colab_type": "code",
        "colab": {
          "base_uri": "https://localhost:8080/",
          "height": 35
        },
        "outputId": "71f9a3e7-f996-40f7-fbb8-0c03957eba5e"
      },
      "source": [
        "def say_nick(nick): \n",
        "    if nick == \"바보\":  # 만약 닉네임이 바보라면 리턴\n",
        "        return \n",
        "    print(\"나의 별명은 %s 입니다.\" % nick)\n",
        "\n",
        "\n",
        "say_nick(\"홍길동\")\n",
        "say_nick(\"바보\") # 닉네임이 바보이기때문에 출력안된다."
      ],
      "execution_count": 24,
      "outputs": [
        {
          "output_type": "stream",
          "text": [
            "나의 별명은 홍길동 입니다.\n"
          ],
          "name": "stdout"
        }
      ]
    },
    {
      "cell_type": "markdown",
      "metadata": {
        "id": "tEJ-7rn4Tugy",
        "colab_type": "text"
      },
      "source": [
        "## \"매개변수에 초깃값 미리 설정하기"
      ]
    },
    {
      "cell_type": "code",
      "metadata": {
        "id": "lQCepbc2TLC_",
        "colab_type": "code",
        "colab": {
          "base_uri": "https://localhost:8080/",
          "height": 179
        },
        "outputId": "4699a1e6-3a89-4471-cbb4-5b467143e942"
      },
      "source": [
        "def say_myself(name, old, man=True): \n",
        "    print(\"나의 이름은 %s 입니다.\" % name) \n",
        "    print(\"나이는 %d살입니다.\" % old) \n",
        "    if man: \n",
        "        print(\"남자입니다.\")\n",
        "    else: \n",
        "        print(\"여자입니다.\")\n",
        "    \n",
        "\n",
        "say_myself(\"박응용\", 27) #처음에 man이 ture값이라서 자동으로 \"남자입니다.\"가 출력\n",
        "say_myself(\"박응용\", 27, True)\n",
        "\n",
        "say_myself(\"박응용\", 27, False)\n",
        "\n",
        "# 초깃값을 설정해 놓은 매개변수 뒤에 \n",
        "# 초깃값을 설정해 놓지 않은 매개변수는 사용할 수 없다\n",
        "# 초기화시키고 싶은 매개변수를 항상 뒤쪽에 놓는다."
      ],
      "execution_count": 23,
      "outputs": [
        {
          "output_type": "stream",
          "text": [
            "나의 이름은 박응용 입니다.\n",
            "나이는 27살입니다.\n",
            "남자입니다.\n",
            "나의 이름은 박응용 입니다.\n",
            "나이는 27살입니다.\n",
            "남자입니다.\n",
            "나의 이름은 박응용 입니다.\n",
            "나이는 27살입니다.\n",
            "여자입니다.\n"
          ],
          "name": "stdout"
        }
      ]
    },
    {
      "cell_type": "markdown",
      "metadata": {
        "id": "1Ny8Q64DWhTi",
        "colab_type": "text"
      },
      "source": [
        "## 함수 안에서 선언한 변수의 효력 범위\n",
        "### 전역변수\n",
        "### 지역 변수, 자동 변수"
      ]
    },
    {
      "cell_type": "code",
      "metadata": {
        "id": "_fxTxKe7Txyl",
        "colab_type": "code",
        "colab": {
          "base_uri": "https://localhost:8080/",
          "height": 53
        },
        "outputId": "52ef2365-e6c5-4a4f-ed8d-e0c503189d50"
      },
      "source": [
        "# vartest.py\n",
        "a = 1 #전역함수\n",
        "def vartest(a): #a는 지역변수\n",
        "    a = a +1\n",
        "\n",
        "vartest(a)\n",
        "print(a)\n",
        "\n",
        "# vartest_error.py\n",
        "def vartest2(z):\n",
        "    z = z + 1\n",
        "\n",
        "vartest2(3)\n",
        "print(z)  # Error"
      ],
      "execution_count": 25,
      "outputs": [
        {
          "output_type": "stream",
          "text": [
            "1\n",
            "[1, 2, 3, 4, 5, 6]\n"
          ],
          "name": "stdout"
        }
      ]
    },
    {
      "cell_type": "markdown",
      "metadata": {
        "id": "QeYhIRxCWvcI",
        "colab_type": "text"
      },
      "source": [
        "## 함수 안에서 함수 밖의 변수를 변경하는 방법\n",
        "### return 사용\n",
        "### global 변수 사용"
      ]
    },
    {
      "cell_type": "code",
      "metadata": {
        "id": "vm434DDfWvSF",
        "colab_type": "code",
        "colab": {
          "base_uri": "https://localhost:8080/",
          "height": 53
        },
        "outputId": "b5a10039-4c3d-4289-efab-5f9a1abd63fe"
      },
      "source": [
        "# 1. return 사용하기\n",
        "a = 1 \n",
        "def vartest3(a): \n",
        "    a = a +1 \n",
        "    return a\n",
        "\n",
        "a = vartest3(a) \n",
        "print(a)\n",
        "\n",
        "# 2. global 명령어 사용하기 // 권장하지않는다.\n",
        "a = 1 \n",
        "def vartest4(): \n",
        "    global a \n",
        "    a = a+1\n",
        "\n",
        "vartest4() \n",
        "print(a)"
      ],
      "execution_count": 26,
      "outputs": [
        {
          "output_type": "stream",
          "text": [
            "2\n",
            "2\n"
          ],
          "name": "stdout"
        }
      ]
    },
    {
      "cell_type": "markdown",
      "metadata": {
        "id": "jwLFDk7GW43B",
        "colab_type": "text"
      },
      "source": [
        "## lambda\n",
        "### lambda는 함수를 생성할 때 사용하는 예약어로 def와 동일한 역할을 한다. \n",
        "### 보통 함수를 한줄로 간결하게 만들 때 사용한다.\n",
        "\n",
        "### lambda 사용법\n",
        "\n",
        "### lambda 매개변수1, 매개변수2, ... : 매개변수를 이용한 표현식"
      ]
    },
    {
      "cell_type": "markdown",
      "metadata": {
        "id": "0PnGVu9pXCYw",
        "colab_type": "text"
      },
      "source": [
        "## lambda를 이용한 add 함수"
      ]
    },
    {
      "cell_type": "code",
      "metadata": {
        "id": "syNKuP3kW1Nu",
        "colab_type": "code",
        "colab": {
          "base_uri": "https://localhost:8080/",
          "height": 35
        },
        "outputId": "5559e677-c6e4-4977-ab33-a1becf294fe0"
      },
      "source": [
        "add = lambda a, b: a+b\n",
        "\n",
        "result = add(3, 4)\n",
        "print(result)\n",
        "\n",
        "# lambda 예약어로 만든 함수는 return 명령어가 없어도 결괏값을 돌려준다."
      ],
      "execution_count": 27,
      "outputs": [
        {
          "output_type": "stream",
          "text": [
            "7\n"
          ],
          "name": "stdout"
        }
      ]
    },
    {
      "cell_type": "markdown",
      "metadata": {
        "id": "YTxpZIk-XJyh",
        "colab_type": "text"
      },
      "source": [
        "## lambda 함수의 응용"
      ]
    },
    {
      "cell_type": "code",
      "metadata": {
        "id": "Xj5SFm0aXFHJ",
        "colab_type": "code",
        "colab": {
          "base_uri": "https://localhost:8080/",
          "height": 35
        },
        "outputId": "0986f50b-e062-4370-e71c-e6a0e1816e36"
      },
      "source": [
        "models = ['K-3000', 'N-1000', 'T-2000', 'X-5000']\n",
        "sorted(models, key=lambda x: x[-4:])\n"
      ],
      "execution_count": 28,
      "outputs": [
        {
          "output_type": "execute_result",
          "data": {
            "text/plain": [
              "['N-1000', 'T-2000', 'K-3000', 'X-5000']"
            ]
          },
          "metadata": {
            "tags": []
          },
          "execution_count": 28
        }
      ]
    }
  ]
}