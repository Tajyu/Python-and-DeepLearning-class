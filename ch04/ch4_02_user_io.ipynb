{
  "nbformat": 4,
  "nbformat_minor": 0,
  "metadata": {
    "colab": {
      "name": "ch4_02_user_io.ipynb",
      "provenance": [],
      "include_colab_link": true
    },
    "kernelspec": {
      "name": "python3",
      "display_name": "Python 3"
    }
  },
  "cells": [
    {
      "cell_type": "markdown",
      "metadata": {
        "id": "view-in-github",
        "colab_type": "text"
      },
      "source": [
        "<a href=\"https://colab.research.google.com/github/Tajyu/sm11/blob/master/ch04/ch4_02_user_io.ipynb\" target=\"_parent\"><img src=\"https://colab.research.google.com/assets/colab-badge.svg\" alt=\"Open In Colab\"/></a>"
      ]
    },
    {
      "cell_type": "markdown",
      "metadata": {
        "id": "nO8NRbJvb3kR",
        "colab_type": "text"
      },
      "source": [
        "## 사용자 입력과 출력\n",
        "### 사용자의 입력을 받는 방법과 출력하는 방법"
      ]
    },
    {
      "cell_type": "markdown",
      "metadata": {
        "id": "rw70yNN-b_IE",
        "colab_type": "text"
      },
      "source": [
        "## 사용자 입력\n",
        "### 사용자가 입력한 값을 어떤 변수에 대입"
      ]
    },
    {
      "cell_type": "markdown",
      "metadata": {
        "id": "VRixUmtScB3h",
        "colab_type": "text"
      },
      "source": [
        "## input의 사용"
      ]
    },
    {
      "cell_type": "code",
      "metadata": {
        "id": "2E68jZtib1P9",
        "colab_type": "code",
        "colab": {
          "base_uri": "https://localhost:8080/",
          "height": 53
        },
        "outputId": "57a27d23-af96-4098-df80-58b27a2adf1e"
      },
      "source": [
        "a = input()\n",
        "# Life is too short, you need python\n",
        "a"
      ],
      "execution_count": 1,
      "outputs": [
        {
          "output_type": "stream",
          "text": [
            " Life is too short, you need python\n"
          ],
          "name": "stdout"
        },
        {
          "output_type": "execute_result",
          "data": {
            "text/plain": [
              "' Life is too short, you need python'"
            ]
          },
          "metadata": {
            "tags": []
          },
          "execution_count": 1
        }
      ]
    },
    {
      "cell_type": "markdown",
      "metadata": {
        "id": "3yEPesrXcJIB",
        "colab_type": "text"
      },
      "source": [
        "## 입력 안내 문구를 이용한 input의 사용"
      ]
    },
    {
      "cell_type": "code",
      "metadata": {
        "id": "RXVJtTTmcE2d",
        "colab_type": "code",
        "colab": {
          "base_uri": "https://localhost:8080/",
          "height": 53
        },
        "outputId": "80f4a6ea-e643-490c-c013-9ccb5f436810"
      },
      "source": [
        "# input(\"안내 문구\")\n",
        "\n",
        "number = input(\"숫자를 입력하세요: \")\n",
        "\n",
        "print(number)\n"
      ],
      "execution_count": 2,
      "outputs": [
        {
          "output_type": "stream",
          "text": [
            "숫자를 입력하세요: 1\n",
            "1\n"
          ],
          "name": "stdout"
        }
      ]
    },
    {
      "cell_type": "markdown",
      "metadata": {
        "id": "UQmoe3KdcO6D",
        "colab_type": "text"
      },
      "source": [
        "## 사용자 출력: print()"
      ]
    },
    {
      "cell_type": "code",
      "metadata": {
        "id": "ms7oEIS7cMX3",
        "colab_type": "code",
        "colab": {
          "base_uri": "https://localhost:8080/",
          "height": 71
        },
        "outputId": "531a14c7-8428-429f-c21b-b1eb3ce0810c"
      },
      "source": [
        "# 입력한 자료형을 출력\n",
        "# print의 사용\n",
        "\n",
        "a = 123\n",
        "print(a)\n",
        "\n",
        "a = \"Python\"\n",
        "print(a)\n",
        "\n",
        "a = [1, 2, 3]\n",
        "print(a)"
      ],
      "execution_count": 3,
      "outputs": [
        {
          "output_type": "stream",
          "text": [
            "123\n",
            "Python\n",
            "[1, 2, 3]\n"
          ],
          "name": "stdout"
        }
      ]
    },
    {
      "cell_type": "markdown",
      "metadata": {
        "id": "AyxRPTOecWuC",
        "colab_type": "text"
      },
      "source": [
        "## 큰따옴표(\\\")로 둘러싸인 문자열은 + 연산과 동일\n"
      ]
    },
    {
      "cell_type": "code",
      "metadata": {
        "id": "PI6JIBancU0T",
        "colab_type": "code",
        "colab": {
          "base_uri": "https://localhost:8080/",
          "height": 53
        },
        "outputId": "e0cf20b6-ecf4-41e5-9efe-e557fce6e8ed"
      },
      "source": [
        "print(\"life\" \"is\" \"too short\")\n",
        "print(\"life\"+\"is\"+\"too short\")\n"
      ],
      "execution_count": 4,
      "outputs": [
        {
          "output_type": "stream",
          "text": [
            "lifeistoo short\n",
            "lifeistoo short\n"
          ],
          "name": "stdout"
        }
      ]
    },
    {
      "cell_type": "markdown",
      "metadata": {
        "id": "YPmt7kORcbqB",
        "colab_type": "text"
      },
      "source": [
        "## 문자열 띄어쓰기는 콤마로 한다\n"
      ]
    },
    {
      "cell_type": "code",
      "metadata": {
        "id": "gH_c8umXcYgi",
        "colab_type": "code",
        "colab": {
          "base_uri": "https://localhost:8080/",
          "height": 35
        },
        "outputId": "30132914-f1aa-4021-dd9e-7b895d28a6f4"
      },
      "source": [
        "print(\"life\", \"is\", \"too short\")"
      ],
      "execution_count": 5,
      "outputs": [
        {
          "output_type": "stream",
          "text": [
            "life is too short\n"
          ],
          "name": "stdout"
        }
      ]
    },
    {
      "cell_type": "markdown",
      "metadata": {
        "id": "ujilxS8YcfVx",
        "colab_type": "text"
      },
      "source": [
        "## 한 줄에 결괏값 출력하기\n"
      ]
    },
    {
      "cell_type": "code",
      "metadata": {
        "id": "Dd5jtTGYcdiw",
        "colab_type": "code",
        "colab": {
          "base_uri": "https://localhost:8080/",
          "height": 35
        },
        "outputId": "e803a3da-842b-49ee-c353-92403dd22ed9"
      },
      "source": [
        "for i in range(10):\n",
        "    print(i, end=' ') #  end=' ' 가로로 출력\n"
      ],
      "execution_count": 6,
      "outputs": [
        {
          "output_type": "stream",
          "text": [
            "0 1 2 3 4 5 6 7 8 9 "
          ],
          "name": "stdout"
        }
      ]
    },
    {
      "cell_type": "code",
      "metadata": {
        "id": "6yo9ClIZcg8s",
        "colab_type": "code",
        "colab": {}
      },
      "source": [
        ""
      ],
      "execution_count": 0,
      "outputs": []
    }
  ]
}