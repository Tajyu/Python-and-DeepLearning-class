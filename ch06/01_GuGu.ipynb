{
  "nbformat": 4,
  "nbformat_minor": 0,
  "metadata": {
    "colab": {
      "name": "GuGu.ipynb",
      "provenance": [],
      "collapsed_sections": [],
      "include_colab_link": true
    },
    "kernelspec": {
      "name": "python3",
      "display_name": "Python 3"
    }
  },
  "cells": [
    {
      "cell_type": "markdown",
      "metadata": {
        "id": "view-in-github",
        "colab_type": "text"
      },
      "source": [
        "<a href=\"https://colab.research.google.com/github/Tajyu/sm11/blob/master/ch06/01_GuGu.ipynb\" target=\"_parent\"><img src=\"https://colab.research.google.com/assets/colab-badge.svg\" alt=\"Open In Colab\"/></a>"
      ]
    },
    {
      "cell_type": "code",
      "metadata": {
        "id": "CLbpT58zj-4x",
        "colab_type": "code",
        "outputId": "3658801a-6b1e-485b-bbed-0f3975cec77d",
        "colab": {
          "base_uri": "https://localhost:8080/",
          "height": 53
        }
      },
      "source": [
        "def GuGu(n):\n",
        "    result = []\n",
        "    i = 1  # i의 값을 1로 지정\n",
        "    while i < 10:  # i가 1부터 9까지 반복\n",
        "        result.append(n * i) # 결과값에  리스트에 요소를 추가하는 append 내장 함수를 사용하여 n 값에 i 값을 곱한다.\n",
        "        i = i + 1   # i의 값은 1씩 커진다.\n",
        "    return result\n",
        "\n",
        "print(GuGu(2)) # n에 2라는 숫자를 넣어 출력한다. -> 2*1, 2*2, ... , 2*9\n",
        "\n",
        "print(GuGu(5)) # n에 5라는 숫자를 넣어 출력한다. -> 5*1, 5*2, ... , 5*9"
      ],
      "execution_count": 1,
      "outputs": [
        {
          "output_type": "stream",
          "text": [
            "[2, 4, 6, 8, 10, 12, 14, 16, 18]\n",
            "[5, 10, 15, 20, 25, 30, 35, 40, 45]\n"
          ],
          "name": "stdout"
        }
      ]
    },
    {
      "cell_type": "code",
      "metadata": {
        "id": "mW6RXtvqk0Vr",
        "colab_type": "code",
        "colab": {}
      },
      "source": [
        ""
      ],
      "execution_count": 0,
      "outputs": []
    }
  ]
}