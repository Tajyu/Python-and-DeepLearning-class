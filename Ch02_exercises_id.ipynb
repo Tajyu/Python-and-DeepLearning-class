{
  "nbformat": 4,
  "nbformat_minor": 0,
  "metadata": {
    "colab": {
      "name": "Untitled2.ipynb",
      "provenance": [],
      "include_colab_link": true
    },
    "kernelspec": {
      "name": "python3",
      "display_name": "Python 3"
    }
  },
  "cells": [
    {
      "cell_type": "markdown",
      "metadata": {
        "id": "view-in-github",
        "colab_type": "text"
      },
      "source": [
        "<a href=\"https://colab.research.google.com/github/Tajyu/sm11/blob/master/Ch02_exercises_id.ipynb\" target=\"_parent\"><img src=\"https://colab.research.google.com/assets/colab-badge.svg\" alt=\"Open In Colab\"/></a>"
      ]
    },
    {
      "cell_type": "markdown",
      "metadata": {
        "id": "WTHrIbPPZMag",
        "colab_type": "text"
      },
      "source": [
        "##홍길동 씨의 과목별 점수는 다음과 같다. 홍길동 씨의 평균 점수를 구해 보자.\n",
        "\n",
        "###과목 점수\n",
        "####국어 80\n",
        "####영어 75\n",
        "####수학 55"
      ]
    },
    {
      "cell_type": "code",
      "metadata": {
        "id": "2ylPHbDKZIpY",
        "colab_type": "code",
        "colab": {
          "base_uri": "https://localhost:8080/",
          "height": 53
        },
        "outputId": "b51bfd5d-976e-4d45-ced2-ecab6bdc225a"
      },
      "source": [
        "print(\"<방법 1 - 단순 계산>\")\n",
        "K = 80\n",
        "E = 75\n",
        "M = 55\n",
        "\n",
        "average = (80+75+55)//3\n",
        "print(\"평균점수 : {0}\".format(average))"
      ],
      "execution_count": 8,
      "outputs": [
        {
          "output_type": "stream",
          "text": [
            "<방법 1>\n",
            "평균점수 : 70\n"
          ],
          "name": "stdout"
        }
      ]
    },
    {
      "cell_type": "code",
      "metadata": {
        "id": "Mi2kfTcPZXYB",
        "colab_type": "code",
        "colab": {
          "base_uri": "https://localhost:8080/",
          "height": 53
        },
        "outputId": "1e5d90f3-672b-4cf3-b7d1-76a1aa21dce3"
      },
      "source": [
        "print(\"<방법 2 - list사용>\")\n",
        "K = 80\n",
        "E = 75\n",
        "M = 55\n",
        "\n",
        "average = [80,75,55]\n",
        "print(\"평균점수 : {0}\".format(sum(average)/len(average)))"
      ],
      "execution_count": 12,
      "outputs": [
        {
          "output_type": "stream",
          "text": [
            "<방법 2 - list사용>\n",
            "평균점수 : 70.0\n"
          ],
          "name": "stdout"
        }
      ]
    },
    {
      "cell_type": "markdown",
      "metadata": {
        "id": "vv5-Q5YFaoU_",
        "colab_type": "text"
      },
      "source": [
        "###자연수 13이 홀수인지 짝수인지 판별할 수 있는 방법에 대해 말해 보자.\n",
        "\n",
        "####판별 기준\n",
        "####코드"
      ]
    },
    {
      "cell_type": "code",
      "metadata": {
        "id": "HQY9Qudvad8O",
        "colab_type": "code",
        "colab": {
          "base_uri": "https://localhost:8080/",
          "height": 35
        },
        "outputId": "df5dc049-21ef-4fac-86b3-0c8a4cca509e"
      },
      "source": [
        "if 13%2 ==0:\n",
        "  print(\"짝수\")\n",
        "else:\n",
        "    print(\"홀수\")"
      ],
      "execution_count": 14,
      "outputs": [
        {
          "output_type": "stream",
          "text": [
            "홀수\n"
          ],
          "name": "stdout"
        }
      ]
    },
    {
      "cell_type": "markdown",
      "metadata": {
        "id": "tgN_6N6Da-95",
        "colab_type": "text"
      },
      "source": [
        "###홍길동 씨의 주민등록번호는 881120-1068234이다. 홍길동 씨의 주민등록번호를 연월일(YYYYMMDD) 부분과 그 뒤의 숫자 부분으로 나누어 출력해 보자.\n",
        "\n",
        "####문자열 슬라이싱 기법을 사용해 보자."
      ]
    },
    {
      "cell_type": "code",
      "metadata": {
        "id": "Gz9KPGMAa51W",
        "colab_type": "code",
        "colab": {
          "base_uri": "https://localhost:8080/",
          "height": 71
        },
        "outputId": "d700cf7b-0b3a-4de9-b75d-0270308a62e6"
      },
      "source": [
        "print(\"방법 1 - 인덱싱 번호로 나눈다.\")\n",
        "\n",
        "a=\"881120-1068234\" \n",
        "print(a[0:6])\n",
        "print(a[7:])"
      ],
      "execution_count": 19,
      "outputs": [
        {
          "output_type": "stream",
          "text": [
            "방법 1 - 인덱싱 번호로 나눈다.\n",
            "881120\n",
            "1068234\n"
          ],
          "name": "stdout"
        }
      ]
    },
    {
      "cell_type": "code",
      "metadata": {
        "id": "ovaPMGmkbMk3",
        "colab_type": "code",
        "colab": {
          "base_uri": "https://localhost:8080/",
          "height": 71
        },
        "outputId": "a0356bf7-0e23-4afb-f747-144d751ccd0c"
      },
      "source": [
        "print(\"방법 2 - ' - '를 기준으로 나눈다.\")\n",
        "\n",
        "a=\"881120-1068234\" \n",
        "a_list = a.split(\"-\")\n",
        "print(a_list[0])\n",
        "print(a_list[1])"
      ],
      "execution_count": 18,
      "outputs": [
        {
          "output_type": "stream",
          "text": [
            "방법 2 - ' - '를 기준으로 나눈다.\n",
            "881120\n",
            "1068234\n"
          ],
          "name": "stdout"
        }
      ]
    },
    {
      "cell_type": "markdown",
      "metadata": {
        "id": "CMEAylrHbuJf",
        "colab_type": "text"
      },
      "source": [
        "###주민등록번호 뒷자리의 맨 첫 번째 숫자는 성별을 나타낸다. 주민등록번호에서 성별을 나타내는 숫자를 출력해 보자.\n",
        "\n",
        "####pin = \"881120-1068234\"\n",
        "####※ 문자열 인덱싱 또는 내장함수를 사용해 보자.\n",
        "####문자열포맷팅을 이용해서 성별을 출력하시오."
      ]
    },
    {
      "cell_type": "code",
      "metadata": {
        "id": "xbtAX0TmbfIW",
        "colab_type": "code",
        "colab": {
          "base_uri": "https://localhost:8080/",
          "height": 53
        },
        "outputId": "8dd678a7-9f5b-4d58-c613-3a5bdeb7a496"
      },
      "source": [
        "print(\"방법 1\")\n",
        "s = \"881120-1068234\"\n",
        "\n",
        "if s[7:8]==\"1\":\n",
        "    print(\"{0}이므로 남자\".format(s[7:8]))\n",
        "else:\n",
        "    print(\"{0}이므로 여자\".format(s[7:8]))"
      ],
      "execution_count": 21,
      "outputs": [
        {
          "output_type": "stream",
          "text": [
            "방법 1\n",
            "1이므로 남자\n"
          ],
          "name": "stdout"
        }
      ]
    },
    {
      "cell_type": "code",
      "metadata": {
        "id": "nmhc7vDtcc4d",
        "colab_type": "code",
        "colab": {
          "base_uri": "https://localhost:8080/",
          "height": 71
        },
        "outputId": "da656df1-0df6-4b0d-f702-6958d363f559"
      },
      "source": [
        "print(\"방법 2\")\n",
        "s = \"881120-1068234\"\n",
        "\n",
        "s_list=s.split(\"-\")\n",
        "print(type(s_list[1][0]), s_list[1][0])\n",
        "\n",
        "if s[7:8]==\"1\":\n",
        "    print(\"{0}이므로 남자\".format(s_list[1][0]))\n",
        "else:\n",
        "    print(\"{0}이므로 여자\".ormat(s_list[1][0]))"
      ],
      "execution_count": 25,
      "outputs": [
        {
          "output_type": "stream",
          "text": [
            "방법 2\n",
            "<class 'str'> 1\n",
            "1이므로 남자\n"
          ],
          "name": "stdout"
        }
      ]
    },
    {
      "cell_type": "markdown",
      "metadata": {
        "id": "iaih58BVc9rE",
        "colab_type": "text"
      },
      "source": [
        "###다음과 같은 문자열 a:b:c:d가 있다. 문자열의 replace 함수를 사용하여 a#b#c#d로 바꿔서 출력해 보자.\n",
        "\n",
        "####a = \"a:b:c:d\""
      ]
    },
    {
      "cell_type": "code",
      "metadata": {
        "id": "0mAzBLqXcwov",
        "colab_type": "code",
        "colab": {
          "base_uri": "https://localhost:8080/",
          "height": 35
        },
        "outputId": "b44eb39f-4e81-4e74-bf6d-a15c9b3f7602"
      },
      "source": [
        "a=\"a:b:c:d\"\n",
        "print(a.replace(\":\",\"#\"))"
      ],
      "execution_count": 26,
      "outputs": [
        {
          "output_type": "stream",
          "text": [
            "a#b#c#d\n"
          ],
          "name": "stdout"
        }
      ]
    },
    {
      "cell_type": "markdown",
      "metadata": {
        "id": "JsQay5xkdH7w",
        "colab_type": "text"
      },
      "source": [
        "###[1, 3, 5, 4, 2] 리스트를 [5, 4, 3, 2, 1]로 만들어 보자.\n",
        "\n",
        "####※ 리스트의 내장 함수를 사용해 보자."
      ]
    },
    {
      "cell_type": "code",
      "metadata": {
        "id": "eCtScYU1dFSe",
        "colab_type": "code",
        "colab": {
          "base_uri": "https://localhost:8080/",
          "height": 53
        },
        "outputId": "5c5402d4-a5c0-4dec-927d-d3bf99e4151c"
      },
      "source": [
        "a = [1,3,5,4,2]\n",
        "a.sort()\n",
        "print(a)\n",
        "a.reverse()\n",
        "print(a)"
      ],
      "execution_count": 27,
      "outputs": [
        {
          "output_type": "stream",
          "text": [
            "[1, 2, 3, 4, 5]\n",
            "[5, 4, 3, 2, 1]\n"
          ],
          "name": "stdout"
        }
      ]
    },
    {
      "cell_type": "markdown",
      "metadata": {
        "id": "HKrvveGLdUeZ",
        "colab_type": "text"
      },
      "source": [
        "###['Life', 'is', 'too', 'short'] 리스트를 Life is too short 문자열로 만들어 출력해 보자.\n",
        "\n",
        "####※ 문자열의 join 함수를 사용하면 리스트를 문자열로 쉽게 만들 수 있다."
      ]
    },
    {
      "cell_type": "code",
      "metadata": {
        "id": "BdA1BDa3dUSZ",
        "colab_type": "code",
        "colab": {
          "base_uri": "https://localhost:8080/",
          "height": 53
        },
        "outputId": "b97e3255-34d3-4f91-e423-fdc2a2281f8b"
      },
      "source": [
        "print(\"방법 1 - 하나씩 출력하여 붙인다.\")\n",
        "a=['Life', 'is', 'too', 'short']\n",
        "print(a[0],a[1],a[2],a[-1])"
      ],
      "execution_count": 29,
      "outputs": [
        {
          "output_type": "stream",
          "text": [
            "방법 1 - 하나씩 출력하여 붙인다.\n",
            "Life is too short\n"
          ],
          "name": "stdout"
        }
      ]
    },
    {
      "cell_type": "code",
      "metadata": {
        "id": "zBjAtCybdNXl",
        "colab_type": "code",
        "colab": {
          "base_uri": "https://localhost:8080/",
          "height": 53
        },
        "outputId": "410bd2d3-b0d7-4fd1-f011-c26063d73260"
      },
      "source": [
        "print(\"방법 2 - join사용\")\n",
        "a=['Life', 'is', 'too', 'short']\n",
        "a =\" \".join(a)\n",
        "print(a)"
      ],
      "execution_count": 31,
      "outputs": [
        {
          "output_type": "stream",
          "text": [
            "방법 2 - join사용\n",
            "Life is too short\n"
          ],
          "name": "stdout"
        }
      ]
    },
    {
      "cell_type": "markdown",
      "metadata": {
        "id": "mQKPtPFIdyHa",
        "colab_type": "text"
      },
      "source": [
        "### (1,2,3) 튜플에 값 4를 추가하여 (1,2,3,4)를 만들어 출력해 보자.\n",
        "\n",
        "####※ 더하기(+) 또는 다른 방법들을 사용해 보자."
      ]
    },
    {
      "cell_type": "code",
      "metadata": {
        "id": "0n2hG4-pdtfz",
        "colab_type": "code",
        "colab": {
          "base_uri": "https://localhost:8080/",
          "height": 53
        },
        "outputId": "c2048d18-4f39-404e-9c6c-ba4363699254"
      },
      "source": [
        "print(\"방법 1 - 더하기\")\n",
        "a = (1,2,3)\n",
        "a+=(4,)\n",
        "print(a)"
      ],
      "execution_count": 33,
      "outputs": [
        {
          "output_type": "stream",
          "text": [
            "방법 1 - 더하기\n",
            "(1, 2, 3, 4)\n"
          ],
          "name": "stdout"
        }
      ]
    },
    {
      "cell_type": "code",
      "metadata": {
        "id": "TLx1525_d8vF",
        "colab_type": "code",
        "colab": {}
      },
      "source": [
        "print(\"방법 2 - list사용\")\n",
        "a = (1,2,3)\n",
        "b = list(a)\n",
        "b.append(4)\n",
        "a = tuple(b)\n",
        "print(a)"
      ],
      "execution_count": 0,
      "outputs": []
    },
    {
      "cell_type": "markdown",
      "metadata": {
        "id": "JedH7QgVez7V",
        "colab_type": "text"
      },
      "source": [
        "다음과 같은 딕셔너리 a가 있다.\n",
        "\n",
        "a = dict()\n",
        "a\n",
        "{}\n",
        "\n",
        "다음 중 오류가 발생하는 경우를 고르고, 그 이유를 설명해 보자.\n",
        "\n",
        "a['name'] = 'python'\n",
        "\n",
        "a[('a',)] = 'python'\n",
        "a[[1]] = 'python'\n",
        "a[250] = 'python'\n",
        "\n",
        "\n",
        "\n",
        "\n",
        "##답 : a[[1]] = 'python' 오류발생 이유는 [ ] 는 딕셔너리 형태인데 딕셔너리의 키값은 바꿀수없기때문이다."
      ]
    },
    {
      "cell_type": "markdown",
      "metadata": {
        "id": "rHJr8IPkfVKl",
        "colab_type": "text"
      },
      "source": [
        "###딕셔너리 a에서 'B'에 해당되는 값을 추출해 보자.\n",
        "\n",
        "###a = {'A':90, 'B':80, 'C':70}\n",
        "\n",
        "####※ 딕셔너리의 pop 함수를 사용해 보자."
      ]
    },
    {
      "cell_type": "code",
      "metadata": {
        "id": "cdseYhQ2eNWm",
        "colab_type": "code",
        "colab": {
          "base_uri": "https://localhost:8080/",
          "height": 35
        },
        "outputId": "9a67fac2-8a2f-4b2e-f67a-33feb9bfaf46"
      },
      "source": [
        "a = {'A':90, 'B':80, 'C':70}\n",
        "print(a.pop('B'))\n"
      ],
      "execution_count": 40,
      "outputs": [
        {
          "output_type": "stream",
          "text": [
            "80\n"
          ],
          "name": "stdout"
        }
      ]
    },
    {
      "cell_type": "markdown",
      "metadata": {
        "id": "MIj-A7lffnxG",
        "colab_type": "text"
      },
      "source": [
        "###a 리스트에서 중복 숫자를 제거해 보자.\n",
        "\n",
        "###a = [1, 1, 1, 2, 2, 3, 3, 3, 4, 4, 5]\n",
        "\n",
        "####※ 집합 자료형의 요솟값이 중복될 수 없다는 특징을 사용해 보자."
      ]
    },
    {
      "cell_type": "code",
      "metadata": {
        "id": "Hdcr9Ksgfg4b",
        "colab_type": "code",
        "colab": {
          "base_uri": "https://localhost:8080/",
          "height": 35
        },
        "outputId": "ed63d465-22d7-4d46-c380-20ce469723eb"
      },
      "source": [
        "a = [1, 1, 1, 2, 2, 3, 3, 3, 4, 4, 5]\n",
        "a=set(a)\n",
        "a=list(a)\n",
        "print(a)"
      ],
      "execution_count": 41,
      "outputs": [
        {
          "output_type": "stream",
          "text": [
            "[1, 2, 3, 4, 5]\n"
          ],
          "name": "stdout"
        }
      ]
    },
    {
      "cell_type": "markdown",
      "metadata": {
        "id": "UxzpGSUGfw-v",
        "colab_type": "text"
      },
      "source": [
        "파이썬은 다음처럼 동일한 값에 여러 개의 변수를 선언할 수 있다. 다음과 같이 a, b 변수를 선언한 후 a의 두 번째 요솟값을 변경하면 b 값은 어떻게 될까? 그리고 이런 결과가 오는 이유에 대해 설명해 보자.\n",
        "\n",
        "a = b = [1, 2, 3]\n",
        "a[1] = 4\n",
        "print(b)\n",
        "\n",
        "##답 : a와 b는 같은 값을 가지고있어서 같은 ID를 가진다. 그런데 a의 요솟값을 변경하게되면 ID가 달라진다. a와 b의 ID값을 같게 할려면 다시 \"a=b\"를 해줘야한다."
      ]
    },
    {
      "cell_type": "code",
      "metadata": {
        "id": "szZIY6dvfrlt",
        "colab_type": "code",
        "colab": {}
      },
      "source": [
        ""
      ],
      "execution_count": 0,
      "outputs": []
    }
  ]
}