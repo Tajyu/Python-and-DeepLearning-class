{
  "nbformat": 4,
  "nbformat_minor": 0,
  "metadata": {
    "colab": {
      "name": "py_module_1_numpy.ipynb의 사본",
      "provenance": [],
      "collapsed_sections": [],
      "include_colab_link": true
    },
    "kernelspec": {
      "name": "python2",
      "display_name": "Python 2"
    }
  },
  "cells": [
    {
      "cell_type": "markdown",
      "metadata": {
        "id": "view-in-github",
        "colab_type": "text"
      },
      "source": [
        "<a href=\"https://colab.research.google.com/github/Tajyu/sm11/blob/master/py_modules/py_module_1_numpy_ipynb%EC%9D%98_%EC%82%AC%EB%B3%B8.ipynb\" target=\"_parent\"><img src=\"https://colab.research.google.com/assets/colab-badge.svg\" alt=\"Open In Colab\"/></a>"
      ]
    },
    {
      "cell_type": "markdown",
      "metadata": {
        "id": "0Rd4EgDswXK3",
        "colab_type": "text"
      },
      "source": [
        "## python module 1. numpy"
      ]
    },
    {
      "cell_type": "markdown",
      "metadata": {
        "id": "I1Lv9GrX8W0F",
        "colab_type": "text"
      },
      "source": [
        "\n",
        "\n",
        "---\n",
        "\n"
      ]
    },
    {
      "cell_type": "markdown",
      "metadata": {
        "id": "pnSEXS8pVrtT",
        "colab_type": "text"
      },
      "source": [
        "#### 라이브러리를 import 시키는 방법 4가지"
      ]
    },
    {
      "cell_type": "markdown",
      "metadata": {
        "id": "afsJHUKdS3Ua",
        "colab_type": "text"
      },
      "source": [
        "**파이썬 코드에서 라이브러리를 import 시키는 방식**은 아래와 같이 4가지로 나눌 수 있다.\n",
        "\n",
        "\n",
        "\n",
        "1.   라이브러리의 이름을 바로 import하는 방식\n",
        "         예) import numpy\n",
        "         이렇게 import를 하면 해당 라이브러리의 풀네임을 이용하여 필요한 API를 호출할 수 있음\n",
        "         \n",
        "2.   라이브러리의 별명을 지정하는 방식\n",
        "         예) import numpy as np\n",
        "         가장 일반적인 방식임\n",
        "         a = np.array()\n",
        "3.   from을 이용하는 방식\n",
        "\n",
        "         from을 이용하면 해당 API의 이름을 쓰지 않고 API를 바로 쓸 수 있다는 장점이 있음\n",
        "         from numpy import array, arange\n",
        "         a = array()\n",
        "         an = arange(10)\n",
        "\n",
        "         \n",
        "4.   필요한 라이브러리에 모든 API를 사용\n",
        "         예) from numpy import *\n",
        "            이 경우에도 from을 사용하여 직접 필요한 API를 기술함\n",
        "\n",
        "\n",
        "\n"
      ]
    },
    {
      "cell_type": "markdown",
      "metadata": {
        "id": "poXE4qONVaCz",
        "colab_type": "text"
      },
      "source": [
        "##### 첫 번째 방식 - 라이브러리의 이름을 바로 import하는 방식"
      ]
    },
    {
      "cell_type": "code",
      "metadata": {
        "id": "XAuMP_ztUqet",
        "colab_type": "code",
        "outputId": "a2b6d45a-39b5-40ba-904b-766a612198cf",
        "colab": {
          "base_uri": "https://localhost:8080/",
          "height": 35
        }
      },
      "source": [
        "# 1. 라이브러리의 이름을 바로 import하는 방식\n",
        "\n",
        "import numpy\n",
        "\n",
        "a1 = numpy.array([1,2])\n",
        "\n",
        "print(\"a1 = \", a1, \", type = \", type(a1))"
      ],
      "execution_count": 0,
      "outputs": [
        {
          "output_type": "stream",
          "text": [
            "('a1 = ', array([1, 2]), ', type = ', <type 'numpy.ndarray'>)\n"
          ],
          "name": "stdout"
        }
      ]
    },
    {
      "cell_type": "markdown",
      "metadata": {
        "id": "XH5TDHTTVe5z",
        "colab_type": "text"
      },
      "source": [
        "##### 두 번째 방식 - 라이브러리의 별명을 지정하는 방식"
      ]
    },
    {
      "cell_type": "code",
      "metadata": {
        "id": "ppA7TLLqVXvT",
        "colab_type": "code",
        "outputId": "963a9b51-290d-49f4-8c01-6f61d0b382c7",
        "colab": {
          "base_uri": "https://localhost:8080/",
          "height": 34
        }
      },
      "source": [
        "# 2. 라이브러리의 별명을 지정하는 방식\n",
        "\n",
        "import numpy as np\n",
        "\n",
        "a2 = np.array([1,2])\n",
        "\n",
        "print(\"a2 = \", a2, \", type = \", type(a2))"
      ],
      "execution_count": 1,
      "outputs": [
        {
          "output_type": "stream",
          "text": [
            "('a2 = ', array([1, 2]), ', type = ', <type 'numpy.ndarray'>)\n"
          ],
          "name": "stdout"
        }
      ]
    },
    {
      "cell_type": "markdown",
      "metadata": {
        "id": "RLb-GTgxXIBq",
        "colab_type": "text"
      },
      "source": [
        "예) numpy라는 라이브러리를 as 다음에 나오는 np로 지정"
      ]
    },
    {
      "cell_type": "markdown",
      "metadata": {
        "id": "31zpv6jgWUGG",
        "colab_type": "text"
      },
      "source": [
        "##### 세 번째 방식 - from을 이용하는 방식"
      ]
    },
    {
      "cell_type": "code",
      "metadata": {
        "id": "BBnlJGfjWNrT",
        "colab_type": "code",
        "outputId": "bb8d8f3b-d802-460f-bb9b-7a9ac59d7dd8",
        "colab": {
          "base_uri": "https://localhost:8080/",
          "height": 35
        }
      },
      "source": [
        "# 3. from을 이용하는 방식\n",
        "\n",
        "from numpy import array\n",
        "\n",
        "a3 = array([1, 2])\n",
        "\n",
        "print(\"a3 = \", a3, \", type = \", type(a3))"
      ],
      "execution_count": 0,
      "outputs": [
        {
          "output_type": "stream",
          "text": [
            "('a3 = ', array([1, 2]), ', type = ', <type 'numpy.ndarray'>)\n"
          ],
          "name": "stdout"
        }
      ]
    },
    {
      "cell_type": "markdown",
      "metadata": {
        "id": "wFkr6WU7XZav",
        "colab_type": "text"
      },
      "source": [
        "numpy 라이브러리에 속해있는 array API를 위의 첫 번째 및 두 번째 예에서처럼 numpy.array 또는 np.array 라고 하지 않고, 바로 array를 사용\n",
        "\n",
        "> => 즉, numpy.array가 아닌 array로 바로 사용 가능\n",
        "\n"
      ]
    },
    {
      "cell_type": "markdown",
      "metadata": {
        "id": "B-UinoSIWrq0",
        "colab_type": "text"
      },
      "source": [
        "##### 네 번째 방식 - 필요한 라이브러리에 모든 API를 사용"
      ]
    },
    {
      "cell_type": "code",
      "metadata": {
        "id": "SuOkm37nWmwC",
        "colab_type": "code",
        "outputId": "429e9d14-27b1-4509-a961-2761d7e91dcf",
        "colab": {
          "base_uri": "https://localhost:8080/",
          "height": 70
        }
      },
      "source": [
        "# 4. 필요한 라이브러리에 모든 API를 사용\n",
        "\n",
        "from numpy import *                   # * 사용하지않으면 \n",
        "\n",
        "result = exp(1) + log(1.7) + sqrt(2)  # np.exp, np.log, np.sqrt등 계속 np를 붙여줘야한다.\n",
        "\n",
        "print(\"result = \", result, \", type = \", type(result))\n",
        "\n",
        "a4 = array(range(1,5)).reshape(2,2)\n",
        "\n",
        "print(\"a4 = \", a4, \", type = \", type(a4))"
      ],
      "execution_count": 2,
      "outputs": [
        {
          "output_type": "stream",
          "text": [
            "('result = ', 4.663123641894311, ', type = ', <type 'numpy.float64'>)\n",
            "('a4 = ', array([[1, 2],\n",
            "       [3, 4]]), ', type = ', <type 'numpy.ndarray'>)\n"
          ],
          "name": "stdout"
        }
      ]
    },
    {
      "cell_type": "code",
      "metadata": {
        "id": "tXiqxsg3k5I5",
        "colab_type": "code",
        "outputId": "c0b39ed6-28de-4a53-82dd-f294cdb19e88",
        "colab": {
          "base_uri": "https://localhost:8080/",
          "height": 35
        }
      },
      "source": [
        "# shape of numpy arrays\n",
        "a1.shape, a2.shape, a3.shape, a4.shape"
      ],
      "execution_count": 0,
      "outputs": [
        {
          "output_type": "execute_result",
          "data": {
            "text/plain": [
              "((2,), (2,), (2,), (2, 2))"
            ]
          },
          "metadata": {
            "tags": []
          },
          "execution_count": 5
        }
      ]
    },
    {
      "cell_type": "code",
      "metadata": {
        "colab_type": "code",
        "outputId": "b143ab77-6fb9-4a43-9352-792d7e2b15f0",
        "id": "S8C1kDZayyCh",
        "colab": {
          "base_uri": "https://localhost:8080/",
          "height": 35
        }
      },
      "source": [
        "# dimension of numpy arrays\n",
        "a1.ndim, a2.ndim, a3.ndim, a4.ndim"
      ],
      "execution_count": 0,
      "outputs": [
        {
          "output_type": "execute_result",
          "data": {
            "text/plain": [
              "(1, 1, 1, 2)"
            ]
          },
          "metadata": {
            "tags": []
          },
          "execution_count": 6
        }
      ]
    },
    {
      "cell_type": "code",
      "metadata": {
        "colab_type": "code",
        "outputId": "c5bf72b4-684f-4869-9274-2e279fbd72fe",
        "id": "WgaXd1rwy9tP",
        "colab": {
          "base_uri": "https://localhost:8080/",
          "height": 35
        }
      },
      "source": [
        "# size of numpy arrays\n",
        "a1.size, a2.size, a3.size, a4.size"
      ],
      "execution_count": 0,
      "outputs": [
        {
          "output_type": "execute_result",
          "data": {
            "text/plain": [
              "(2, 2, 2, 4)"
            ]
          },
          "metadata": {
            "tags": []
          },
          "execution_count": 8
        }
      ]
    },
    {
      "cell_type": "code",
      "metadata": {
        "colab_type": "code",
        "outputId": "3fb5399e-fc65-478b-fb04-c13505d78283",
        "id": "Yg4CHly4zMLr",
        "colab": {
          "base_uri": "https://localhost:8080/",
          "height": 35
        }
      },
      "source": [
        "# dtype of numpy arrays\n",
        "a1.dtype, a2.dtype, a3.dtype, a4.dtype"
      ],
      "execution_count": 0,
      "outputs": [
        {
          "output_type": "execute_result",
          "data": {
            "text/plain": [
              "(dtype('int64'), dtype('int64'), dtype('int64'), dtype('int64'))"
            ]
          },
          "metadata": {
            "tags": []
          },
          "execution_count": 10
        }
      ]
    },
    {
      "cell_type": "code",
      "metadata": {
        "id": "o-fNUQeX2HnB",
        "colab_type": "code",
        "outputId": "078e50b4-570e-4555-85ac-425bef121453",
        "colab": {
          "base_uri": "https://localhost:8080/",
          "height": 34
        }
      },
      "source": [
        "# reshape의 또 다른 사용 방법 \n",
        "a4r = array(range(1,5)).reshape(-1,2)\n",
        "a4r\n",
        "a4r.shape, a4r.ndim, a4r.size, a4r.dtype"
      ],
      "execution_count": 9,
      "outputs": [
        {
          "output_type": "execute_result",
          "data": {
            "text/plain": [
              "((2, 2), 2, 4, dtype('int64'))"
            ]
          },
          "metadata": {
            "tags": []
          },
          "execution_count": 9
        }
      ]
    },
    {
      "cell_type": "code",
      "metadata": {
        "id": "r91buiLbnfkA",
        "colab_type": "code",
        "colab": {
          "base_uri": "https://localhost:8080/",
          "height": 34
        },
        "outputId": "94c08848-9534-40c3-f2a0-d169d388de86"
      },
      "source": [
        "a4r = array(range(1,11)).reshape(-1,2)\n",
        "a4r\n",
        "a4r.shape, a4r.ndim, a4r.size, a4r.dtype"
      ],
      "execution_count": 10,
      "outputs": [
        {
          "output_type": "execute_result",
          "data": {
            "text/plain": [
              "((5, 2), 2, 10, dtype('int64'))"
            ]
          },
          "metadata": {
            "tags": []
          },
          "execution_count": 10
        }
      ]
    },
    {
      "cell_type": "markdown",
      "metadata": {
        "id": "ye6JZJGooUjg",
        "colab_type": "text"
      },
      "source": [
        "데이터형이 배정도 실수인 3X4 2차원 배열을 만드시오."
      ]
    },
    {
      "cell_type": "code",
      "metadata": {
        "id": "bq685M2soETI",
        "colab_type": "code",
        "colab": {
          "base_uri": "https://localhost:8080/",
          "height": 70
        },
        "outputId": "10e0d5bf-8f8b-4ada-efd9-07a123005a1f"
      },
      "source": [
        "a5r = array(range(1,13), dtype=\"float64\").reshape(-1,4)\n",
        "a5r\n",
        "#a5r.shape, a5r.ndim, a5r.size, a5r.dtype"
      ],
      "execution_count": 12,
      "outputs": [
        {
          "output_type": "execute_result",
          "data": {
            "text/plain": [
              "array([[ 1.,  2.,  3.,  4.],\n",
              "       [ 5.,  6.,  7.,  8.],\n",
              "       [ 9., 10., 11., 12.]])"
            ]
          },
          "metadata": {
            "tags": []
          },
          "execution_count": 12
        }
      ]
    },
    {
      "cell_type": "markdown",
      "metadata": {
        "id": "1agDc8fFYb7_",
        "colab_type": "text"
      },
      "source": [
        "### numpy\n",
        "\n",
        "numpy의 개념과 numpy가 필요한 이유, numpy를 이용하여 벡터와 matrix 즉, 행렬을 만들고 이를 상호변환 시킬 수 있는 API를 사용하는 방법에 대해 알아본다."
      ]
    },
    {
      "cell_type": "markdown",
      "metadata": {
        "id": "2zaiDbcJbjYL",
        "colab_type": "text"
      },
      "source": [
        "#### numpy의 개념, 그리고 numpy를 사용하는 이유"
      ]
    },
    {
      "cell_type": "markdown",
      "metadata": {
        "id": "XmsULOHVY3JT",
        "colab_type": "text"
      },
      "source": [
        "- **numpy**\n",
        "\n",
        "    * numpy는 머신러닝 코드 개발을 할 경우 자주 사용되는 벡터, 행렬 등을 표현하고 연산할 때 반드시 필요한 라이브러리다.  \n",
        "    * 벡터와 행렬을 이용하면 수치계산이 매우 빨리 수행된다.\n",
        "\n"
      ]
    },
    {
      "cell_type": "markdown",
      "metadata": {
        "id": "pNylcuDzZDWT",
        "colab_type": "text"
      },
      "source": [
        "- numpy array vs. list\n",
        "\n",
        "    *  머신러닝에서 숫자, 사람, 동물 등의 인식을 하기 위해서는 이미지 데이터를 행렬(matrix)로 변환하는 것이 중요하다.\n",
        "    *  행렬을 나타내기 위해서는 list를 사용할 수도 있지만, 행렬 연산이 직관적이지 않고 오류 가능성이 높기 때문에 **행렬 연산을 위해서는 numpy 사용이 필수적**이다.\n",
        "\n"
      ]
    },
    {
      "cell_type": "code",
      "metadata": {
        "id": "lYblhTyAW-3s",
        "colab_type": "code",
        "colab": {}
      },
      "source": [
        "# 행렬연산\n",
        "\n",
        "\n",
        "# A = (1 0)    B = (1 1)\n",
        "#     (0 1)        (1 1)\n",
        "\n",
        "# 각 요소의 인덱스에 맞춰서, 즉 원소별로  연산이 수행된다.\n",
        "# A + B = (2 1)\n",
        "#         (1 2)"
      ],
      "execution_count": 0,
      "outputs": []
    },
    {
      "cell_type": "code",
      "metadata": {
        "id": "r-qJzSmeachg",
        "colab_type": "code",
        "colab": {}
      },
      "source": [
        "import numpy as np # 라이브러리의 별명을 지정하는 방식을 사용"
      ],
      "execution_count": 0,
      "outputs": []
    },
    {
      "cell_type": "code",
      "metadata": {
        "id": "3EsPu5EqaoJw",
        "colab_type": "code",
        "outputId": "f2da92d4-af17-4013-b00d-dee7fc80fc8f",
        "colab": {
          "base_uri": "https://localhost:8080/",
          "height": 34
        }
      },
      "source": [
        "# 리스트로 행렬 표현\n",
        "\n",
        "A = [ [1,0], [0,1] ]\n",
        "B = [ [1,1], [1,1] ]\n",
        "\n",
        "A + B   # 행렬 연산이 아닌 리스트 연산으로 리스트가 확장된다."
      ],
      "execution_count": 14,
      "outputs": [
        {
          "output_type": "execute_result",
          "data": {
            "text/plain": [
              "[[1, 0], [0, 1], [1, 1], [1, 1]]"
            ]
          },
          "metadata": {
            "tags": []
          },
          "execution_count": 14
        }
      ]
    },
    {
      "cell_type": "markdown",
      "metadata": {
        "id": "7Egx9RhcbS74",
        "colab_type": "text"
      },
      "source": [
        "=> 리스트 연산이 됨"
      ]
    },
    {
      "cell_type": "code",
      "metadata": {
        "id": "TDew_4EYaxup",
        "colab_type": "code",
        "outputId": "ca91eca1-2edc-476a-8c9f-e1ae2061b9ab",
        "colab": {
          "base_uri": "https://localhost:8080/",
          "height": 52
        }
      },
      "source": [
        "# numpy matrix, 직관적임\n",
        "\n",
        "A = np.array([ [1,0], [0,1] ])\n",
        "B = np.array([ [1,1], [1,1] ])\n",
        "\n",
        "A + B  # 행렬 연산"
      ],
      "execution_count": 15,
      "outputs": [
        {
          "output_type": "execute_result",
          "data": {
            "text/plain": [
              "array([[2, 1],\n",
              "       [1, 2]])"
            ]
          },
          "metadata": {
            "tags": []
          },
          "execution_count": 15
        }
      ]
    },
    {
      "cell_type": "code",
      "metadata": {
        "id": "xJIm_4xn232K",
        "colab_type": "code",
        "outputId": "725ae3a1-ca9c-4a7a-ae58-de563dba522e",
        "colab": {
          "base_uri": "https://localhost:8080/",
          "height": 89
        }
      },
      "source": [
        "# A,B\n",
        "print(A)\n",
        "print(B)"
      ],
      "execution_count": 0,
      "outputs": [
        {
          "output_type": "stream",
          "text": [
            "[[1 0]\n",
            " [0 1]]\n",
            "[[1 1]\n",
            " [1 1]]\n"
          ],
          "name": "stdout"
        }
      ]
    },
    {
      "cell_type": "markdown",
      "metadata": {
        "id": "AQG_PbYhbJxC",
        "colab_type": "text"
      },
      "source": [
        "=>  numpy로 행렬 선언 및 연산을 하였기 때문에 행렬 연산의 결과가 나옴"
      ]
    },
    {
      "cell_type": "markdown",
      "metadata": {
        "id": "x4pUC7NEcDvF",
        "colab_type": "text"
      },
      "source": [
        "### numpy vector(1차원 배열)"
      ]
    },
    {
      "cell_type": "markdown",
      "metadata": {
        "id": "8IbhCw-_59zV",
        "colab_type": "text"
      },
      "source": [
        "#### 벡터 생성"
      ]
    },
    {
      "cell_type": "markdown",
      "metadata": {
        "id": "VjXJCVd5cI77",
        "colab_type": "text"
      },
      "source": [
        "- **벡터(vector) 생성**\n",
        "\n",
        "\n",
        "> 벡터는 np.array([...])를 사용하여 생성한다.\n",
        "\n",
        "        예) import numpy as np\n",
        "\n",
        "> 머신러닝 코드 구현 시, 연산을 위해서 벡터, matrix 등의 구조(shape), 차원(dimension)을 확인하는 것이 필요하다.\n",
        "\n",
        "\n"
      ]
    },
    {
      "cell_type": "code",
      "metadata": {
        "id": "cC9XMICddoXD",
        "colab_type": "code",
        "outputId": "416dbe96-b72a-46be-ee67-aa2511200f1a",
        "colab": {
          "base_uri": "https://localhost:8080/",
          "height": 70
        }
      },
      "source": [
        "A = np.array([1,2,3])\n",
        "B = np.array([4,5,6])\n",
        "\n",
        "# vector A, B 출력\n",
        "print(\"A = \", A, \", B = \", B)\n",
        "\n",
        "# vector A, B 구조 출력 => shape\n",
        "print(\"A.shape = {0}, B.shape =  {1}\".format(A.shape, B.shape))\n",
        "\n",
        "# vector A, B 차원 출력 => ndim\n",
        "print(\"A.ndim = {0}, B.ndim = {1}\".format(A.ndim, B.ndim))"
      ],
      "execution_count": 16,
      "outputs": [
        {
          "output_type": "stream",
          "text": [
            "('A = ', array([1, 2, 3]), ', B = ', array([4, 5, 6]))\n",
            "A.shape = (3,), B.shape =  (3,)\n",
            "A.ndim = 1, B.ndim = 1\n"
          ],
          "name": "stdout"
        }
      ]
    },
    {
      "cell_type": "markdown",
      "metadata": {
        "id": "HQrzOFJgQCu_",
        "colab_type": "text"
      },
      "source": [
        "##### A, B는 항목(즉 요소)가 세개인 벡터임.\n",
        "\n",
        "> [행벡터](https://terms.naver.com/entry.nhn?docId=3338356&cid=47324&categoryId=47324) vs. [열벡터](https://terms.naver.com/entry.nhn?docId=3338418&ref=y&cid=47324&categoryId=47324)  \n",
        ">> 그러면 일반 벡터인 A, B를 열벡터 또는 행벡터로 변경하는 방법은?"
      ]
    },
    {
      "cell_type": "code",
      "metadata": {
        "id": "eGu_YN7hqW7n",
        "colab_type": "code",
        "outputId": "b0e672ac-fed1-4f00-87c4-53a3b9ee3912",
        "colab": {
          "base_uri": "https://localhost:8080/",
          "height": 35
        }
      },
      "source": [
        "A.shape, B.shape  # , B는 항목(즉 요소)가 세개인 벡터"
      ],
      "execution_count": 0,
      "outputs": [
        {
          "output_type": "execute_result",
          "data": {
            "text/plain": [
              "((3,), (3,))"
            ]
          },
          "metadata": {
            "tags": []
          },
          "execution_count": 11
        }
      ]
    },
    {
      "cell_type": "markdown",
      "metadata": {
        "id": "TZ84bJEXrd1E",
        "colab_type": "text"
      },
      "source": [
        "#### 열벡터로 변환"
      ]
    },
    {
      "cell_type": "code",
      "metadata": {
        "id": "hhn5gf9mq9MX",
        "colab_type": "code",
        "outputId": "a40fb45b-ba76-45e3-ebbe-5b0355cb0fea",
        "colab": {
          "base_uri": "https://localhost:8080/",
          "height": 70
        }
      },
      "source": [
        "A[:, np.newaxis]   # 열벡터"
      ],
      "execution_count": 25,
      "outputs": [
        {
          "output_type": "execute_result",
          "data": {
            "text/plain": [
              "array([[1],\n",
              "       [2],\n",
              "       [3]])"
            ]
          },
          "metadata": {
            "tags": []
          },
          "execution_count": 25
        }
      ]
    },
    {
      "cell_type": "code",
      "metadata": {
        "id": "POoFh_FYrN1f",
        "colab_type": "code",
        "outputId": "1647b312-5287-432a-d3ba-4ebe483fc328",
        "colab": {
          "base_uri": "https://localhost:8080/",
          "height": 34
        }
      },
      "source": [
        "A[:, np.newaxis].shape"
      ],
      "execution_count": 26,
      "outputs": [
        {
          "output_type": "execute_result",
          "data": {
            "text/plain": [
              "(3, 1)"
            ]
          },
          "metadata": {
            "tags": []
          },
          "execution_count": 26
        }
      ]
    },
    {
      "cell_type": "code",
      "metadata": {
        "id": "mf1oktBlrY2e",
        "colab_type": "code",
        "outputId": "35fedc3c-8a65-4078-9252-1352fff89e0f",
        "colab": {
          "base_uri": "https://localhost:8080/",
          "height": 34
        }
      },
      "source": [
        "A1  = A[:, np.newaxis]\n",
        "A1.shape"
      ],
      "execution_count": 27,
      "outputs": [
        {
          "output_type": "execute_result",
          "data": {
            "text/plain": [
              "(3, 1)"
            ]
          },
          "metadata": {
            "tags": []
          },
          "execution_count": 27
        }
      ]
    },
    {
      "cell_type": "markdown",
      "metadata": {
        "colab_type": "text",
        "id": "6HUVGUdJrsaJ"
      },
      "source": [
        "#### 행벡터로 변환"
      ]
    },
    {
      "cell_type": "code",
      "metadata": {
        "colab_type": "code",
        "outputId": "156bf01d-9e3b-4681-91de-e094709f953c",
        "id": "jWfcua0drsaT",
        "colab": {
          "base_uri": "https://localhost:8080/",
          "height": 34
        }
      },
      "source": [
        "B[np.newaxis,:]   # 행벡터"
      ],
      "execution_count": 20,
      "outputs": [
        {
          "output_type": "execute_result",
          "data": {
            "text/plain": [
              "array([[4, 5, 6]])"
            ]
          },
          "metadata": {
            "tags": []
          },
          "execution_count": 20
        }
      ]
    },
    {
      "cell_type": "code",
      "metadata": {
        "colab_type": "code",
        "outputId": "9e3fe5e8-40d9-4b3a-9eb6-716627d9e0d2",
        "id": "TtUUaz4Wrsae",
        "colab": {
          "base_uri": "https://localhost:8080/",
          "height": 34
        }
      },
      "source": [
        "B[np.newaxis,:].shape"
      ],
      "execution_count": 21,
      "outputs": [
        {
          "output_type": "execute_result",
          "data": {
            "text/plain": [
              "(1, 3)"
            ]
          },
          "metadata": {
            "tags": []
          },
          "execution_count": 21
        }
      ]
    },
    {
      "cell_type": "code",
      "metadata": {
        "colab_type": "code",
        "outputId": "c7796989-e091-4564-bd5a-8bc12e2c0efe",
        "id": "ImhriYRJrsam",
        "colab": {
          "base_uri": "https://localhost:8080/",
          "height": 34
        }
      },
      "source": [
        "B1  = B[np.newaxis,:]\n",
        "B1.shape"
      ],
      "execution_count": 22,
      "outputs": [
        {
          "output_type": "execute_result",
          "data": {
            "text/plain": [
              "(1, 3)"
            ]
          },
          "metadata": {
            "tags": []
          },
          "execution_count": 22
        }
      ]
    },
    {
      "cell_type": "code",
      "metadata": {
        "id": "oTjqGdFmsE4G",
        "colab_type": "code",
        "outputId": "dc7bda9b-f704-49a9-ed0c-e7176ca583bd",
        "colab": {
          "base_uri": "https://localhost:8080/",
          "height": 87
        }
      },
      "source": [
        "print(A,B)\n",
        "A1,B1"
      ],
      "execution_count": 28,
      "outputs": [
        {
          "output_type": "stream",
          "text": [
            "(array([1, 2, 3]), array([4, 5, 6]))\n"
          ],
          "name": "stdout"
        },
        {
          "output_type": "execute_result",
          "data": {
            "text/plain": [
              "(array([[1],\n",
              "        [2],\n",
              "        [3]]), array([[4, 5, 6]]))"
            ]
          },
          "metadata": {
            "tags": []
          },
          "execution_count": 28
        }
      ]
    },
    {
      "cell_type": "code",
      "metadata": {
        "id": "mH_yPml6sYJf",
        "colab_type": "code",
        "colab": {}
      },
      "source": [
        "A.shape, B.shape, A1.shape, B1.shape"
      ],
      "execution_count": 0,
      "outputs": []
    },
    {
      "cell_type": "markdown",
      "metadata": {
        "id": "wqnE4KKDuKff",
        "colab_type": "text"
      },
      "source": [
        "> **reshape()**를 이용해서 벡터형태 변형도 가능하다.\n",
        "- A.reshape(3,1)\n",
        "- A.reshape(1,3)"
      ]
    },
    {
      "cell_type": "code",
      "metadata": {
        "id": "IULMZ1-NwYyC",
        "colab_type": "code",
        "colab": {
          "base_uri": "https://localhost:8080/",
          "height": 70
        },
        "outputId": "a112004c-d8f3-494c-b4b0-9b5f4d62d7ff"
      },
      "source": [
        "A = np.array([1,2,3])\n",
        "A, A.reshape(3,1), A.reshape(1,3)  # A는 기본 A.reshape(3,1)은 3행 1열로 표시 A.reshape(1,3)은 1행 3열로 표시"
      ],
      "execution_count": 29,
      "outputs": [
        {
          "output_type": "execute_result",
          "data": {
            "text/plain": [
              "(array([1, 2, 3]), array([[1],\n",
              "        [2],\n",
              "        [3]]), array([[1, 2, 3]]))"
            ]
          },
          "metadata": {
            "tags": []
          },
          "execution_count": 29
        }
      ]
    },
    {
      "cell_type": "markdown",
      "metadata": {
        "id": "Q9mDdXeZsoJ2",
        "colab_type": "text"
      },
      "source": [
        "\n",
        "\n",
        "---\n",
        "\n"
      ]
    },
    {
      "cell_type": "markdown",
      "metadata": {
        "id": "hJdNazCX6BJW",
        "colab_type": "text"
      },
      "source": [
        "#### 벡터 산술연산"
      ]
    },
    {
      "cell_type": "markdown",
      "metadata": {
        "id": "gaL6T8Bycxiz",
        "colab_type": "text"
      },
      "source": [
        "- **벡터 산술연산**\n",
        "\n",
        "\n",
        "> 벡터 간 산술연산 (+, -, x, /, %)는 벡터의 각각의 원소에 대해서 행해진다.\n",
        "\n"
      ]
    },
    {
      "cell_type": "code",
      "metadata": {
        "id": "ehOzznnYa-0H",
        "colab_type": "code",
        "outputId": "8466c567-5c10-4240-ac48-92c42865f1be",
        "colab": {
          "base_uri": "https://localhost:8080/",
          "height": 105
        }
      },
      "source": [
        "# vector 산술 연산 (elementwise operation)\n",
        "# 벡터는 1차원 배열!\n",
        "A = np.array([1,2,3])\n",
        "B = np.array([4,5,6])\n",
        "\n",
        "print(\"A+B = \", A+B)\n",
        "print(\"A-B = \", A-B)\n",
        "print(\"A*B = \", A*B)\n",
        "print(\"A/B = \", A/B)\n",
        "print(\"A%B = \", A%B)"
      ],
      "execution_count": 31,
      "outputs": [
        {
          "output_type": "stream",
          "text": [
            "('A+B = ', array([5, 7, 9]))\n",
            "('A-B = ', array([-3, -3, -3]))\n",
            "('A*B = ', array([ 4, 10, 18]))\n",
            "('A/B = ', array([0, 0, 0]))\n",
            "('A%B = ', array([1, 2, 3]))\n"
          ],
          "name": "stdout"
        }
      ]
    },
    {
      "cell_type": "code",
      "metadata": {
        "id": "W9SoZJLOtemS",
        "colab_type": "code",
        "outputId": "d71996aa-f042-42d2-f63b-a800bfa80e18",
        "colab": {
          "base_uri": "https://localhost:8080/",
          "height": 34
        }
      },
      "source": [
        "B%A"
      ],
      "execution_count": 32,
      "outputs": [
        {
          "output_type": "execute_result",
          "data": {
            "text/plain": [
              "array([0, 1, 0])"
            ]
          },
          "metadata": {
            "tags": []
          },
          "execution_count": 32
        }
      ]
    },
    {
      "cell_type": "code",
      "metadata": {
        "id": "HiY_p_5Ptjkz",
        "colab_type": "code",
        "outputId": "78b5493b-bb17-4968-b8a7-35f54d968b18",
        "colab": {
          "base_uri": "https://localhost:8080/",
          "height": 34
        }
      },
      "source": [
        "A**B"
      ],
      "execution_count": 33,
      "outputs": [
        {
          "output_type": "execute_result",
          "data": {
            "text/plain": [
              "array([  1,  32, 729])"
            ]
          },
          "metadata": {
            "tags": []
          },
          "execution_count": 33
        }
      ]
    },
    {
      "cell_type": "markdown",
      "metadata": {
        "id": "yuwVL3pheF5O",
        "colab_type": "text"
      },
      "source": [
        "### numpy matrix (2차원 행렬)"
      ]
    },
    {
      "cell_type": "markdown",
      "metadata": {
        "id": "TAnvHnEJ6FEJ",
        "colab_type": "text"
      },
      "source": [
        "#### 행렬 생성"
      ]
    },
    {
      "cell_type": "markdown",
      "metadata": {
        "id": "tCo3bfQ1eJbj",
        "colab_type": "text"
      },
      "source": [
        "- **행렬 생성**\n",
        "\n",
        "\n",
        "> matrix는 벡터와 마찬가지로 np.array([ [...], [...], ... ])를 사용하여 생성한다.\n",
        "\n",
        "\n",
        ">     예)  import numpy as np\n",
        "\n",
        "\n",
        "          A = (1 2 3)       B = (-1 -2 -3)\n",
        "              (4 5 6)           (-4 -5 -6)\n",
        "            shape 2x3       shape 2x3\n",
        "\n",
        "\n"
      ]
    },
    {
      "cell_type": "code",
      "metadata": {
        "id": "wcx7fbWGdc9D",
        "colab_type": "code",
        "outputId": "4357fe75-a65e-4f0a-fd15-2964c1b63e7b",
        "colab": {
          "base_uri": "https://localhost:8080/",
          "height": 52
        }
      },
      "source": [
        "A = np.array([ [1,2,3], [4,5,6] ])\n",
        "B = np.array([ [-1,-2,-3], [-4,-5,-6] ])\n",
        "\n",
        "# vector A, B 구조 출력 => shape\n",
        "print(\"A.shape = {0}, B.shape =  {1}\".format(A.shape, B.shape))\n",
        "\n",
        "# vector A, B 차원 출력 => ndim\n",
        "print(\"A.ndim = {0}, B.ndim = {1}\".format(A.ndim, B.ndim))"
      ],
      "execution_count": 34,
      "outputs": [
        {
          "output_type": "stream",
          "text": [
            "A.shape = (2, 3), B.shape =  (2, 3)\n",
            "A.ndim = 2, B.ndim = 2\n"
          ],
          "name": "stdout"
        }
      ]
    },
    {
      "cell_type": "markdown",
      "metadata": {
        "id": "qSW-t71a6HBY",
        "colab_type": "text"
      },
      "source": [
        "#### 형 변환 (reshape)"
      ]
    },
    {
      "cell_type": "markdown",
      "metadata": {
        "id": "KwTsdW9rfXj8",
        "colab_type": "text"
      },
      "source": [
        "- **형 변환 (reshape)**\n",
        "\n",
        "\n",
        "> 벡터를 matrix로 변경하거나 matrix를 다른 구조의 matrix로 변경하기 위해서는 reshape() 사용하여 행렬의 shape를 변경하여야 한다.\n",
        "\n",
        "           예) D = (1 2 3)   D.reshape(3,2) = (1 2)\n",
        "                   (4 5 6)                    (3 4)\n",
        "                                              (5 6)\n",
        "                shape 2x3             shape 3x2"
      ]
    },
    {
      "cell_type": "code",
      "metadata": {
        "id": "HWgzy1zqfTSb",
        "colab_type": "code",
        "outputId": "7381de15-f67f-4be2-e936-a60967c6f940",
        "colab": {
          "base_uri": "https://localhost:8080/",
          "height": 70
        }
      },
      "source": [
        "# reshape()를 이용한 열벡터 생성\n",
        "\n",
        "C = np.array([1,2,3])  # 기본 벡터\n",
        "\n",
        "# 벡터 C의 구조 출력 => shape\n",
        "print(\"C.shape = \", C.shape)\n",
        "\n",
        "# 벡터를 (3,1) 행렬로 형 변환 => 열벡터로 변환\n",
        "C1 = C.reshape(3,1)\n",
        "\n",
        "print(\"C1.shape = \", C1.shape)\n",
        "\n",
        "# 벡터를 (1,3) 행렬로 형 변환 => 행벡터로 변환\n",
        "C2 = C.reshape(1,3)\n",
        "\n",
        "print(\"C2.shape = \", C2.shape)"
      ],
      "execution_count": 35,
      "outputs": [
        {
          "output_type": "stream",
          "text": [
            "('C.shape = ', (3,))\n",
            "('C1.shape = ', (3, 1))\n",
            "('C2.shape = ', (1, 3))\n"
          ],
          "name": "stdout"
        }
      ]
    },
    {
      "cell_type": "code",
      "metadata": {
        "colab_type": "code",
        "outputId": "bbe92b21-1e6d-4a8c-b67a-82e803cd8c81",
        "id": "RXvGHEV5wBDe",
        "colab": {
          "base_uri": "https://localhost:8080/",
          "height": 141
        }
      },
      "source": [
        "# reshape()를 이용한 전치행렬 생성\n",
        "\n",
        "D = np.array([ [1,2,3], [4,5,6] ])  # (2,3) 행렬\n",
        "\n",
        "# 배열 D의 구조 출력 => shape\n",
        "print(\"D.shape = \", D.shape)\n",
        "\n",
        "# 배열 D를 (3,2) 행렬로 형 변환 \n",
        "D1 = D.reshape(3,2)\n",
        "\n",
        "print(\"D1.shape = \", D1.shape)\n",
        "\n",
        "# D와 D1 출력\n",
        "print(D)\n",
        "print(D1)"
      ],
      "execution_count": 36,
      "outputs": [
        {
          "output_type": "stream",
          "text": [
            "('D.shape = ', (2, 3))\n",
            "('D1.shape = ', (3, 2))\n",
            "[[1 2 3]\n",
            " [4 5 6]]\n",
            "[[1 2]\n",
            " [3 4]\n",
            " [5 6]]\n"
          ],
          "name": "stdout"
        }
      ]
    },
    {
      "cell_type": "markdown",
      "metadata": {
        "id": "MiYCqlid6NET",
        "colab_type": "text"
      },
      "source": [
        "### numpy 행렬 곱 (dot product)"
      ]
    },
    {
      "cell_type": "markdown",
      "metadata": {
        "id": "I0B2LxuFiHzU",
        "colab_type": "text"
      },
      "source": [
        "#### 행렬 곱 (dot product)"
      ]
    },
    {
      "cell_type": "markdown",
      "metadata": {
        "id": "8FPDBzTliLDT",
        "colab_type": "text"
      },
      "source": [
        "- **행렬 곱 (dot product)**\n",
        "\n",
        "\n",
        "> A 행렬과 B 행렬의 행렬 곱 (dot product)는 np.dot(A,B)로 나타내며, 행렬 A의 열벡터와 B 행렬의 행벡터가 같아야 한다.\n",
        "\n",
        "\n",
        "> 만약 같지 않으면 **reshape 또는 전치행렬(transpose) 등을 사용하여 형 변환을 한 후에 행렬 곱을 실행**해야 한다.\n",
        "\n",
        "\n",
        "\n"
      ]
    },
    {
      "cell_type": "code",
      "metadata": {
        "id": "jX9CRfnGgiGI",
        "colab_type": "code",
        "outputId": "8a7d7ae0-e1e2-40f1-a069-ef69d7c289dc",
        "colab": {
          "base_uri": "https://localhost:8080/",
          "height": 176
        }
      },
      "source": [
        "A = np.array([ [1,2,3], [4,5,6] ]) # 2x3 행렬\n",
        "B = np.array([ [-1,-2], [-3,-4], [-5,-6] ]) # 3x2 행렬\n",
        "print(A)\n",
        "print(B)\n",
        "# (2x3) dot product (3x2) == (2x2) 행렬\n",
        "C = np.dot(A, B) # 행렬 곱 수행\n",
        "\n",
        "# matrix A, B 형상 출력 => shape\n",
        "print(\"A.shape = \", A.shape, \", B.shape = \", B.shape)\n",
        "print(\"C.shape = \", C.shape)\n",
        "print(C)"
      ],
      "execution_count": 38,
      "outputs": [
        {
          "output_type": "stream",
          "text": [
            "[[1 2 3]\n",
            " [4 5 6]]\n",
            "[[-1 -2]\n",
            " [-3 -4]\n",
            " [-5 -6]]\n",
            "('A.shape = ', (2, 3), ', B.shape = ', (3, 2))\n",
            "('C.shape = ', (2, 2))\n",
            "[[-22 -28]\n",
            " [-49 -64]]\n"
          ],
          "name": "stdout"
        }
      ]
    },
    {
      "cell_type": "markdown",
      "metadata": {
        "id": "kc2e0WGsjMbr",
        "colab_type": "text"
      },
      "source": [
        "** 주의\n",
        "\n",
        ">    A     x    B   =  C  \n",
        "> (2x**3) x (3**x2) = (2x2)\n",
        "\n",
        "=> 이렇듯 행렬 A의 열의 수와  B의 행의 수가 같아야 한다!"
      ]
    },
    {
      "cell_type": "markdown",
      "metadata": {
        "id": "LoveJgTEjy4-",
        "colab_type": "text"
      },
      "source": [
        "#### 행렬 곱 (dot product) (ll)"
      ]
    },
    {
      "cell_type": "markdown",
      "metadata": {
        "id": "seOr48Wjj-E1",
        "colab_type": "text"
      },
      "source": [
        "행렬 곱은 사칙연산과는 다른 특징을 가진다."
      ]
    },
    {
      "cell_type": "markdown",
      "metadata": {
        "id": "BWoY3pE_j3ye",
        "colab_type": "text"
      },
      "source": [
        "- 행렬 곱은 행렬의 원소 개수가 같아야만 계산할 수 있는 사칙연산의 한계를 벗어나\n",
        "\n",
        "\n",
        "> 1.   행렬 곱 조건을 만족하는 다양한 크기의 행렬을 연속으로 만들고\n",
        "2.   행렬 곱을 연속으로 계산하면서\n",
        "3. 결괏값을 만들 수 있기 때문에 머신러닝과 이미지 프로세싱 분야에서 자주 사용된다.\n",
        "\n",
        "        예) 입력 행렬 형상이 64X64이고, 결과 행렬 형상이 64X10이라면, 중간에 dot product 를 만족시키는 어떤 형상의 행렬이라도 가질 수 있다.\n",
        "        \n",
        "> 행렬 곱을 사용하지 않고 산술 연산만 가능하다면, 입력 행렬의 64X64 크기를 가지는 특성 값만을 사용해야 하기 때문에 다양한 특성을 갖는 필터 개발이 불가능하다."
      ]
    },
    {
      "cell_type": "markdown",
      "metadata": {
        "id": "pi5OgP-GlYQ2",
        "colab_type": "text"
      },
      "source": [
        "### numpy broadcast (**브로드캐스트**)"
      ]
    },
    {
      "cell_type": "markdown",
      "metadata": {
        "id": "b6EWWaQPlf_P",
        "colab_type": "text"
      },
      "source": [
        "- 행렬의 사칙연산은 기본적으로 두 개의 행렬 크기가 같은 경우에만 수행할 수 있다.\n",
        "- 그러나 numpy에서는 **크기가 다른 두 행렬간에도 사칙연산(+,-,x,/)를 사용할 수 있는데 이를 브로드캐스트(broadcast)**라고 지칭한다.\n",
        "- 브로드캐스트는 차원이 작은 쪽이 큰 쪽의 행 단위로 반복적으로 크기를 맞춘 후에 계산된다."
      ]
    },
    {
      "cell_type": "code",
      "metadata": {
        "id": "XE99UiBajJWb",
        "colab_type": "code",
        "outputId": "a11bd5fd-8371-43c8-e605-e0a8228e1ab4",
        "colab": {
          "base_uri": "https://localhost:8080/",
          "height": 52
        }
      },
      "source": [
        "A = np.array([ [1,2], [3,4] ])\n",
        "b = 5\n",
        "\n",
        "print(A+b)"
      ],
      "execution_count": 39,
      "outputs": [
        {
          "output_type": "stream",
          "text": [
            "[[6 7]\n",
            " [8 9]]\n"
          ],
          "name": "stdout"
        }
      ]
    },
    {
      "cell_type": "markdown",
      "metadata": {
        "id": "sBtbTlJgmJ4O",
        "colab_type": "text"
      },
      "source": [
        "=> b가 2x2 행렬로 바뀐다.\n",
        "\n",
        "\n",
        ">      b = 5   =>   (5 5)\n",
        "                  (5 5)"
      ]
    },
    {
      "cell_type": "code",
      "metadata": {
        "id": "7z0AHcARmBaE",
        "colab_type": "code",
        "outputId": "291d1b5b-0fb5-4416-f3ee-8ef8446028e9",
        "colab": {
          "base_uri": "https://localhost:8080/",
          "height": 52
        }
      },
      "source": [
        "C = np.array([ [1,2], [3,4] ])\n",
        "D = np.array([4,5]) # 2x2로 변환되서 계산된다.\n",
        "\n",
        "print(C+D)"
      ],
      "execution_count": 40,
      "outputs": [
        {
          "output_type": "stream",
          "text": [
            "[[5 7]\n",
            " [7 9]]\n"
          ],
          "name": "stdout"
        }
      ]
    },
    {
      "cell_type": "markdown",
      "metadata": {
        "id": "AfNtr1bHmup-",
        "colab_type": "text"
      },
      "source": [
        "=> D가 2x2 행렬로 바뀐다.\n",
        "\n",
        "\n",
        ">      D = (4 5)  =>  (4 5)\n",
        "                    (4 5)\n",
        "\n"
      ]
    },
    {
      "cell_type": "markdown",
      "metadata": {
        "id": "z1VJ6D65nHBY",
        "colab_type": "text"
      },
      "source": [
        "- **브로드캐스트는 사칙연산에만 사용된다**는 것을 반드시 기억할 것! **행렬 곱에는 적용안됨!!!**"
      ]
    },
    {
      "cell_type": "markdown",
      "metadata": {
        "id": "nvPzR19RnVDD",
        "colab_type": "text"
      },
      "source": [
        "### numpy 전치행렬 (transpose)"
      ]
    },
    {
      "cell_type": "markdown",
      "metadata": {
        "id": "sd9iRsaMnZRv",
        "colab_type": "text"
      },
      "source": [
        "- 어떤 행렬의 전치행렬은 원본 행렬의 **열은 행으로, 행은 열로** 바꾼 것이다.\n",
        "- 원본 행렬을 A라고 하면 전치행렬은 **A.T** 로 나타낸다.\n",
        "- 즉, 1행은 1열로 바꾸고 2행은 2열로, 3행은 3열로 바꾼 행렬을 의미한다.\n",
        "\n"
      ]
    },
    {
      "cell_type": "code",
      "metadata": {
        "id": "4KJ9lslEmHlu",
        "colab_type": "code",
        "outputId": "90b72584-a5eb-46ee-8881-32766926d825",
        "colab": {
          "base_uri": "https://localhost:8080/",
          "height": 123
        }
      },
      "source": [
        "A = np.array([ [1,2],[3,4],[5,6] ]) # 3x2행렬\n",
        "B = A.T  # A의 전치행렬, 2x3행렬\n",
        "\n",
        "print(\"A.shape ==\", A.shape, \", B.shape ==\", B.shape)\n",
        "print(A)\n",
        "print(B)"
      ],
      "execution_count": 41,
      "outputs": [
        {
          "output_type": "stream",
          "text": [
            "('A.shape ==', (3, 2), ', B.shape ==', (2, 3))\n",
            "[[1 2]\n",
            " [3 4]\n",
            " [5 6]]\n",
            "[[1 3 5]\n",
            " [2 4 6]]\n"
          ],
          "name": "stdout"
        }
      ]
    },
    {
      "cell_type": "code",
      "metadata": {
        "id": "cRf-Z8zJoNKv",
        "colab_type": "code",
        "outputId": "3cb4f50f-8133-48df-e99a-f31b7d20e48e",
        "colab": {
          "base_uri": "https://localhost:8080/",
          "height": 158
        }
      },
      "source": [
        "# vector 전치행렬\n",
        "\n",
        "C = np.array([1,2,3,4,5]) # vector, matrix 아님\n",
        "D = C.T  # C는 벡터이므로 transpose 안됨\n",
        "\n",
        "E = C.reshape(1,5) # 1x5 matrix\n",
        "F = E.T  # E의 전치행렬\n",
        "\n",
        "print(\"C.shape ==\", C.shape, \", D.shape ==\", D.shape)\n",
        "print(\"E.shape ==\", E.shape, \", F.shape ==\", F.shape)\n",
        "print(E)\n",
        "print(F)"
      ],
      "execution_count": 42,
      "outputs": [
        {
          "output_type": "stream",
          "text": [
            "('C.shape ==', (5,), ', D.shape ==', (5,))\n",
            "('E.shape ==', (1, 5), ', F.shape ==', (5, 1))\n",
            "[[1 2 3 4 5]]\n",
            "[[1]\n",
            " [2]\n",
            " [3]\n",
            " [4]\n",
            " [5]]\n"
          ],
          "name": "stdout"
        }
      ]
    },
    {
      "cell_type": "markdown",
      "metadata": {
        "id": "kn8VF_T2oxbf",
        "colab_type": "text"
      },
      "source": [
        "### numpy 행렬 원소 접근"
      ]
    },
    {
      "cell_type": "markdown",
      "metadata": {
        "id": "_oIbfkwCrIIQ",
        "colab_type": "text"
      },
      "source": [
        "####  indexing & slicing"
      ]
    },
    {
      "cell_type": "markdown",
      "metadata": {
        "id": "i70ADsUWpFNu",
        "colab_type": "text"
      },
      "source": [
        "- **행렬 원소 접근(l)**\n",
        "\n",
        "\n",
        "> 행렬 원소를 명시적(explicit)으로 접근하기 위해서는 리스트에서처럼, 인덱싱 & 슬라이싱 모두 사용이 가능하다.\n",
        "\n",
        "          예1) A[0,0] 또는 A[0][0]은 1행 1열, A[2,1] 또는 A[2][1]은 3행 2열임\n",
        "          예2) A[ : , 0] 은 모든 행 1열을 나타냄\n",
        "          예3) A[0:-1, 1:2] 인덱스 0인 1행부터 인덱스 -1-1=-2인 2행까지의 모든 데이터,\n",
        "                            그리고 인덱스 1인 2열부터 인덱스 2-1=1인 2열까지의 모든 데이터\n",
        "          예4) A[ :, : ] 은 모든 행, 모든 열\n",
        "\n"
      ]
    },
    {
      "cell_type": "code",
      "metadata": {
        "id": "1BKmHSjxopyB",
        "colab_type": "code",
        "outputId": "67722202-5f05-4a9b-c7ce-6e880fde4073",
        "colab": {
          "base_uri": "https://localhost:8080/",
          "height": 141
        }
      },
      "source": [
        "# 예제1\n",
        "\n",
        "A = np.array([10,20,30,40,50,60]).reshape(3,2)\n",
        "\n",
        "print(\"A.shape = \", A.shape)\n",
        "print(A)\n",
        "A"
      ],
      "execution_count": 43,
      "outputs": [
        {
          "output_type": "stream",
          "text": [
            "('A.shape = ', (3, 2))\n",
            "[[10 20]\n",
            " [30 40]\n",
            " [50 60]]\n"
          ],
          "name": "stdout"
        },
        {
          "output_type": "execute_result",
          "data": {
            "text/plain": [
              "array([[10, 20],\n",
              "       [30, 40],\n",
              "       [50, 60]])"
            ]
          },
          "metadata": {
            "tags": []
          },
          "execution_count": 43
        }
      ]
    },
    {
      "cell_type": "code",
      "metadata": {
        "id": "CWL4qtyjqKsA",
        "colab_type": "code",
        "outputId": "cf35b9f3-979f-48c1-b818-3a5d2944bfa1",
        "colab": {
          "base_uri": "https://localhost:8080/",
          "height": 52
        }
      },
      "source": [
        "# 예제2 - 인덱싱\n",
        "\n",
        "print(\"A[0,0] ==\", A[0,0], \", A[0][0] ==\", A[0][0])\n",
        "print(\"A[2,1] ==\", A[2,1], \", A[2][1] ==\", A[2][1])"
      ],
      "execution_count": 44,
      "outputs": [
        {
          "output_type": "stream",
          "text": [
            "('A[0,0] ==', 10, ', A[0][0] ==', 10)\n",
            "('A[2,1] ==', 60, ', A[2][1] ==', 60)\n"
          ],
          "name": "stdout"
        }
      ]
    },
    {
      "cell_type": "code",
      "metadata": {
        "id": "Wn8_1uuYqam2",
        "colab_type": "code",
        "outputId": "0962796e-acfa-47c1-9298-af4a05e0e314",
        "colab": {
          "base_uri": "https://localhost:8080/",
          "height": 52
        }
      },
      "source": [
        "# 예제3 - 슬라이싱\n",
        "\n",
        "print(\"A[0:-1, 1:2] ==\", A[0:-1, 1:2])  # == A[0:2, 1:2]"
      ],
      "execution_count": 45,
      "outputs": [
        {
          "output_type": "stream",
          "text": [
            "('A[0:-1, 1:2] ==', array([[20],\n",
            "       [40]]))\n"
          ],
          "name": "stdout"
        }
      ]
    },
    {
      "cell_type": "code",
      "metadata": {
        "id": "YY80y8L1WOtm",
        "colab_type": "code",
        "outputId": "248ae2b9-3b8e-4b1e-f3a8-be105b85cc05",
        "colab": {
          "base_uri": "https://localhost:8080/",
          "height": 52
        }
      },
      "source": [
        "A[0:2, 1:2]"
      ],
      "execution_count": 46,
      "outputs": [
        {
          "output_type": "execute_result",
          "data": {
            "text/plain": [
              "array([[20],\n",
              "       [40]])"
            ]
          },
          "metadata": {
            "tags": []
          },
          "execution_count": 46
        }
      ]
    },
    {
      "cell_type": "code",
      "metadata": {
        "id": "ToMWigEjqqaK",
        "colab_type": "code",
        "outputId": "65fd3e2c-f993-41bd-a2e5-f2116443d551",
        "colab": {
          "base_uri": "https://localhost:8080/",
          "height": 87
        }
      },
      "source": [
        "# 예제4 - 슬라이싱\n",
        "\n",
        "print(\"A[ :, 0] ==\", A[:, 0])\n",
        "print(\"A[ :, :] ==\", A[:, :])"
      ],
      "execution_count": 47,
      "outputs": [
        {
          "output_type": "stream",
          "text": [
            "('A[ :, 0] ==', array([10, 30, 50]))\n",
            "('A[ :, :] ==', array([[10, 20],\n",
            "       [30, 40],\n",
            "       [50, 60]]))\n"
          ],
          "name": "stdout"
        }
      ]
    },
    {
      "cell_type": "markdown",
      "metadata": {
        "id": "RnMm5JvJrKKW",
        "colab_type": "text"
      },
      "source": [
        "#### iterator"
      ]
    },
    {
      "cell_type": "markdown",
      "metadata": {
        "id": "M-KiSswzrOtX",
        "colab_type": "text"
      },
      "source": [
        "- **행렬 원소 접근(ll)**\n",
        "\n",
        "\n",
        "> 명시적(explicit) 인덱싱 & 슬라이싱 이외에 **행렬 모든 원소를 access하는 경우에는 iterator** 사용이 가능하다.\n",
        "\n",
        "\n",
        "> numpy iterator는 C++, Java iterator처럼 next() 메서드를 통해,                     \n",
        "                데이터값을 처음부터 끝까지 순차적으로 읽어들이는 방법을 제공한다.\n",
        "\n",
        "\n",
        "\n"
      ]
    },
    {
      "cell_type": "code",
      "metadata": {
        "id": "FxU6cxHQq0uc",
        "colab_type": "code",
        "outputId": "7d249f52-d686-4300-9db2-815def0a3e96",
        "colab": {
          "base_uri": "https://localhost:8080/",
          "height": 70
        }
      },
      "source": [
        "import numpy as np\n",
        "\n",
        "A = np.array([ [10,20,30,40], [50,60,70,80] ])\n",
        "\n",
        "print(A)\n",
        "print(\"A.shape = \", A.shape)\n"
      ],
      "execution_count": 48,
      "outputs": [
        {
          "output_type": "stream",
          "text": [
            "[[10 20 30 40]\n",
            " [50 60 70 80]]\n",
            "('A.shape = ', (2, 4))\n"
          ],
          "name": "stdout"
        }
      ]
    },
    {
      "cell_type": "code",
      "metadata": {
        "id": "jW6s_aP_2MCV",
        "colab_type": "code",
        "outputId": "f0f25ddb-e746-48b9-bcc4-1105f37cb017",
        "colab": {
          "base_uri": "https://localhost:8080/",
          "height": 158
        }
      },
      "source": [
        "# 행렬 A의 iterator 생성\n",
        "\n",
        "it = np.nditer(A, flags=['multi_index'], op_flags=['readwrite'])\n",
        "\n",
        "while not it.finished:\n",
        "  \n",
        "  idx = it.multi_index\n",
        "  \n",
        "  print(\"current value => \", A[idx])\n",
        "  \n",
        "  it.iternext()"
      ],
      "execution_count": 49,
      "outputs": [
        {
          "output_type": "stream",
          "text": [
            "('current value => ', 10)\n",
            "('current value => ', 20)\n",
            "('current value => ', 30)\n",
            "('current value => ', 40)\n",
            "('current value => ', 50)\n",
            "('current value => ', 60)\n",
            "('current value => ', 70)\n",
            "('current value => ', 80)\n"
          ],
          "name": "stdout"
        }
      ]
    },
    {
      "cell_type": "markdown",
      "metadata": {
        "id": "s9RsfZAYsc7p",
        "colab_type": "text"
      },
      "source": [
        "2x4 행렬인 경우,\n",
        "\n",
        "> (0,0) => (0,1) => (0,2) => (0,3) => (1,0) => (1,1) => (1,2) => (1,3)   순서대로 access\n",
        " \n"
      ]
    },
    {
      "cell_type": "markdown",
      "metadata": {
        "id": "BzkgLZWvdQbe",
        "colab_type": "text"
      },
      "source": [
        "\n",
        "\n",
        "---\n",
        "\n"
      ]
    },
    {
      "cell_type": "code",
      "metadata": {
        "id": "omB98w4MdRA9",
        "colab_type": "code",
        "colab": {}
      },
      "source": [
        ""
      ],
      "execution_count": 0,
      "outputs": []
    }
  ]
}