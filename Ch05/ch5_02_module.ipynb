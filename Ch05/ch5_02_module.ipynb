{
  "nbformat": 4,
  "nbformat_minor": 0,
  "metadata": {
    "colab": {
      "name": "ch5_02_module.ipynb",
      "provenance": [],
      "include_colab_link": true
    },
    "kernelspec": {
      "name": "python3",
      "display_name": "Python 3"
    }
  },
  "cells": [
    {
      "cell_type": "markdown",
      "metadata": {
        "id": "view-in-github",
        "colab_type": "text"
      },
      "source": [
        "<a href=\"https://colab.research.google.com/github/Tajyu/sm11/blob/master/Ch05/ch5_02_module.ipynb\" target=\"_parent\"><img src=\"https://colab.research.google.com/assets/colab-badge.svg\" alt=\"Open In Colab\"/></a>"
      ]
    },
    {
      "cell_type": "markdown",
      "metadata": {
        "id": "H-2UwDTqZBsT",
        "colab_type": "text"
      },
      "source": [
        "# 모듈이란 무엇인가?\n",
        "\n",
        "## 모듈이란 함수나 변수 또는 클래스를 모아 놓은 파이썬 파일"
      ]
    },
    {
      "cell_type": "markdown",
      "metadata": {
        "id": "2rkXCAlbZGHh",
        "colab_type": "text"
      },
      "source": [
        "## 모듈 만들기\n",
        "###  파이썬 확장자 .py로 만든 파이썬 파일은 모두 모듈이다."
      ]
    },
    {
      "cell_type": "code",
      "metadata": {
        "id": "3cxJdD8MY-td",
        "colab_type": "code",
        "colab": {
          "base_uri": "https://localhost:8080/",
          "height": 53
        },
        "outputId": "645d214e-b49f-4ffa-cf93-af7842603bd0"
      },
      "source": [
        "def add(a, b):\n",
        "    return a + b\n",
        "\n",
        "def sub(a, b): \n",
        "    return a-b\n",
        "\n",
        "print(add(1, 4))\n",
        "print(sub(4, 2))"
      ],
      "execution_count": 1,
      "outputs": [
        {
          "output_type": "stream",
          "text": [
            "5\n",
            "2\n"
          ],
          "name": "stdout"
        }
      ]
    },
    {
      "cell_type": "markdown",
      "metadata": {
        "id": "ApHo4ZPWaN5h",
        "colab_type": "text"
      },
      "source": [
        "## 모듈 불러오기\n",
        "### import 모듈명\n",
        "### import는 이미 만들어 놓은 파이썬 모듈을 사용할 수 있게 해주는 명령어"
      ]
    },
    {
      "cell_type": "code",
      "metadata": {
        "id": "jzQW9n4vaNsm",
        "colab_type": "code",
        "colab": {
          "base_uri": "https://localhost:8080/",
          "height": 89
        },
        "outputId": "4b559034-e0fa-4d02-86dc-8a4e259c37c3"
      },
      "source": [
        "# 현재 폴더에 있는 모듈, mod1.py를 연결하기.\n",
        "#\n",
        "import mod1\n",
        "print(mod1.add(3, 4))\n",
        "\n",
        "print(mod1.sub(7, 2))"
      ],
      "execution_count": 2,
      "outputs": [
        {
          "output_type": "stream",
          "text": [
            "5\n",
            "2\n",
            "7\n",
            "5\n"
          ],
          "name": "stdout"
        }
      ]
    },
    {
      "cell_type": "markdown",
      "metadata": {
        "id": "sCRlcEaPaipS",
        "colab_type": "text"
      },
      "source": [
        "## 모듈 내부 함수 이용\n",
        "### from 모듈이름 import 모듈함수"
      ]
    },
    {
      "cell_type": "code",
      "metadata": {
        "id": "9E1XhwnDaigB",
        "colab_type": "code",
        "colab": {
          "base_uri": "https://localhost:8080/",
          "height": 35
        },
        "outputId": "2f02c609-4443-4e3d-dba4-6d89ac1bf134"
      },
      "source": [
        "from mod1 import add\n",
        "add(3, 4)"
      ],
      "execution_count": 3,
      "outputs": [
        {
          "output_type": "execute_result",
          "data": {
            "text/plain": [
              "7"
            ]
          },
          "metadata": {
            "tags": []
          },
          "execution_count": 3
        }
      ]
    },
    {
      "cell_type": "code",
      "metadata": {
        "id": "2PqrU2jFcgYK",
        "colab_type": "code",
        "colab": {
          "base_uri": "https://localhost:8080/",
          "height": 53
        },
        "outputId": "e67c5b1a-470c-4842-95cf-b7a36d19ea0a"
      },
      "source": [
        "# from 모듈이름 import * \n",
        "# from mod1 import add, sub\n",
        "from mod1 import *  # *은 모두라는 뜻. 즉, 모듈을 전부 사용한다.\n",
        "\n",
        "print(add(3, 4))\n",
        "print(sub(7, 3))"
      ],
      "execution_count": 5,
      "outputs": [
        {
          "output_type": "stream",
          "text": [
            "7\n",
            "4\n"
          ],
          "name": "stdout"
        }
      ]
    },
    {
      "cell_type": "markdown",
      "metadata": {
        "id": "xhJkK_JxcrZa",
        "colab_type": "text"
      },
      "source": [
        "## if __name__ == \"__main__\": 의 의미\n",
        "### import 모듈명\n",
        "### import는 이미 만들어 놓은 파이썬 모듈을 \n",
        "### 사용할 수 있게 해주는 명령어"
      ]
    },
    {
      "cell_type": "code",
      "metadata": {
        "id": "UB3DxtV1k2vq",
        "colab_type": "code",
        "colab": {}
      },
      "source": [
        "import mod2\n",
        "print(__name__)\n",
        "# if __name__ == \"__main__\"을 사용하면 C:\\doit>python mod1.py처럼 \n",
        "# 직접 이 파일을 실행했을 때는 __name__ == \"__main__\"이 참이 되어 \n",
        "# if문 다음 문장이 수행된다. \n",
        "# 반대로 대화형 인터프리터나 다른 파일에서 이 모듈을 불러서 사용할 때는 \n",
        "# __name__ == \"__main__\"이 거짓이 되어 if문 다음 문장이 수행되지 않는다."
      ],
      "execution_count": 0,
      "outputs": []
    },
    {
      "cell_type": "markdown",
      "metadata": {
        "id": "4yib-oz3dncq",
        "colab_type": "text"
      },
      "source": [
        "## 클래스나 변수 등을 포함한 모듈"
      ]
    },
    {
      "cell_type": "code",
      "metadata": {
        "id": "FSx6FF8EdnVA",
        "colab_type": "code",
        "colab": {
          "base_uri": "https://localhost:8080/",
          "height": 71
        },
        "outputId": "4d2f3ae9-1fde-4afd-eca9-0cc4b2e5b8ff"
      },
      "source": [
        "import mod3\n",
        "\n",
        "print(mod3.PI)\n",
        "\n",
        "a = mod3.Math()\n",
        "print(a.solv(2))\n",
        "\n",
        "print(mod3.add(mod3.PI, 4.4))"
      ],
      "execution_count": 8,
      "outputs": [
        {
          "output_type": "stream",
          "text": [
            "3.141592\n",
            "12.566368\n",
            "7.5415920000000005\n"
          ],
          "name": "stdout"
        }
      ]
    },
    {
      "cell_type": "markdown",
      "metadata": {
        "id": "_JGMq6QUfRUS",
        "colab_type": "text"
      },
      "source": [
        "## 다른 파일에서 모듈 불러오기"
      ]
    },
    {
      "cell_type": "code",
      "metadata": {
        "id": "BvXIn6Fldp0u",
        "colab_type": "code",
        "colab": {
          "base_uri": "https://localhost:8080/",
          "height": 35
        },
        "outputId": "b70dea0c-87cc-479f-9a22-0b9d24df3495"
      },
      "source": [
        "# modtest.py\n",
        "import mod2\n",
        "result = mod2.add(3, 4)\n",
        "print(result)"
      ],
      "execution_count": 10,
      "outputs": [
        {
          "output_type": "stream",
          "text": [
            "7\n"
          ],
          "name": "stdout"
        }
      ]
    }
  ]
}