{
  "nbformat": 4,
  "nbformat_minor": 0,
  "metadata": {
    "colab": {
      "name": "ch5_05_internal_functions.ipynb",
      "provenance": [],
      "collapsed_sections": [],
      "toc_visible": true,
      "include_colab_link": true
    },
    "kernelspec": {
      "name": "python3",
      "display_name": "Python 3"
    }
  },
  "cells": [
    {
      "cell_type": "markdown",
      "metadata": {
        "id": "view-in-github",
        "colab_type": "text"
      },
      "source": [
        "<a href=\"https://colab.research.google.com/github/Tajyu/sm11/blob/master/Ch05/ch5_05_internal_functions.ipynb\" target=\"_parent\"><img src=\"https://colab.research.google.com/assets/colab-badge.svg\" alt=\"Open In Colab\"/></a>"
      ]
    },
    {
      "cell_type": "markdown",
      "metadata": {
        "id": "GeJmd5yJfpsm",
        "colab_type": "text"
      },
      "source": [
        "# 내장 함수\n",
        "## 파이썬 내장 함수는 미리 준비된 내부 모듈\n",
        "## 외부 모듈과 달리 import가 필요하지 않다."
      ]
    },
    {
      "cell_type": "code",
      "metadata": {
        "id": "9z31F_CofpA2",
        "colab_type": "code",
        "colab": {}
      },
      "source": [
        "print(\"abs()\")\n",
        "\n",
        "# abs(x)는 어떤 숫자를 입력받았을 때,\n",
        "# 그 숫자의 절댓값을 돌려주는 함수\n",
        "\n",
        "print(abs(3))\n",
        "print(abs(-3))\n",
        "print(abs(-1.2))"
      ],
      "execution_count": 0,
      "outputs": []
    },
    {
      "cell_type": "code",
      "metadata": {
        "id": "wGhExSY6gJ4G",
        "colab_type": "code",
        "colab": {}
      },
      "source": [
        "print(\"all()\")\n",
        "\n",
        "# all(x)는 반복 가능한(iterable) 자료형 x를 입력 인수로 받으며\n",
        "# 이 x가 모두 참이면 True, 거짓이 하나라도 있으면 False를 돌려준다.\n",
        "\n",
        "print(all([1, 2, 3]))\n",
        "print(all([0, 1, 2, 3]))"
      ],
      "execution_count": 0,
      "outputs": []
    },
    {
      "cell_type": "code",
      "metadata": {
        "id": "buNXddzrgQOs",
        "colab_type": "code",
        "colab": {}
      },
      "source": [
        "bool([0, 1, 2, 3]), bool([0]), bool((0)), bool((0,))"
      ],
      "execution_count": 0,
      "outputs": []
    },
    {
      "cell_type": "code",
      "metadata": {
        "id": "KFad_r-jgU-T",
        "colab_type": "code",
        "colab": {}
      },
      "source": [
        "print(\"any()\")\n",
        "\n",
        "# any(x)는 x 중 하나라도 참이 있으면 True를 돌려주고,\n",
        "# x가 모두 거짓일 때에만 False를 돌려준다. all(x)의 반대이다.\n",
        "\n",
        "print(any([0, 1, 2, 3]))\n",
        "\n",
        "print(any([0, \"\"]))"
      ],
      "execution_count": 0,
      "outputs": []
    },
    {
      "cell_type": "code",
      "metadata": {
        "id": "NzLIQ8utgZ0M",
        "colab_type": "code",
        "colab": {
          "base_uri": "https://localhost:8080/",
          "height": 71
        },
        "outputId": "7730080a-bc27-4918-b3e8-e97f486441c1"
      },
      "source": [
        "print(\"chr()\")\n",
        "\n",
        "# chr(i)는 아스키(ASCII) 코드 값을 입력받아\n",
        "# 그 코드에 해당하는 문자를 출력하는 함수이다.\n",
        "\n",
        "print(chr(97))\n",
        "print(chr(48))"
      ],
      "execution_count": 6,
      "outputs": [
        {
          "output_type": "stream",
          "text": [
            "chr()\n",
            "a\n",
            "0\n"
          ],
          "name": "stdout"
        }
      ]
    },
    {
      "cell_type": "code",
      "metadata": {
        "id": "SmLLFz6Xge13",
        "colab_type": "code",
        "colab": {
          "base_uri": "https://localhost:8080/",
          "height": 109
        },
        "outputId": "893c4799-6c73-4a28-b135-8f3afdd45d9f"
      },
      "source": [
        "print(\"dir()\")\n",
        "\n",
        "# dir은 객체가 자체적으로 가지고 있는 변수나 함수를 보여 준다.\n",
        "\n",
        "print(dir([1, 2, 3]))  # list object\n",
        "\n",
        "print(dir({\"1\": \"a\"}))  # dict object\n",
        "type({\"1\": \"a\"})"
      ],
      "execution_count": 8,
      "outputs": [
        {
          "output_type": "stream",
          "text": [
            "dir()\n",
            "['__add__', '__class__', '__contains__', '__delattr__', '__delitem__', '__dir__', '__doc__', '__eq__', '__format__', '__ge__', '__getattribute__', '__getitem__', '__gt__', '__hash__', '__iadd__', '__imul__', '__init__', '__init_subclass__', '__iter__', '__le__', '__len__', '__lt__', '__mul__', '__ne__', '__new__', '__reduce__', '__reduce_ex__', '__repr__', '__reversed__', '__rmul__', '__setattr__', '__setitem__', '__sizeof__', '__str__', '__subclasshook__', 'append', 'clear', 'copy', 'count', 'extend', 'index', 'insert', 'pop', 'remove', 'reverse', 'sort']\n",
            "['__class__', '__contains__', '__delattr__', '__delitem__', '__dir__', '__doc__', '__eq__', '__format__', '__ge__', '__getattribute__', '__getitem__', '__gt__', '__hash__', '__init__', '__init_subclass__', '__iter__', '__le__', '__len__', '__lt__', '__ne__', '__new__', '__reduce__', '__reduce_ex__', '__repr__', '__setattr__', '__setitem__', '__sizeof__', '__str__', '__subclasshook__', 'clear', 'copy', 'fromkeys', 'get', 'items', 'keys', 'pop', 'popitem', 'setdefault', 'update', 'values']\n"
          ],
          "name": "stdout"
        },
        {
          "output_type": "execute_result",
          "data": {
            "text/plain": [
              "dict"
            ]
          },
          "metadata": {
            "tags": []
          },
          "execution_count": 8
        }
      ]
    },
    {
      "cell_type": "code",
      "metadata": {
        "id": "ll8ZO4s1gizA",
        "colab_type": "code",
        "colab": {}
      },
      "source": [
        "print(\"divmod()\")\n",
        "\n",
        "# divmod(a, b)는 2개의 숫자를 입력으로 받는다.\n",
        "# 그리고 a를 b로 나눈 몫과 나머지를 튜플 형태로 돌려주는 함수\n",
        "\n",
        "divmod(7, 3)  # 결과값을 tuple로 반환"
      ],
      "execution_count": 0,
      "outputs": []
    },
    {
      "cell_type": "code",
      "metadata": {
        "id": "Ao5E8JyogsvC",
        "colab_type": "code",
        "colab": {}
      },
      "source": [
        "print(\"enumerate()\")\n",
        "# 매우 중요하다!!\n",
        "\n",
        "# enumerate는 \"열거하다\"라는 뜻이다.\n",
        "# 이 함수는 순서가 있는 자료형(리스트, 튜플, 문자열)을 입력으로\n",
        "# 받아 인덱스 값을 포함하는 enumerate 객체를 돌려준다.\n",
        "\n",
        "\n",
        "for i, name in enumerate([\"body\", \"foo\", \"bar\"]):\n",
        "    print(i, name)"
      ],
      "execution_count": 0,
      "outputs": []
    },
    {
      "cell_type": "code",
      "metadata": {
        "id": "2Gwuc8YtgvpE",
        "colab_type": "code",
        "colab": {}
      },
      "source": [
        "print(\"eval()\")\n",
        "\n",
        "# eval(expression )은 실행 가능한 문자열(1+2, 'hi' + 'a' 같은 것)을\n",
        "# 입력으로 받아 문자열을 실행한 결괏값을 돌려주는 함수\n",
        "\n",
        "eval(\"1+2\")\n",
        "eval(\"'hi' + 'a'\")\n",
        "eval(\"divmod(4, 3)\")"
      ],
      "execution_count": 0,
      "outputs": []
    },
    {
      "cell_type": "code",
      "metadata": {
        "id": "6FQNS5algxaC",
        "colab_type": "code",
        "colab": {}
      },
      "source": [
        "print(\"filter()\") \n",
        " # 매우 중요하다!!!\n",
        "\n",
        "# filter 함수는 첫 번째 인수로 함수 이름을,\n",
        "# 두 번째 인수로 그 함수에 차례로 들어갈 반복 가능한 자료형을 받는다.\n",
        "# 그리고 두 번째 인수인 반복 가능한 자료형 요소가 첫 번째 인수인\n",
        "# 함수에 입력되었을 때 반환 값이 참인 것만 묶어서(걸러 내서) 돌려준다.\n",
        "\n",
        "# positive.py\n",
        "def positive(l):\n",
        "    result = []\n",
        "    for i in l:\n",
        "        if i > 0:\n",
        "            result.append(i)\n",
        "    return result\n",
        "\n",
        "\n",
        "print(positive([1, -3, 2, 0, -5, 6]))"
      ],
      "execution_count": 0,
      "outputs": []
    },
    {
      "cell_type": "code",
      "metadata": {
        "id": "8_l0eTmPg4x4",
        "colab_type": "code",
        "colab": {}
      },
      "source": [
        "# filter() 함수 이용\n",
        "# filter1.py\n",
        "def positive(x):\n",
        "    return x > 0\n",
        "\n",
        "\n",
        "print(list(filter(positive, [1, -3, 2, 0, -5, 6])))\n",
        "\n",
        "# lambda를 사용하면 더욱 간편하게 코드를 작성할 수 있다.\n",
        "\n",
        "list(filter(lambda x: x > 0, [1, -3, 2, 0, -5, 6])) # 시험에 나올확률 높다. 중요하다!!"
      ],
      "execution_count": 0,
      "outputs": []
    },
    {
      "cell_type": "code",
      "metadata": {
        "id": "u3HExXk7g9is",
        "colab_type": "code",
        "colab": {}
      },
      "source": [
        "print(\"hex()\")\n",
        "\n",
        "# hex(x)는 정수 값을 입력받아 16진수(hexadecimal)로\n",
        "# 변환하여 돌려주는 함수\n",
        "\n",
        "print(hex(10))\n",
        "print(hex(234))"
      ],
      "execution_count": 0,
      "outputs": []
    },
    {
      "cell_type": "code",
      "metadata": {
        "id": "_scslQrwhDU-",
        "colab_type": "code",
        "colab": {}
      },
      "source": [
        "print(\"id()\")\n",
        "\n",
        "# 중요하다!!\n",
        "\n",
        "# d(object)는 객체를 입력받아 객체의 고유 주소 값(레퍼런스)을 돌려주는 함수\n",
        "\n",
        "a = 3\n",
        "print(id(3))\n",
        "print(id(a))\n",
        "# 값이 같게 나온다.\n",
        "\n",
        "b = a\n",
        "print(id(b))\n",
        "# 값이 같게 나온다.\n",
        "\n",
        "print(id(4))  # different address"
      ],
      "execution_count": 0,
      "outputs": []
    },
    {
      "cell_type": "code",
      "metadata": {
        "id": "lpc42UiehK2n",
        "colab_type": "code",
        "colab": {}
      },
      "source": [
        "print(\"input()\")\n",
        "\n",
        "# input([prompt])은 사용자 입력을 받는 함수이다.\n",
        "# 매개변수로 문자열을 주면, 그 문자열은 프롬프트가 된다.\n",
        "\n",
        "a = input()\n",
        "b = input(\"Enter: \")\n",
        "b"
      ],
      "execution_count": 0,
      "outputs": []
    },
    {
      "cell_type": "code",
      "metadata": {
        "id": "ebKskwYdhUXP",
        "colab_type": "code",
        "colab": {
          "base_uri": "https://localhost:8080/",
          "height": 125
        },
        "outputId": "b06e2f13-731a-46e6-cfee-081821ee3254"
      },
      "source": [
        "print(\"int()\")\n",
        "\n",
        "# int(x)는 문자열 형태의 숫자나 소수점이 있는 숫자 등을\n",
        "# 정수 형태로 돌려주는 함수\n",
        "\n",
        "print(int(3))\n",
        "print(int(\"3\"))\n",
        "print(int(3.14))\n",
        "\n",
        "# int(x, radix)는 radix 진수로 표현된 문자열 x를 10진수로 변환\n",
        "print(int(\"11\", 2))\n",
        "# int(11, 2)  # TypeError:\n",
        "\n",
        "int(\"F\", 16)"
      ],
      "execution_count": 20,
      "outputs": [
        {
          "output_type": "stream",
          "text": [
            "int()\n",
            "3\n",
            "3\n",
            "3\n",
            "3\n"
          ],
          "name": "stdout"
        },
        {
          "output_type": "execute_result",
          "data": {
            "text/plain": [
              "15"
            ]
          },
          "metadata": {
            "tags": []
          },
          "execution_count": 20
        }
      ]
    },
    {
      "cell_type": "code",
      "metadata": {
        "id": "tyR44SyohW2n",
        "colab_type": "code",
        "colab": {}
      },
      "source": [
        "print(\"isinstance()\")\n",
        "\n",
        "# isinstance(object, class )는 첫 번째 인수로 인스턴스,\n",
        "# 두 번째 인수로 클래스 이름을 받는다.\n",
        "# 입력으로 받은 인스턴스가 그 클래스의 인스턴스인지를 판단하여\n",
        "# 참이면 True, 거짓이면 False를 돌려준다.\n",
        "\n",
        "class Person:\n",
        "    pass\n",
        "\n",
        "\n",
        "a = Person()\n",
        "print(isinstance(a, Person))\n",
        "\n",
        "b = 3\n",
        "print(isinstance(b, Person))"
      ],
      "execution_count": 0,
      "outputs": []
    },
    {
      "cell_type": "code",
      "metadata": {
        "id": "GymB0YdCiKiK",
        "colab_type": "code",
        "colab": {}
      },
      "source": [
        "print(\"len()\")\n",
        "\n",
        "# len(s)은 입력값 s의 길이(요소의 전체 개수)를 돌려주는 함수이다.\n",
        "\n",
        "print(len(\"python\"))\n",
        "print(len([1, 2, 3]))\n",
        "print(len((1, \"a\"))) # 튜플\n",
        "print(len({a: 3})) # 딕셔너리 아이템"
      ],
      "execution_count": 0,
      "outputs": []
    },
    {
      "cell_type": "code",
      "metadata": {
        "id": "_1xBWsr5iS-j",
        "colab_type": "code",
        "colab": {
          "base_uri": "https://localhost:8080/",
          "height": 71
        },
        "outputId": "200f1e1b-d32e-4c00-c1e3-951c2cd8a5f2"
      },
      "source": [
        "print(\"list()\")\n",
        "\n",
        "# list(s)는 반복 가능한 자료형 s를 입력받아 리스트로 만들어 돌려주는 함수\n",
        "\n",
        "print(list(\"python\")) # 하나씩 요소로 받아 들인다.\n",
        "print(list((1, 2, 3)))"
      ],
      "execution_count": 37,
      "outputs": [
        {
          "output_type": "stream",
          "text": [
            "list()\n",
            "['p', 'y', 't', 'h', 'o', 'n']\n",
            "[1, 2, 3]\n"
          ],
          "name": "stdout"
        }
      ]
    },
    {
      "cell_type": "code",
      "metadata": {
        "id": "lN6cG2tfiYmH",
        "colab_type": "code",
        "colab": {
          "base_uri": "https://localhost:8080/",
          "height": 89
        },
        "outputId": "afcf5352-02f7-40bb-8915-c0dcb7351e62"
      },
      "source": [
        "print(\"map()\")  \n",
        "\n",
        "# 매우 중요하다!!\n",
        "\n",
        "# map(f, iterable)은 함수(f)와 반복 가능한(iterable) 자료형을 입력으로 받는다.\n",
        "# map은 입력받은 자료형의 각 요소를 함수 f가 수행한 결과를 묶어서 돌려주는 함수\n",
        "\n",
        "# two_times.py\n",
        "def two_times(numberList):\n",
        "    result = []\n",
        "    for number in numberList:\n",
        "        result.append(number * 2)\n",
        "    return result\n",
        "\n",
        "\n",
        "result = two_times([1, 2, 3, 4])\n",
        "print(result)\n",
        "\n",
        "# map 함수를 사용\n",
        "def two_times(x):\n",
        "    return x * 2\n",
        "\n",
        "\n",
        "print(list(map(two_times, [1, 2, 3, 4])))\n",
        "\n",
        "# lambda를 사용\n",
        "list(map(lambda a: a * 2, [1, 2, 3, 4]))"
      ],
      "execution_count": 26,
      "outputs": [
        {
          "output_type": "stream",
          "text": [
            "map()\n",
            "[2, 4, 6, 8]\n",
            "[2, 4, 6, 8]\n"
          ],
          "name": "stdout"
        },
        {
          "output_type": "execute_result",
          "data": {
            "text/plain": [
              "[2, 4, 6, 8]"
            ]
          },
          "metadata": {
            "tags": []
          },
          "execution_count": 26
        }
      ]
    },
    {
      "cell_type": "code",
      "metadata": {
        "id": "JtgAKJ4yijI2",
        "colab_type": "code",
        "colab": {
          "base_uri": "https://localhost:8080/",
          "height": 107
        },
        "outputId": "5c1524dd-3ccc-466b-990e-1fbce86f3560"
      },
      "source": [
        "print(\"max()\")\n",
        "\n",
        "# max(iterable)는 인수로 반복 가능한 자료형을 입력받아\n",
        "# 그 최댓값을 돌려주는 함수\n",
        "\n",
        "print(max([1, 2, 3]))\n",
        "print(max(\"python\"))\n",
        "print(max(list(range(10))))\n",
        "print(max(range(10)))"
      ],
      "execution_count": 27,
      "outputs": [
        {
          "output_type": "stream",
          "text": [
            "max()\n",
            "3\n",
            "y\n",
            "9\n",
            "9\n"
          ],
          "name": "stdout"
        }
      ]
    },
    {
      "cell_type": "code",
      "metadata": {
        "id": "rlj6gsV6iqhx",
        "colab_type": "code",
        "colab": {
          "base_uri": "https://localhost:8080/",
          "height": 89
        },
        "outputId": "2562f131-692e-4b9e-ffb8-995ebc5efed1"
      },
      "source": [
        "print(\"min()\")\n",
        "\n",
        "# min(iterable)은 max 함수와 반대로, 인수로 반복 가능한 자료형을 입력받아 그 최솟값을 돌려주는 함수\n",
        "\n",
        "print(min([1, 2, 3]))\n",
        "print(min(\"python\"))\n",
        "print(min(range(10)))"
      ],
      "execution_count": 28,
      "outputs": [
        {
          "output_type": "stream",
          "text": [
            "min()\n",
            "1\n",
            "h\n",
            "0\n"
          ],
          "name": "stdout"
        }
      ]
    },
    {
      "cell_type": "code",
      "metadata": {
        "id": "eZOjitZVi6gO",
        "colab_type": "code",
        "colab": {
          "base_uri": "https://localhost:8080/",
          "height": 71
        },
        "outputId": "ec4b1b00-c84f-414a-ec95-0781aa10cf35"
      },
      "source": [
        "print(\"oct()\")\n",
        "\n",
        "# oct(x)는 정수 형태의 숫자를 8진수 문자열로 바꾸어 돌려주는 함수\n",
        "\n",
        "print(oct(9))\n",
        "print(oct(12345))"
      ],
      "execution_count": 29,
      "outputs": [
        {
          "output_type": "stream",
          "text": [
            "oct()\n",
            "0o11\n",
            "0o30071\n"
          ],
          "name": "stdout"
        }
      ]
    },
    {
      "cell_type": "code",
      "metadata": {
        "id": "zqo1t7USjB-j",
        "colab_type": "code",
        "colab": {
          "base_uri": "https://localhost:8080/",
          "height": 71
        },
        "outputId": "73d8d1dc-9663-4738-9137-1e0ec01d107a"
      },
      "source": [
        "print(\"ord()\")\n",
        "\n",
        "# ord(c)는 문자의 아스키 코드 값을 돌려주는 함수\n",
        "\n",
        "# ※ ord 함수는 chr 함수와 반대이다.\n",
        "\n",
        "print(ord(\"a\"))  # chr(97)\n",
        "print(ord(\"0\"))  # chr(48)"
      ],
      "execution_count": 30,
      "outputs": [
        {
          "output_type": "stream",
          "text": [
            "ord()\n",
            "97\n",
            "48\n"
          ],
          "name": "stdout"
        }
      ]
    },
    {
      "cell_type": "code",
      "metadata": {
        "id": "3vv5qW-kjS7I",
        "colab_type": "code",
        "colab": {
          "base_uri": "https://localhost:8080/",
          "height": 71
        },
        "outputId": "78cd6ffa-e324-41dd-abe8-b92cd08e5bf7"
      },
      "source": [
        "print(\"pow()\")\n",
        "\n",
        "# pow(x, y)는 x의 y 제곱한 결괏값을 돌려주는 함수\n",
        "\n",
        "print(pow(2, 4))  # 2**4\n",
        "print(pow(3, 4))  # 3**4"
      ],
      "execution_count": 31,
      "outputs": [
        {
          "output_type": "stream",
          "text": [
            "pow()\n",
            "16\n",
            "81\n"
          ],
          "name": "stdout"
        }
      ]
    },
    {
      "cell_type": "code",
      "metadata": {
        "id": "EwoRFr4mjceF",
        "colab_type": "code",
        "colab": {
          "base_uri": "https://localhost:8080/",
          "height": 145
        },
        "outputId": "2b609ac6-cfb9-4fc4-939f-45cdaae1c6df"
      },
      "source": [
        "print(\"range()\") \n",
        "\n",
        "# 매우 중요하다!!\n",
        "\n",
        "# range([start,] stop [,step] )는 for문과 함께 자주 사용하는 함수\n",
        "# 이 함수는 입력받은 숫자에 해당하는 범위 값을 반복 가능한 객체로\n",
        "# 만들어 돌려준다.\n",
        "\n",
        "# 인수가 하나일 경우\n",
        "print(list(range(5)))\n",
        "\n",
        "print(dir(range(5)))\n",
        "\n",
        "# 인수가 2개일 경우\n",
        "print(list(range(5, 10)))\n",
        "\n",
        "# 인수가 3개일 경우\n",
        "print(list(range(1, 10, 2)))\n",
        "\n",
        "print(list(range(0, -10, -1)))"
      ],
      "execution_count": 42,
      "outputs": [
        {
          "output_type": "stream",
          "text": [
            "range()\n",
            "[0, 1, 2, 3, 4]\n",
            "['__bool__', '__class__', '__contains__', '__delattr__', '__dir__', '__doc__', '__eq__', '__format__', '__ge__', '__getattribute__', '__getitem__', '__gt__', '__hash__', '__init__', '__init_subclass__', '__iter__', '__le__', '__len__', '__lt__', '__ne__', '__new__', '__reduce__', '__reduce_ex__', '__repr__', '__reversed__', '__setattr__', '__sizeof__', '__str__', '__subclasshook__', 'count', 'index', 'start', 'step', 'stop']\n",
            "[5, 6, 7, 8, 9]\n",
            "[1, 3, 5, 7, 9]\n",
            "[0, -1, -2, -3, -4, -5, -6, -7, -8, -9]\n"
          ],
          "name": "stdout"
        }
      ]
    },
    {
      "cell_type": "code",
      "metadata": {
        "id": "p2FOw5cgjg_9",
        "colab_type": "code",
        "colab": {
          "base_uri": "https://localhost:8080/",
          "height": 89
        },
        "outputId": "dd657cdf-303b-4481-c144-10cac88ec967"
      },
      "source": [
        "print(\"round()\")\n",
        "\n",
        "# round(number[, ndigits]) 함수는 숫자를 입력받아 반올림해 주는 함수\n",
        "\n",
        "# ※ [, ndigits]는 ndigits가 있을 수도 있고 없을 수도 있다는 의미이다.\n",
        "# [, ndigits]는 몇번째 자리까지 반올림하는지 \n",
        "\n",
        "print(round(4.6)) \n",
        "print(round(4.2))\n",
        "\n",
        "# 소수점 2자리까지만 반올림\n",
        "print(round(5.678, 2))"
      ],
      "execution_count": 34,
      "outputs": [
        {
          "output_type": "stream",
          "text": [
            "round()\n",
            "5\n",
            "4\n",
            "5.68\n"
          ],
          "name": "stdout"
        }
      ]
    },
    {
      "cell_type": "code",
      "metadata": {
        "id": "apG5g7D2kHg5",
        "colab_type": "code",
        "colab": {
          "base_uri": "https://localhost:8080/",
          "height": 143
        },
        "outputId": "83ca15bc-2b1c-4ed6-b580-9b6b69e162d8"
      },
      "source": [
        "print(\"sorted()\") \n",
        "\n",
        "# 매우 중요하다!!\n",
        "\n",
        "# sorted(iterable) 함수는 입력값을 정렬한 후\n",
        "# 그 결과를 리스트로 돌려주는 함수\n",
        "# 'reverse' 속성으로 정렬순서 반전\n",
        "\n",
        "print(sorted([3, 1, 2]))\n",
        "print(sorted([3, 1, 2], reverse=True))\n",
        "\n",
        "print(sorted([\"a\", \"c\", \"b\"]))\n",
        "print(sorted([\"a\", \"c\", \"b\"], reverse=True))\n",
        "\n",
        "print(sorted(\"zero\"))\n",
        "print(sorted((3, 2, 1)))  # list로 반환!!!"
      ],
      "execution_count": 35,
      "outputs": [
        {
          "output_type": "stream",
          "text": [
            "sorted()\n",
            "[1, 2, 3]\n",
            "[3, 2, 1]\n",
            "['a', 'b', 'c']\n",
            "['c', 'b', 'a']\n",
            "['e', 'o', 'r', 'z']\n",
            "[1, 2, 3]\n"
          ],
          "name": "stdout"
        }
      ]
    },
    {
      "cell_type": "code",
      "metadata": {
        "id": "Jhhzy3sFkgUK",
        "colab_type": "code",
        "colab": {
          "base_uri": "https://localhost:8080/",
          "height": 89
        },
        "outputId": "2bde6fe4-2a7b-4554-b25c-f81fa94e7885"
      },
      "source": [
        "print(\"str()\")\n",
        "\n",
        "# str(object)은 문자열 형태로 객체를 변환하여 돌려주는 함수\n",
        "\n",
        "\n",
        "print(str(3))\n",
        "print(str(100))\n",
        "print(str(\"hello\".upper()))"
      ],
      "execution_count": 36,
      "outputs": [
        {
          "output_type": "stream",
          "text": [
            "str()\n",
            "3\n",
            "100\n",
            "HELLO\n"
          ],
          "name": "stdout"
        }
      ]
    },
    {
      "cell_type": "code",
      "metadata": {
        "id": "0GHRuYP8ko-C",
        "colab_type": "code",
        "colab": {
          "base_uri": "https://localhost:8080/",
          "height": 71
        },
        "outputId": "8d7c2c00-0452-41d8-e3ae-c7eb3cdffe9a"
      },
      "source": [
        "print(\"sum()\")\n",
        "\n",
        "# sum(iterable) 은 입력받은 리스트나 튜플의 모든 요소의 합을 돌려주는 함수\n",
        "\n",
        "print(sum([1, 2, 3]))\n",
        "print(sum((4, 5, 6)))"
      ],
      "execution_count": 38,
      "outputs": [
        {
          "output_type": "stream",
          "text": [
            "sum()\n",
            "6\n",
            "15\n"
          ],
          "name": "stdout"
        }
      ]
    },
    {
      "cell_type": "code",
      "metadata": {
        "id": "sIzh-neplWFN",
        "colab_type": "code",
        "colab": {
          "base_uri": "https://localhost:8080/",
          "height": 71
        },
        "outputId": "bdd95dd6-6a8f-4ef4-d194-c991357ff296"
      },
      "source": [
        "print(\"tuple()\")\n",
        "\n",
        "# tuple(iterable)은 반복 가능한 자료형을 입력받아 튜플 형태로 바꾸어 돌려주는 함수\n",
        "\n",
        "print(tuple(\"abc\"))\n",
        "print(tuple([1, 2, 3]))"
      ],
      "execution_count": 39,
      "outputs": [
        {
          "output_type": "stream",
          "text": [
            "tuple()\n",
            "('a', 'b', 'c')\n",
            "(1, 2, 3)\n"
          ],
          "name": "stdout"
        }
      ]
    },
    {
      "cell_type": "code",
      "metadata": {
        "id": "YuaUFNS1lbYt",
        "colab_type": "code",
        "colab": {
          "base_uri": "https://localhost:8080/",
          "height": 107
        },
        "outputId": "1f0134c5-5640-447a-956a-0a3d92f3cf13"
      },
      "source": [
        "print(\"type()\")\n",
        "\n",
        "# type(object)은 입력값의 자료형이 무엇인지 알려 주는 함수\n",
        "\n",
        "print(type(\"abc\"))\n",
        "print(type([]))\n",
        "print(type({a: 4}))\n",
        "print(type(open(\"test\", \"w\")))"
      ],
      "execution_count": 40,
      "outputs": [
        {
          "output_type": "stream",
          "text": [
            "type()\n",
            "<class 'str'>\n",
            "<class 'list'>\n",
            "<class 'dict'>\n",
            "<class '_io.TextIOWrapper'>\n"
          ],
          "name": "stdout"
        }
      ]
    },
    {
      "cell_type": "code",
      "metadata": {
        "id": "OEfWtgO9lkBc",
        "colab_type": "code",
        "colab": {
          "base_uri": "https://localhost:8080/",
          "height": 107
        },
        "outputId": "a220a338-d0ab-403e-82d1-840b141b97ce"
      },
      "source": [
        "print(\"zip()\") \n",
        "\n",
        "# 매우 중요하다!!\n",
        "\n",
        "# zip(*iterable)은 동일한 개수로 이루어진 자료형을 묶어 주는 역할을 하는 함수\n",
        "\n",
        "print(list(zip([1, 2, 3], [4, 5, 6])))\n",
        "print(list(zip([1, 2, 3], [4, 5, 6], [7, 8, 9])))\n",
        "print(list(zip(\"abc\", \"def\")))\n",
        "print(list(zip([1, 2, 3], \"def\")))"
      ],
      "execution_count": 41,
      "outputs": [
        {
          "output_type": "stream",
          "text": [
            "zip()\n",
            "[(1, 4), (2, 5), (3, 6)]\n",
            "[(1, 4, 7), (2, 5, 8), (3, 6, 9)]\n",
            "[('a', 'd'), ('b', 'e'), ('c', 'f')]\n",
            "[(1, 'd'), (2, 'e'), (3, 'f')]\n"
          ],
          "name": "stdout"
        }
      ]
    },
    {
      "cell_type": "code",
      "metadata": {
        "id": "lbSLP6-gltlG",
        "colab_type": "code",
        "colab": {}
      },
      "source": [
        ""
      ],
      "execution_count": 0,
      "outputs": []
    }
  ]
}