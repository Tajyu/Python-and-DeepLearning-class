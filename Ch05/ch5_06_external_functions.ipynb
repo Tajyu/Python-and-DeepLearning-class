{
  "nbformat": 4,
  "nbformat_minor": 0,
  "metadata": {
    "colab": {
      "name": "ch5_06_external_functions.ipynb",
      "provenance": [],
      "collapsed_sections": [],
      "toc_visible": true,
      "include_colab_link": true
    },
    "kernelspec": {
      "name": "python3",
      "display_name": "Python 3"
    }
  },
  "cells": [
    {
      "cell_type": "markdown",
      "metadata": {
        "id": "view-in-github",
        "colab_type": "text"
      },
      "source": [
        "<a href=\"https://colab.research.google.com/github/Tajyu/sm11/blob/master/Ch05/ch5_06_external_functions.ipynb\" target=\"_parent\"><img src=\"https://colab.research.google.com/assets/colab-badge.svg\" alt=\"Open In Colab\"/></a>"
      ]
    },
    {
      "cell_type": "markdown",
      "metadata": {
        "id": "FyqA850XnFEi",
        "colab_type": "text"
      },
      "source": [
        "# 외장 함수\n",
        "### 파이썬 사용자들이 만든 유용한 프로그램을 모아 놓은 것이 바로 파이썬 라이브러리\n",
        "## 외장 모듈은 'import module_name' 형식으로 불러와서 사용"
      ]
    },
    {
      "cell_type": "code",
      "metadata": {
        "id": "QtJVy0RDnDgW",
        "colab_type": "code",
        "colab": {}
      },
      "source": [
        "print(\"os\")  \n",
        "\n",
        "# 매우 중요하다!!\n",
        "\n",
        "# OS 모듈은 환경 변수나 디렉터리, 파일 등의 OS 자원을\n",
        "# 제어할 수 있게 해주는 모듈\n",
        "\n",
        "# 내 시스템의 환경 변수값을 알고 싶을 때 - os.environ\n",
        "import os\n",
        "\n",
        "os.environ\n",
        "\n",
        "# 시스템의 PATH 환경 변수 내용\n",
        "os.environ[\"PATH\"]\n",
        "\n",
        "# 현재 디렉터리 위치 확인 - os.getcwd()\n",
        "os.getcwd()\n",
        "\n",
        "# 시스템 명령어 호출하기 - os.system\n",
        "os.system(\"dir\")\n",
        "\n",
        "# 디렉터리 위치 변경하기 - os.chdir('directory')\n",
        "os.chdir(\"ch05\")\n",
        "\n",
        "# 기타 유용한 os 관련 함수\n",
        "# os.mkdir(디렉터리)\n",
        "# os.rmdir(디렉터리)\n",
        "# os.rename(src, dst)"
      ],
      "execution_count": 0,
      "outputs": []
    },
    {
      "cell_type": "code",
      "metadata": {
        "id": "jtZgGkOwnTHg",
        "colab_type": "code",
        "colab": {}
      },
      "source": [
        "print(\"sys\")  \n",
        "\n",
        "# 매우 중요하다!!\n",
        "\n",
        "# sys 모듈은 파이썬 인터프리터가 제공하는 변수와 함수를\n",
        "# 직접 제어할 수 있게 해주는 모듈\n",
        "\n",
        "# argv_test.py\n",
        "import sys\n",
        "\n",
        "print(sys.argv)\n",
        "\n",
        "# 강제로 스크립트 종료하기 - sys.exit\n",
        "import sys\n",
        "\n",
        "sys.exit()  # ^Z\n",
        "\n",
        "\n",
        "import sys\n",
        "\n",
        "sys.path # 파이썬 path 정보가 나온다.\n",
        "\n",
        "import os\n",
        "\n",
        "os.getcwd() # 작업폴더\n",
        "\n",
        "import sys\n",
        "\n",
        "sys.path.append(\"C:/doit/mymod\") # 새로운 경로로 추가\n",
        "sys.path\n",
        "# C:/doit/Mymod 디렉터리에 있는 파이썬 모듈을 불러와서 사용."
      ],
      "execution_count": 0,
      "outputs": []
    },
    {
      "cell_type": "code",
      "metadata": {
        "id": "65UWZpiQng_L",
        "colab_type": "code",
        "colab": {}
      },
      "source": [
        "print(\"pickle\")\n",
        "\n",
        "# pickle은 객체의 형태를 그대로 유지하면서 파일에 저장하고 불러올 수 있게 하는 모듈\n",
        "# pickle 모듈로 어떤 자료형이든 저장하고 불러올 수 있다.\n",
        "\n",
        "import pickle\n",
        "\n",
        "# 객체 그대로 유지하면서 파일에 저장\n",
        "f = open(\"test.txt\", \"wb\")\n",
        "data = {1: \"python\", 2: \"you need\"}\n",
        "pickle.dump(data, f)\n",
        "f.close()\n",
        "\n",
        "\n",
        "# pickle.load를 사용해서 원래 있던 딕셔너리 객체(data) 상태 그대로 불러오기\n",
        "f = open(\"test.txt\", \"rb\")\n",
        "data = pickle.load(f)\n",
        "f.close()\n",
        "\n",
        "print(data) "
      ],
      "execution_count": 0,
      "outputs": []
    },
    {
      "cell_type": "code",
      "metadata": {
        "id": "JDUlP-cenqxw",
        "colab_type": "code",
        "colab": {}
      },
      "source": [
        "print(\"shutil\")\n",
        "\n",
        "# shutil은 파일을 복사해 주는 파이썬 모듈\n",
        "\n",
        "import shutil\n",
        "\n",
        "os.system(\"dir\")\n",
        "shutil.copy(\"test.txt\", \"zest.txt\")\n",
        "os.system(\"dir\")  # 확인"
      ],
      "execution_count": 0,
      "outputs": []
    },
    {
      "cell_type": "code",
      "metadata": {
        "id": "d9ifA05ynuyV",
        "colab_type": "code",
        "colab": {}
      },
      "source": [
        "print(\"glob\")\n",
        "\n",
        "# 특정 디렉터리에 있는 파일 이름 모두 확인하는 파이썬 모듈\n",
        "# 디렉터리에 있는 파일들을 리스트로 만들기 - glob(pathname)\n",
        "\n",
        "\n",
        "import glob\n",
        "\n",
        "glob.glob(\"*.txt\")  # txt 파일 목록 확인\n",
        "# ['test.txt', 'zest.txt']"
      ],
      "execution_count": 0,
      "outputs": []
    },
    {
      "cell_type": "code",
      "metadata": {
        "id": "-CxGt3hUn2xe",
        "colab_type": "code",
        "colab": {}
      },
      "source": [
        "print(\"tempfile\")\n",
        "\n",
        "# 파일을 임시로 만들어서 사용할 때 유용한 모듈\n",
        "\n",
        "import tempfile\n",
        "\n",
        "filename = tempfile.mktemp()\n",
        "filename\n",
        "\n",
        "# tempfile.TemporaryFile()은 임시 저장 공간으로 사용할 파일 객체를 돌려준다.\n",
        "# 이 파일은 기본적으로 바이너리 쓰기 모드(wb)를 갖는다.\n",
        "# f.close()가 호출되면 이 파일 객체는 자동으로 사라진다.\n",
        "\n",
        "import tempfile\n",
        "\n",
        "f = tempfile.TemporaryFile()\n",
        "f.close()"
      ],
      "execution_count": 0,
      "outputs": []
    },
    {
      "cell_type": "code",
      "metadata": {
        "id": "Kht-Eq14n8vz",
        "colab_type": "code",
        "colab": {}
      },
      "source": [
        "print(\"time\")  \n",
        "\n",
        "# 매우 중요하다!!\n",
        "\n",
        "# 시간과 관련된 time 모듈\n",
        "\n",
        "\n",
        "# time.time()\n",
        "\n",
        "# time.time()은 UTC(Universal Time Coordinated 협정 세계 표준시)를 사용하여 현재 시간을 실수 형태로 돌려주는 함수이다.\n",
        "# 1970년 1월 1일 0시 0분 0초를 기준으로 지난 시간을 초 단위로 돌려준다.\n",
        "\n",
        "import time\n",
        "\n",
        "\n",
        "time.time()\n",
        "\n",
        "# time.localtime()\n",
        "# time.localtime은 time.time()이 돌려준 실수 값을 사용해서 연도, 월, 일, 시, 분, 초, ... 의 형태로 바꾸어 주는 함수\n",
        "print(time.localtime(time.time()))\n",
        "# time.struct_time(tm_year=2019, tm_mon=10, tm_mday=30,\n",
        "# tm_hour=21, tm_min=18, tm_sec=15, tm_wday=2, tm_yday=303, tm_isdst=0)\n",
        "\n",
        "# time.asctime\n",
        "# 위 time.localtime에 의해서 반환된 튜플 형태의 값을 인수로 받아서\n",
        "# 날짜와 시간을 알아보기 쉬운 형태로 돌려주는 함수\n",
        "print(time.asctime(time.localtime(time.time())))\n",
        "# 'Wed Oct 30 21:19:52 2019'\n",
        "\n",
        "# time.ctime\n",
        "# time.asctime(time.localtime(time.time()))은 time.ctime()과 같다.\n",
        "print(time.ctime())\n",
        "\n",
        "# time.strftime\n",
        "# time.strftime('출력할 형식 포맷 코드', time.localtime(time.time()))\n",
        "# strftime 함수는 여러 가지 포맷 코드로 시간에 관계된 것을 세밀하게 표현\n",
        "\n",
        "\n",
        "\n",
        "# 시간에 관계된 것을 표현하는 포맷 코드\n",
        "\n",
        "# 포맷코드\t설명\t예\n",
        "# %a\t요일 줄임말\tMon\n",
        "# %A\t요일\tMonday\n",
        "# %b\t달 줄임말\tJan\n",
        "# %B\t달\tJanuary\n",
        "# %c\t날짜와 시간을 출력함\t06/01/01 17:22:21\n",
        "# %d\t날(day)\t[01,31]\n",
        "# %H\t시간(hour)-24시간 출력 형태\t[00,23]\n",
        "# %I\t시간(hour)-12시간 출력 형태\t[01,12]\n",
        "# %j\t1년 중 누적 날짜\t[001,366]\n",
        "# %m\t달\t[01,12]\n",
        "# %M\t분\t[01,59]\n",
        "# %p\tAM or PM\tAM\n",
        "# %S\t초\t[00,59]\n",
        "# %U\t1년 중 누적 주-일요일을 시작으로\t[00,53]\n",
        "# %w\t숫자로 된 요일\t[0(일요일),6]\n",
        "# %W\t1년 중 누적 주-월요일을 시작으로\t[00,53]\n",
        "# %x\t현재 설정된 로케일에 기반한 날짜 출력\t06/01/01\n",
        "# %X\t현재 설정된 로케일에 기반한 시간 출력\t17:22:21\n",
        "# %Y\t년도 출력\t2001\n",
        "# %z\t시간대 출력\t대한민국 표준시\n",
        "# %y\t세기부분을 제외한 년도 출력\t01\n"
      ],
      "execution_count": 0,
      "outputs": []
    },
    {
      "cell_type": "code",
      "metadata": {
        "id": "aoGdHNvu02yU",
        "colab_type": "code",
        "colab": {}
      },
      "source": [
        "import time\n",
        "\n",
        "print(time.strftime(\"%x\", time.localtime(time.time()))\n",
        "\n",
        "print(time.strftime(\"%c\", time.localtime(time.time())))\n",
        "\n",
        "print(time.strftime(\"%z\", time.localtime(time.time())))\n",
        "\n",
        "\n",
        "# time.sleep\n",
        "# time.sleep 함수는 주로 루프 안에서 많이 사용한다.\n",
        "# 이 함수를 사용하면 일정한 시간 간격을 두고 루프를 실행\n",
        "# sleep1.py\n",
        "import time\n",
        "\n",
        "for i in range(10):\n",
        "    print(i)\n",
        "    time.sleep(1)  # delay = 1 s"
      ],
      "execution_count": 0,
      "outputs": []
    },
    {
      "cell_type": "code",
      "metadata": {
        "id": "Yd_QHXuMoLZu",
        "colab_type": "code",
        "colab": {}
      },
      "source": [
        "print(\"calendar\")\n",
        "\n",
        "# 파이썬에서 달력을 볼 수 있게 해주는 모듈\n",
        "\n",
        "import calendar\n",
        "\n",
        "print(calendar.calendar(2019))\n",
        "\n",
        "calendar.prcal(2019)\n",
        "\n",
        "calendar.prmonth(2019, 11)\n",
        "\n",
        "# calendar.weekday\n",
        "# calendar 모듈의 또 다른 유용한 함수를 보자.\n",
        "# weekday(연도, 월, 일) 함수는 그 날짜에 해당하는 요일 정보를 돌려준다.\n",
        "# 월요일은 0, 화요일은 1, 수요일은 2, 목요일은 3, 금요일은 4,\n",
        "# 토요일은 5, 일요일은 6이라는 값을 돌려준다.\n",
        "\n",
        "print(calendar.weekday(2019, 12, 25)) # 2 => 수요일\n",
        "\n",
        "\n",
        "\n",
        "# calendar.monthrange\n",
        "# monthrange(연도, 월) 함수는 입력받은 달의 1일이 무슨 요일인지와\n",
        "# 그 달이 며칠까지 있는지를 튜플 형태로 돌려준다.\n",
        "calendar.monthrange(2019, 12)\n"
      ],
      "execution_count": 0,
      "outputs": []
    },
    {
      "cell_type": "code",
      "metadata": {
        "id": "5k3BGOGro3-N",
        "colab_type": "code",
        "colab": {}
      },
      "source": [
        "print(\"random\")  \n",
        "\n",
        "# 매우 중요하다!!\n",
        "\n",
        "# 난수(규칙이 없는 임의의 수)를 발생시키는 모듈 마구잡이 수 발생\n",
        "# random(), randint()\n",
        "\n",
        "import random\n",
        "\n",
        "# random() : 0.0에서 1.0 사이의 실수 중에서 난수 값을 생성\n",
        "print(random.random())\n",
        "\n",
        "# randint(start, end) : start에서 end 사이의 정수 중에서 난수 값을 생성\n",
        "print(random.randint(1, 10))\n",
        "\n",
        "for i in range(6):\n",
        "    print(random.randint(1, 45), end=\",\")\n",
        "\n",
        "print()"
      ],
      "execution_count": 0,
      "outputs": []
    },
    {
      "cell_type": "code",
      "metadata": {
        "id": "Dkx9HI-oqtQ4",
        "colab_type": "code",
        "colab": {}
      },
      "source": [
        "# random 모듈을 사용해서 재미있는 함수\n",
        "\n",
        "import random\n",
        "\n",
        "\n",
        "def random_pop(data):\n",
        "    number = random.randint(0, len(data) - 1)\n",
        "    return data.pop(number)\n",
        "\n",
        "\n",
        "if __name__ == \"__main__\":\n",
        "    data = list(range(1, 10))  # [1, 2, 3, 4, 5]\n",
        "    while data:\n",
        "        print(random_pop(data), end=\" \")\n",
        "    print()\n",
        "\n",
        "# 리스트의 요소 중에서 무작위로 하나를 선택하여 꺼낸 다음 그 값을 돌려준다.\n",
        "# 물론 꺼낸 요소는 pop 메서드에 의해 사라진다.   "
      ],
      "execution_count": 0,
      "outputs": []
    },
    {
      "cell_type": "code",
      "metadata": {
        "id": "6J7bUznmq2QX",
        "colab_type": "code",
        "colab": {
          "base_uri": "https://localhost:8080/",
          "height": 53
        },
        "outputId": "b5413a37-a215-43ec-acdf-4bfeba6c6357"
      },
      "source": [
        "# random_pop 함수는 random 모듈의 choice 함수를 사용하여\n",
        "# 다음과 같이 좀 더 직관적으로 만들 수도 있다.\n",
        "\n",
        "def random_pop(data):\n",
        "    number = random.choice(data)\n",
        "    data.remove(number)\n",
        "    return number\n",
        "\n",
        "\n",
        "print(random_pop([1, 2, 3, 4, 5]))\n",
        "\n",
        "if __name__ == \"__main__\":\n",
        "    data = list(range(1, 10))  # [1, 2, 3, 4, 5]\n",
        "    while data:\n",
        "        print(random_pop(data), end=\" \")\n",
        "    print()\n"
      ],
      "execution_count": 14,
      "outputs": [
        {
          "output_type": "stream",
          "text": [
            "5\n",
            "6 1 9 2 8 5 7 4 3 \n"
          ],
          "name": "stdout"
        }
      ]
    },
    {
      "cell_type": "code",
      "metadata": {
        "id": "HYK9ie3Fq9cJ",
        "colab_type": "code",
        "colab": {}
      },
      "source": [
        "# if __name__ == \"__main__\":\n",
        "# https://pinocc.tistory.com/175\n",
        "#\n",
        "# Filename: using_name.py\n",
        "\"\"\"\n",
        "if __name__ == '__main__':\n",
        "\tprint 'This program is being run by itself'\n",
        "else:\n",
        "\tprint 'I am being imported from another module'\n",
        "\"\"\"\n",
        "# 직접 실행\n",
        "# python using_name.py\n",
        "# This program is being run by itself\n",
        "\n",
        "# 모듈로 import 되어 실행\n",
        "# >>> import using_name\n",
        "# >>> I am being imported from another module"
      ],
      "execution_count": 0,
      "outputs": []
    },
    {
      "cell_type": "code",
      "metadata": {
        "id": "YhfNu16zrFqE",
        "colab_type": "code",
        "colab": {}
      },
      "source": [
        "# 리스트의 항목을 무작위로 섞고 싶을 때는 random.shuffle 함수를 사용\n",
        "\n",
        "import random\n",
        "\n",
        "data = [1, 2, 3, 4, 5]\n",
        "random.shuffle(data)\n",
        "data"
      ],
      "execution_count": 0,
      "outputs": []
    },
    {
      "cell_type": "code",
      "metadata": {
        "id": "g6YdXlT0rLT_",
        "colab_type": "code",
        "colab": {}
      },
      "source": [
        "print(\"webbrowser\")\n",
        "\n",
        "# webbrowser는 자신의 시스템에서 사용하는 기본 웹 브라우저를 자동으로 실행하는 모듈\n",
        "# 터미널로 실행\n",
        "\n",
        "import webbrowser\n",
        "\n",
        "print(webbrowser.open(\"http://google.com\"))\n",
        "\n",
        "# 새로운 창/탭으로 열기\n",
        "print(webbrowser.open_new(\"http://google.com\"))\n"
      ],
      "execution_count": 0,
      "outputs": []
    },
    {
      "cell_type": "code",
      "metadata": {
        "id": "C_suEgKsrTyL",
        "colab_type": "code",
        "colab": {}
      },
      "source": [
        ""
      ],
      "execution_count": 0,
      "outputs": []
    }
  ]
}