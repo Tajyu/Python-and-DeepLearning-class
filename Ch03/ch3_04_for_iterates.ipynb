{
  "nbformat": 4,
  "nbformat_minor": 0,
  "metadata": {
    "colab": {
      "name": "ch3_04_for_iterates.ipynb",
      "provenance": [],
      "include_colab_link": true
    },
    "kernelspec": {
      "name": "python3",
      "display_name": "Python 3"
    }
  },
  "cells": [
    {
      "cell_type": "markdown",
      "metadata": {
        "id": "view-in-github",
        "colab_type": "text"
      },
      "source": [
        "<a href=\"https://colab.research.google.com/github/Tajyu/sm11/blob/master/Ch03/ch3_04_for_iterates.ipynb\" target=\"_parent\"><img src=\"https://colab.research.google.com/assets/colab-badge.svg\" alt=\"Open In Colab\"/></a>"
      ]
    },
    {
      "cell_type": "code",
      "metadata": {
        "id": "mOu6MViIhQFh",
        "colab_type": "code",
        "colab": {}
      },
      "source": [
        "print(\"for 문과 itrator\")\n",
        "subjects = ['python', 'english', 'math', 'science']\n",
        "scores = [88, 77, 66, 95]\n",
        "print(scores)\n",
        "\n",
        "print(\"과목명 출력\")\n",
        "for subject in subjects:\n",
        "    print(subject)\n",
        "    \n",
        "print(\"과목 점수 출력\")\n",
        "for score in scores:\n",
        "    print(score)\n",
        "   "
      ],
      "execution_count": 0,
      "outputs": []
    },
    {
      "cell_type": "markdown",
      "metadata": {
        "id": "gx2JDxsFhkHf",
        "colab_type": "text"
      },
      "source": [
        "### enumerate()를 이용한 출력"
      ]
    },
    {
      "cell_type": "code",
      "metadata": {
        "id": "SFYwEmrXhix3",
        "colab_type": "code",
        "colab": {
          "base_uri": "https://localhost:8080/",
          "height": 161
        },
        "outputId": "7b2b5af6-cb69-4362-915e-649288aa0ba9"
      },
      "source": [
        "subjects = ['python', 'english', 'math', 'science']\n",
        "for position, subject in enumerate(subjects):\n",
        "    print(position,subject)\n",
        "\n",
        "    \n",
        "for position, subject in enumerate(subjects):\n",
        "    print(subjects[position])"
      ],
      "execution_count": 4,
      "outputs": [
        {
          "output_type": "stream",
          "text": [
            "0 python\n",
            "1 english\n",
            "2 math\n",
            "3 science\n",
            "python\n",
            "english\n",
            "math\n",
            "science\n"
          ],
          "name": "stdout"
        }
      ]
    },
    {
      "cell_type": "markdown",
      "metadata": {
        "id": "-5HrNQrWhv5v",
        "colab_type": "text"
      },
      "source": [
        "### enumerate()를 이용하여 점수를 출력해보시오."
      ]
    },
    {
      "cell_type": "code",
      "metadata": {
        "id": "KNsVWC3ShZoQ",
        "colab_type": "code",
        "colab": {}
      },
      "source": [
        "scores = [88, 77, 66, 95]\n",
        "for position, score in enumerate(scores):\n",
        "    print(scores,subject)\n",
        "\n",
        "    \n",
        "for position, score in enumerate(scores):\n",
        "    print(scores[position])"
      ],
      "execution_count": 0,
      "outputs": []
    },
    {
      "cell_type": "markdown",
      "metadata": {
        "id": "4LIwGRlJiQQ-",
        "colab_type": "text"
      },
      "source": [
        "### for 문과 itrator의 응용: 복합 문자열 리스트"
      ]
    },
    {
      "cell_type": "code",
      "metadata": {
        "id": "pPlLNuwHh8Ck",
        "colab_type": "code",
        "colab": {
          "base_uri": "https://localhost:8080/",
          "height": 89
        },
        "outputId": "a4f1f7c6-45e8-470b-b8af-c92423ac5bd1"
      },
      "source": [
        "subjects = ['python', 'english', 'math', 'science']\n",
        "scores = [88, 77, 66, 95]\n",
        "\n",
        "# Method-1\n",
        "for position in range(len(subjects)):\n",
        "    subject = subjects[position]\n",
        "    score = scores[position]\n",
        "    print(subject, score)\n"
      ],
      "execution_count": 9,
      "outputs": [
        {
          "output_type": "stream",
          "text": [
            "python 88\n",
            "english 77\n",
            "math 66\n",
            "science 95\n"
          ],
          "name": "stdout"
        }
      ]
    },
    {
      "cell_type": "code",
      "metadata": {
        "id": "rSCXcZDziTPy",
        "colab_type": "code",
        "colab": {}
      },
      "source": [
        "subjects = ['python', 'english', 'math', 'science']\n",
        "scores = [88, 77, 66, 95]\n",
        "\n",
        "# Method-2\n",
        "for position, subject in enumerate(subjects):\n",
        "    score = scores[position]\n",
        "    print(subject, score)"
      ],
      "execution_count": 0,
      "outputs": []
    },
    {
      "cell_type": "code",
      "metadata": {
        "id": "rKQo-9lEiaJa",
        "colab_type": "code",
        "colab": {}
      },
      "source": [
        "subjects = ['python', 'english', 'math', 'science']\n",
        "scores = [88, 77, 66, 95]\n",
        "\n",
        "# Method-3\n",
        "for subject, score in zip(subjects, scores):\n",
        "    print(subject, score)\n"
      ],
      "execution_count": 0,
      "outputs": []
    },
    {
      "cell_type": "markdown",
      "metadata": {
        "id": "JNdyWNbxihbG",
        "colab_type": "text"
      },
      "source": [
        "#### 응용 코드 : 평균 성적을 구하시오.\n"
      ]
    },
    {
      "cell_type": "code",
      "metadata": {
        "id": "6YpUpIm2igdW",
        "colab_type": "code",
        "colab": {
          "base_uri": "https://localhost:8080/",
          "height": 107
        },
        "outputId": "415f2d58-793f-4377-921e-12491e001937"
      },
      "source": [
        "subjects = ['python', 'english', 'math', 'science']\n",
        "scores = [88, 77, 66, 95]\n",
        "\n",
        "average = 0\n",
        "total = 0\n",
        "\n",
        "for subject, score in zip(subjects, scores):  # zip은 항목별로 리스트를 만들어준다.\n",
        "    total += score\n",
        "    print(subject, score)\n",
        "\n",
        "print(\"평균 점수 = {0}\".format(total/len(subjects)))"
      ],
      "execution_count": 12,
      "outputs": [
        {
          "output_type": "stream",
          "text": [
            "python 88\n",
            "english 77\n",
            "math 66\n",
            "science 95\n",
            "평균 점수 = 81.5\n"
          ],
          "name": "stdout"
        }
      ]
    },
    {
      "cell_type": "code",
      "metadata": {
        "id": "0aNBdqqyijvL",
        "colab_type": "code",
        "colab": {}
      },
      "source": [
        ""
      ],
      "execution_count": 0,
      "outputs": []
    }
  ]
}