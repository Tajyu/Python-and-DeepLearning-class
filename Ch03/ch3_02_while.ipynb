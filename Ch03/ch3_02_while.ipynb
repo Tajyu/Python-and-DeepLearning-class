{
  "nbformat": 4,
  "nbformat_minor": 0,
  "metadata": {
    "colab": {
      "name": "ch3_02_while.ipynb",
      "provenance": [],
      "include_colab_link": true
    },
    "kernelspec": {
      "name": "python3",
      "display_name": "Python 3"
    }
  },
  "cells": [
    {
      "cell_type": "markdown",
      "metadata": {
        "id": "view-in-github",
        "colab_type": "text"
      },
      "source": [
        "<a href=\"https://colab.research.google.com/github/Tajyu/sm11/blob/master/Ch03/ch3_02_while.ipynb\" target=\"_parent\"><img src=\"https://colab.research.google.com/assets/colab-badge.svg\" alt=\"Open In Colab\"/></a>"
      ]
    },
    {
      "cell_type": "markdown",
      "metadata": {
        "id": "MsWQOw06PXkc",
        "colab_type": "text"
      },
      "source": [
        "## 파이썬 - while문(반복문)"
      ]
    },
    {
      "cell_type": "code",
      "metadata": {
        "id": "qhBx6_QRNG_D",
        "colab_type": "code",
        "colab": {}
      },
      "source": [
        "print(\"while 문은 어떻게 사용?\")\n",
        "print( '반복해서 문장을 수행해야 할 경우 while문을 사용한다.' )\n",
        "print( '그래서 while문을 반복문이라고도 부른다.')"
      ],
      "execution_count": 0,
      "outputs": []
    },
    {
      "cell_type": "code",
      "metadata": {
        "id": "0ryL5yC5PhOA",
        "colab_type": "code",
        "colab": {}
      },
      "source": [
        "print(\"while문의 기본 구조\")\n",
        "\n",
        "'''\n",
        "while <조건문>:\n",
        "    <수행할 문장1>\n",
        "    <수행할 문장2>\n",
        "    <수행할 문장3>\n",
        "    ...\n",
        "'''\n"
      ],
      "execution_count": 0,
      "outputs": []
    },
    {
      "cell_type": "code",
      "metadata": {
        "id": "4FmW8u2_Pvg7",
        "colab_type": "code",
        "colab": {}
      },
      "source": [
        "# \"열 번 찍어 안 넘어가는 나무 없다\"는 속담을 파이썬 프로그램으로 반복 실행\n",
        "treeHit = 0\n",
        "while treeHit < 10:\n",
        "    treeHit = treeHit +1\n",
        "    print(\"나무를 %d번 찍었습니다.\" % treeHit)\n",
        "    if treeHit == 10:\n",
        "        print(\"나무 넘어갑니다.\")"
      ],
      "execution_count": 0,
      "outputs": []
    },
    {
      "cell_type": "markdown",
      "metadata": {
        "id": "Yj2KMzK_Q6ZM",
        "colab_type": "text"
      },
      "source": [
        "### while문 응용 \n",
        "\n",
        "#### 2개이상일때는 작은따옴표 3개나 큰 따옴표 3개들의 사이에 넣어야한다."
      ]
    },
    {
      "cell_type": "code",
      "metadata": {
        "id": "wh69h30DQEv4",
        "colab_type": "code",
        "colab": {}
      },
      "source": [
        "print(\"while문 만들기\")\n",
        "\n",
        "prompt = \"\"\"\n",
        "1. Add\n",
        "2. Del\n",
        "3. List\n",
        "4. Quit\n",
        "\n",
        "Enter number: \"\"\"\n",
        "\n",
        "number = 0\n",
        "while number != 4:   \n",
        "    print(prompt)\n",
        "    number = int(input())  \n",
        "    \n",
        "    ### input에 4를 넣으면 정지\n",
        "    ### 무한루프"
      ],
      "execution_count": 0,
      "outputs": []
    },
    {
      "cell_type": "markdown",
      "metadata": {
        "id": "nUIN12kmQ2St",
        "colab_type": "text"
      },
      "source": [
        "### while문 강제로 빠져나가기"
      ]
    },
    {
      "cell_type": "code",
      "metadata": {
        "id": "B1bPWIJDQSIy",
        "colab_type": "code",
        "colab": {}
      },
      "source": [
        "# 커피 자판기 작동\n",
        "# 자판기가 제대로 작동하려면 커피가 얼마나 남았는지 항상 검사해야 한다. \n",
        "# 만약 커피가 떨어졌다면 판매를 중단하고 \"판매 중지\" 문구를 사용자에게 보여준다.\n",
        "#\n",
        "coffee = 10\n",
        "money = 300\n",
        "while money:\n",
        "    print(\"돈을 받았으니 커피를 줍니다.\")\n",
        "    coffee = coffee -1\n",
        "    print(\"남은 커피의 양은 %d개입니다.\" % coffee)\n",
        "    if coffee == 0:\n",
        "        print(\"커피가 다 떨어졌습니다. 판매를 중지합니다.\")\n",
        "        break\n"
      ],
      "execution_count": 0,
      "outputs": []
    },
    {
      "cell_type": "markdown",
      "metadata": {
        "id": "6ZlLmKwPS8zL",
        "colab_type": "text"
      },
      "source": [
        "##while - break 예제(coffee)"
      ]
    },
    {
      "cell_type": "code",
      "metadata": {
        "id": "SN2lt2UvSDl8",
        "colab_type": "code",
        "colab": {}
      },
      "source": [
        "coffee = 10\n",
        "while True:\n",
        "    money = int(input(\"돈을 넣어 주세요: \"))\n",
        "    if money == 300:\n",
        "        print(\"커피를 줍니다.\")\n",
        "        coffee = coffee -1\n",
        "    elif money > 300:\n",
        "        print(\"거스름돈 %d를 주고 커피를 줍니다.\" % (money -300))\n",
        "        coffee = coffee -1\n",
        "    else:\n",
        "        print(\"돈을 다시 돌려주고 커피를 주지 않습니다.\")\n",
        "        print(\"남은 커피의 양은 %d개 입니다.\" % coffee)\n",
        "    if coffee == 0:\n",
        "        print(\"커피가 다 떨어졌습니다. 판매를 중지 합니다.\")\n",
        "        break"
      ],
      "execution_count": 0,
      "outputs": []
    },
    {
      "cell_type": "markdown",
      "metadata": {
        "id": "qVkkq6aoTb7b",
        "colab_type": "text"
      },
      "source": [
        "### while문의 맨 처음으로 돌아가기: continue"
      ]
    },
    {
      "cell_type": "code",
      "metadata": {
        "id": "v5QWWibeTZQu",
        "colab_type": "code",
        "colab": {
          "base_uri": "https://localhost:8080/",
          "height": 107
        },
        "outputId": "59e6009a-7eff-41ba-bdff-8db2b0ddd957"
      },
      "source": [
        "# while문을 빠져나가지 않고 while문의 맨 처음(조건문)으로 \n",
        "# 다시 돌아가게 만들고 싶은 경우가 생기게 된다. \n",
        "# 이때 사용하는 것이 바로 continue문이다.\n",
        "#\n",
        "# 1부터 10까지의 숫자 중에서 홀수만 출력하는 것을 while문을 사용해서 작성\n",
        "#\n",
        "a = 0\n",
        "while a < 10:\n",
        "    a = a + 1\n",
        "    if a % 2 == 0: continue \n",
        "    print(a)\n"
      ],
      "execution_count": 17,
      "outputs": [
        {
          "output_type": "stream",
          "text": [
            "1\n",
            "3\n",
            "5\n",
            "7\n",
            "9\n"
          ],
          "name": "stdout"
        }
      ]
    },
    {
      "cell_type": "markdown",
      "metadata": {
        "id": "DL4n8olcWg8F",
        "colab_type": "text"
      },
      "source": [
        "### while문의 무한 루프\n",
        "\n",
        "#### while True: \n",
        "####   수행할 문장1 \n",
        "####   수행할 문장2\n",
        "####   ...."
      ]
    },
    {
      "cell_type": "code",
      "metadata": {
        "id": "TywJMmM9TeUZ",
        "colab_type": "code",
        "colab": {}
      },
      "source": [
        "# 무한루프 코드의 예 (^C로 중지 !!!)\n",
        "while True:\n",
        "    print(\"Ctrl+C를 눌러야 while문을 빠져나갈 수 있습니다.\")"
      ],
      "execution_count": 0,
      "outputs": []
    }
  ]
}