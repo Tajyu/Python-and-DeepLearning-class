{
  "nbformat": 4,
  "nbformat_minor": 0,
  "metadata": {
    "colab": {
      "name": "ch3_03_for.ipynb",
      "provenance": [],
      "include_colab_link": true
    },
    "kernelspec": {
      "name": "python3",
      "display_name": "Python 3"
    }
  },
  "cells": [
    {
      "cell_type": "markdown",
      "metadata": {
        "id": "view-in-github",
        "colab_type": "text"
      },
      "source": [
        "<a href=\"https://colab.research.google.com/github/Tajyu/sm11/blob/master/Ch03/ch3_03_for.ipynb\" target=\"_parent\"><img src=\"https://colab.research.google.com/assets/colab-badge.svg\" alt=\"Open In Colab\"/></a>"
      ]
    },
    {
      "cell_type": "markdown",
      "metadata": {
        "id": "B8mo8SBmXa1d",
        "colab_type": "text"
      },
      "source": [
        "## 파이썬 for문\n",
        "\n",
        "### for문의 기본 구조\n",
        "\n",
        "#### for 변수 in 리스트(또는 튜플, 문자열):\n",
        "#### 수행할 문장1\n",
        "#### 수행할 문장2\n",
        "####  ..."
      ]
    },
    {
      "cell_type": "markdown",
      "metadata": {
        "id": "Mh7v0wKaXn7l",
        "colab_type": "text"
      },
      "source": [
        "### 예제를 통해 for문 이해하기"
      ]
    },
    {
      "cell_type": "code",
      "metadata": {
        "id": "NZYgsr0tXZfR",
        "colab_type": "code",
        "colab": {}
      },
      "source": [
        "# 1. 전형적인 for문\n",
        "#\n",
        "test_list = ['one', 'two', 'three'] \n",
        "for i in test_list:\n",
        "    print(i)"
      ],
      "execution_count": 0,
      "outputs": []
    },
    {
      "cell_type": "code",
      "metadata": {
        "id": "DAWqKtZNXrZR",
        "colab_type": "code",
        "colab": {}
      },
      "source": [
        "# 2. 다양한 for문의 사용\n",
        "\n",
        "a = [(1,2), (3,4), (5,6)]  # 리스트안에 3개의 튜플\n",
        "\n",
        "for (first, last) in a:\n",
        "    print(first + last)"
      ],
      "execution_count": 0,
      "outputs": []
    },
    {
      "cell_type": "code",
      "metadata": {
        "id": "Sgwa3cYMXyiT",
        "colab_type": "code",
        "colab": {}
      },
      "source": [
        "# 3. for문의 응용\n",
        "#\n",
        "# \"총 5명의 학생이 시험을 보았는데 시험 점수가 60점이 넘으면 \n",
        "# 합격이고 그렇지 않으면 불합격이다. \n",
        "# 합격인지 불합격인지 결과를 보여 주시오.\"\n",
        "#\n",
        "# marks1.py\n",
        "#\n",
        "marks = [90, 25, 67, 45, 80]\n",
        "\n",
        "number = 0 \n",
        "for mark in marks: \n",
        "    number = number +1 \n",
        "    if mark >= 60: \n",
        "        print(\"%d번 학생은 합격입니다.\" % number)\n",
        "    else: \n",
        "        print(\"%d번 학생은 불합격입니다.\" % number)"
      ],
      "execution_count": 0,
      "outputs": []
    },
    {
      "cell_type": "markdown",
      "metadata": {
        "id": "m5v4iY01YQWk",
        "colab_type": "text"
      },
      "source": [
        "### for문과 continue"
      ]
    },
    {
      "cell_type": "code",
      "metadata": {
        "id": "mw2KAnzbYQJc",
        "colab_type": "code",
        "colab": {}
      },
      "source": [
        "# for문 안의 문장을 수행하는 도중에 continue문을 만나면 \n",
        "# for문의 처음으로 돌아가게 된다.\n",
        "#\n",
        "# 앞에서 for문 응용 예제를 그대로 사용해서 60점 이상인 사람에게는 \n",
        "# 축하 메시지를 보내고 나머지 사람에게는 아무 메시지도 전하지 않는 \n",
        "# 프로그램을 작성.\n",
        "#\n",
        "\n",
        "\n",
        "# 예제\n",
        "# marks1.py  \n",
        "marks = [90, 25, 67, 45, 80]\n",
        "\n",
        "number = 0 \n",
        "for mark in marks: \n",
        "    number = number +1 \n",
        "    if mark < 60:\n",
        "        continue \n",
        "    print(\"%d번 학생 축하합니다. 합격입니다. \" % number)"
      ],
      "execution_count": 0,
      "outputs": []
    },
    {
      "cell_type": "markdown",
      "metadata": {
        "id": "mODBimtWYYYc",
        "colab_type": "text"
      },
      "source": [
        "### for문과 함께 자주 사용하는 range 함수\n",
        "\n",
        "##### range(number)\n",
        "##### range(시작 숫자, 끝 숫자)"
      ]
    },
    {
      "cell_type": "code",
      "metadata": {
        "id": "23OqkXnvYS3h",
        "colab_type": "code",
        "colab": {}
      },
      "source": [
        "a = range(10)\n",
        "print(a)\n",
        "print(list(a))\n",
        "\n",
        "a = range(1, 11)\n",
        "print(a)"
      ],
      "execution_count": 0,
      "outputs": []
    },
    {
      "cell_type": "code",
      "metadata": {
        "id": "BMOFfgKXYeiE",
        "colab_type": "code",
        "colab": {
          "base_uri": "https://localhost:8080/",
          "height": 89
        },
        "outputId": "ffe0bf54-5090-4464-a8d7-2fb6bf274669"
      },
      "source": [
        "# range 함수를 이용한 코드\n",
        "\n",
        "add = 0 \n",
        "for i in range(1, 11): \n",
        "    add = add + i\n",
        "\n",
        "print(add)\n",
        "\n",
        "#marks4.py\n",
        "marks = [90, 25, 67, 45, 80]\n",
        "for number in range(len(marks)):\n",
        "    if marks[number] < 60: \n",
        "        continue\n",
        "    print(\"%d번 학생 축하합니다. 합격입니다.\" % (number+1))\n"
      ],
      "execution_count": 13,
      "outputs": [
        {
          "output_type": "stream",
          "text": [
            "55\n",
            "1번 학생 축하합니다. 합격입니다.\n",
            "3번 학생 축하합니다. 합격입니다.\n",
            "5번 학생 축하합니다. 합격입니다.\n"
          ],
          "name": "stdout"
        }
      ]
    },
    {
      "cell_type": "markdown",
      "metadata": {
        "id": "WFnIx5glZxxT",
        "colab_type": "text"
      },
      "source": [
        "### for와 range를 이용한 구구단 (예제)"
      ]
    },
    {
      "cell_type": "code",
      "metadata": {
        "id": "M0ZErncWZjdi",
        "colab_type": "code",
        "colab": {}
      },
      "source": [
        "# for와 range 함수를 사용하면 \n",
        "# 소스 코드 단 4줄만으로 구구단을 출력\n",
        "\n",
        "# 중첩 for 문\n",
        "for i in range(2,10):         # ①번 for문 (i-loop)\n",
        "     for j in range(1, 10):   # ②번 for문 (j-loop)\n",
        "        print(i*j, end=\" \") \n",
        "        print('')   # 줄 바꿈\n",
        "        \n",
        "        ### 랜덤으로 출력"
      ],
      "execution_count": 0,
      "outputs": []
    },
    {
      "cell_type": "code",
      "metadata": {
        "id": "zQCzqfvoZ5fX",
        "colab_type": "code",
        "colab": {}
      },
      "source": [
        "for i in range(2,10):        # ①번 for문 정수2부터 10미만인 9까지\n",
        "     for j in range(1, 10):   # ②번 for문\n",
        "        print(i, \"X\", j, \"=\", i*j, end=\"  \") \n",
        "        print('') \n",
        "\n",
        "## 구구단의 2단부터 9단까지 정렬\n",
        "        \n",
        "# 2 X 1 = 2 2 X 2 = 4 2 X 3 = 6 2 X 4 = 8 2 X 5 = 10 2 X 6 = 12 2 X 7 = 14 2 X 8 = 16 2 X 9 = 18\n",
        "# 3 X 1 = 3 3 X 2 = 6 3 X 3 = 9 3 X 4 = 12 3 X 5 = 15 3 X 6 = 18 3 X 7 = 21 3 X 8 = 24 3 X 9 = 27\n",
        "# 4 X 1 = 4 4 X 2 = 8 4 X 3 = 12 4 X 4 = 16 4 X 5 = 20 4 X 6 = 24 4 X 7 = 28 4 X 8 = 32 4 X 9 = 36\n",
        "# 5 X 1 = 5 5 X 2 = 10 5 X 3 = 15 5 X 4 = 20 5 X 5 = 25 5 X 6 = 30 5 X 7 = 35 5 X 8 = 40 5 X 9 = 45\n",
        "# 6 X 1 = 6 6 X 2 = 12 6 X 3 = 18 6 X 4 = 24 6 X 5 = 30 6 X 6 = 36 6 X 7 = 42 6 X 8 = 48 6 X 9 = 54\n",
        "# 7 X 1 = 7 7 X 2 = 14 7 X 3 = 21 7 X 4 = 28 7 X 5 = 35 7 X 6 = 42 7 X 7 = 49 7 X 8 = 56 7 X 9 = 63\n",
        "# 8 X 1 = 8 8 X 2 = 16 8 X 3 = 24 8 X 4 = 32 8 X 5 = 40 8 X 6 = 48 8 X 7 = 56 8 X 8 = 64 8 X 9 = 72\n",
        "# 9 X 1 = 9 9 X 2 = 18 9 X 3 = 27 9 X 4 = 36 9 X 5 = 45 9 X 6 = 54 9 X 7 = 63 9 X 8 = 72 9 X 9 = 81"
      ],
      "execution_count": 0,
      "outputs": []
    },
    {
      "cell_type": "markdown",
      "metadata": {
        "id": "NETOUl-OakMU",
        "colab_type": "text"
      },
      "source": [
        "### 리스트 내포(List comprehension)"
      ]
    },
    {
      "cell_type": "code",
      "metadata": {
        "id": "MurNwop9aMmh",
        "colab_type": "code",
        "colab": {
          "base_uri": "https://localhost:8080/",
          "height": 53
        },
        "outputId": "d9297b04-8a21-4e7e-b29b-0ca55c46c7ba"
      },
      "source": [
        "a = [1,2,3,4]\n",
        "result = []\n",
        "for num in a:\n",
        "    result.append(num*3) # a 리스트안에 요솟값들에 *3을한다.\n",
        "\n",
        "\n",
        "print(result)\n",
        "\n",
        "\n",
        "\n",
        "# 리쓰트 내포 (간략하게 줄인다.)\n",
        "a = [1,2,3,4]\n",
        "result = [num*3 for num in a] # a 리스트안에 요솟값들에 *3을한다.\n",
        "print(result)"
      ],
      "execution_count": 19,
      "outputs": [
        {
          "output_type": "stream",
          "text": [
            "[3, 6, 9, 12]\n",
            "[3, 6, 9, 12]\n"
          ],
          "name": "stdout"
        }
      ]
    },
    {
      "cell_type": "markdown",
      "metadata": {
        "id": "MEdzzBi_bLka",
        "colab_type": "text"
      },
      "source": [
        "### 리스트 내포의 일반 문법"
      ]
    },
    {
      "cell_type": "code",
      "metadata": {
        "id": "fKJJ3S5Gamj1",
        "colab_type": "code",
        "colab": {
          "base_uri": "https://localhost:8080/",
          "height": 73
        },
        "outputId": "4bd5e0e4-7c06-490f-99bd-0fbde108f4ab"
      },
      "source": [
        "# [표현식 for 항목 in 반복가능객체 if 조건문]\n",
        "# 일반화\n",
        "# [표현식 for 항목1 in 반복가능객체1 if 조건문1\n",
        "#         for 항목2 in 반복가능객체2 if 조건문2\n",
        "#         ...\n",
        "#         for 항목n in 반복가능객체n if 조건문n]\n",
        "\n",
        "\n",
        "# 예1. 구구단의 모든 결과를 리스트에 담는 코드\n",
        "\n",
        "result = [x*y for x in range(2,10) for y in range(1,10)]\n",
        "print(result)\n",
        "\n",
        "\n",
        "\n",
        "# 예2. 9 이하의 정수 중 짝수는 2배로, 홀수는 그대로 리스트에 담는 코드\n",
        "x = [1, 2, 3, 4, 5, 6, 7, 8, 9]  # -> [1, 4, 3, 8, 5, 12, 7, 16, 9]\n",
        "result = []\n",
        "for idx in range(len(x)):\n",
        "    if x[idx] % 2 == 0:\n",
        "        result.append(x[idx] * 2)  # 짝수는 2배\n",
        "    else:\n",
        "        result.append(x[idx]) \n",
        "print(result)"
      ],
      "execution_count": 24,
      "outputs": [
        {
          "output_type": "stream",
          "text": [
            "[2, 4, 6, 8, 10, 12, 14, 16, 18, 3, 6, 9, 12, 15, 18, 21, 24, 27, 4, 8, 12, 16, 20, 24, 28, 32, 36, 5, 10, 15, 20, 25, 30, 35, 40, 45, 6, 12, 18, 24, 30, 36, 42, 48, 54, 7, 14, 21, 28, 35, 42, 49, 56, 63, 8, 16, 24, 32, 40, 48, 56, 64, 72, 9, 18, 27, 36, 45, 54, 63, 72, 81]\n",
            "[1, 4, 3, 8, 5, 12, 7, 16, 9]\n"
          ],
          "name": "stdout"
        }
      ]
    },
    {
      "cell_type": "code",
      "metadata": {
        "id": "Z9OwhmCjbTa-",
        "colab_type": "code",
        "colab": {
          "base_uri": "https://localhost:8080/",
          "height": 35
        },
        "outputId": "eb3ca799-f231-4bb0-c7e0-8d95ff91c4f4"
      },
      "source": [
        "# 짝수만 추출하여 2배로 만든 리스트 구성\n",
        "\n",
        "x = [1, 2, 3, 4, 5, 6, 7, 8, 9]\n",
        "[element * 2 for element in x if element % 2 == 0]\n",
        "\n",
        "# [4, 8, 12, 16]\n",
        "\n",
        "# 그러면 짝수는 2배로, 홀수는 그대로 리스트에 담는 코드는?\n",
        "[(element * 2 if element % 2 == 0 else element) for element in x]"
      ],
      "execution_count": 28,
      "outputs": [
        {
          "output_type": "execute_result",
          "data": {
            "text/plain": [
              "[1, 4, 3, 8, 5, 12, 7, 16, 9]"
            ]
          },
          "metadata": {
            "tags": []
          },
          "execution_count": 28
        }
      ]
    },
    {
      "cell_type": "code",
      "metadata": {
        "id": "pfSZkKELekls",
        "colab_type": "code",
        "colab": {}
      },
      "source": [
        ""
      ],
      "execution_count": 0,
      "outputs": []
    }
  ]
}