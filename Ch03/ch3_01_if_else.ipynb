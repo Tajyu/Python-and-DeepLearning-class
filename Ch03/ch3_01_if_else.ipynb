{
  "nbformat": 4,
  "nbformat_minor": 0,
  "metadata": {
    "colab": {
      "name": "ch3_01_if_else.ipynb",
      "provenance": [],
      "include_colab_link": true
    },
    "kernelspec": {
      "name": "python3",
      "display_name": "Python 3"
    }
  },
  "cells": [
    {
      "cell_type": "markdown",
      "metadata": {
        "id": "view-in-github",
        "colab_type": "text"
      },
      "source": [
        "<a href=\"https://colab.research.google.com/github/Tajyu/sm11/blob/master/Ch03/ch3_01_if_else.ipynb\" target=\"_parent\"><img src=\"https://colab.research.google.com/assets/colab-badge.svg\" alt=\"Open In Colab\"/></a>"
      ]
    },
    {
      "cell_type": "markdown",
      "metadata": {
        "id": "WhGmvkDlIahS",
        "colab_type": "text"
      },
      "source": [
        "##파이썬 - if문"
      ]
    },
    {
      "cell_type": "markdown",
      "metadata": {
        "id": "5KNxqmd8Iiu4",
        "colab_type": "text"
      },
      "source": [
        "###예문\n",
        "####print(\"if문의 기본 구조\")\n",
        "####'''\n",
        "####if 조건문:\n",
        "####    수행할 문장1\n",
        "####    수행할 문장2\n",
        "####    ...\n",
        "####else:\n",
        "####    수행할 문장A\n",
        "####    수행할 문장B\n",
        "####    ...\n",
        "####'''"
      ]
    },
    {
      "cell_type": "code",
      "metadata": {
        "id": "L7yRCY7XIBxv",
        "colab_type": "code",
        "colab": {}
      },
      "source": [
        "print(\"if문은 어떻게 사용?\")\n",
        "money = True\n",
        "if money:\n",
        "    print(\"택시를 타고 가라\")\n",
        "else:\n",
        "    print(\"걸어 가라\")"
      ],
      "execution_count": 0,
      "outputs": []
    },
    {
      "cell_type": "markdown",
      "metadata": {
        "id": "60VP5E0PIn4g",
        "colab_type": "text"
      },
      "source": [
        ""
      ]
    },
    {
      "cell_type": "markdown",
      "metadata": {
        "id": "Dhp8mqKcI374",
        "colab_type": "text"
      },
      "source": [
        "###if문 들여쓰기 - EX1"
      ]
    },
    {
      "cell_type": "code",
      "metadata": {
        "id": "IVm_w-mwIk9Y",
        "colab_type": "code",
        "colab": {}
      },
      "source": [
        "print(\"들여 쓰기(Intent)\")\n",
        "# 예-1\n",
        "money = True\n",
        "if money:\n",
        "    print(\"택시를\")\n",
        "    print(\"타고\")\n",
        "    print(\"가라\")"
      ],
      "execution_count": 0,
      "outputs": []
    },
    {
      "cell_type": "markdown",
      "metadata": {
        "id": "bVEw5FiNJ6IQ",
        "colab_type": "text"
      },
      "source": [
        "###if문 들여쓰기 - EX2"
      ]
    },
    {
      "cell_type": "code",
      "metadata": {
        "id": "3qIdCgXrJx8B",
        "colab_type": "code",
        "colab": {}
      },
      "source": [
        "money = True\n",
        "if money:\n",
        "    print(\"택시를\")\n",
        "    print(\"타고\")\n",
        "    print(\"가라\")"
      ],
      "execution_count": 0,
      "outputs": []
    },
    {
      "cell_type": "markdown",
      "metadata": {
        "id": "UXf3up5-KGVJ",
        "colab_type": "text"
      },
      "source": [
        "### 비교연산자(<, >, ==, !=, >=, <=)를 쓰는 방법"
      ]
    },
    {
      "cell_type": "code",
      "metadata": {
        "id": "Rj7-67zEKGC1",
        "colab_type": "code",
        "colab": {}
      },
      "source": [
        "x=3\n",
        "y=2\n",
        "print(x>y)\n",
        "\n",
        "print(x<y)\n",
        "print(x==y)\n",
        "print(x!=y)"
      ],
      "execution_count": 0,
      "outputs": []
    },
    {
      "cell_type": "markdown",
      "metadata": {
        "id": "b_UYB1_TKbct",
        "colab_type": "text"
      },
      "source": [
        "### 조건식 만들기 - 비교연산자\n",
        "##### \"만약 3000원 이상의 돈을 가지고 있으면 택시를 타고 그렇지 않으면 걸어 가라.\""
      ]
    },
    {
      "cell_type": "code",
      "metadata": {
        "id": "JhpRBykFKIwu",
        "colab_type": "code",
        "colab": {}
      },
      "source": [
        "money = 2000\n",
        "if money >= 3000:\n",
        "    print(\"택시를 타고 가라\")\n",
        "else:\n",
        "    print(\"걸어가라\")"
      ],
      "execution_count": 0,
      "outputs": []
    },
    {
      "cell_type": "markdown",
      "metadata": {
        "id": "SkEmP78UKn9_",
        "colab_type": "text"
      },
      "source": [
        "### 복합 조건식: or, and, not\n",
        "#### 연산자\t설명\n",
        "#### x or y  :\tx와 y 둘중에 하나만 참이면 참이다\n",
        "#### x and y :\tx와 y 모두 참이어야 참이다\n",
        "#### not x\t  : x가 거짓이면 참이다"
      ]
    },
    {
      "cell_type": "markdown",
      "metadata": {
        "id": "NamFeXThKxF3",
        "colab_type": "text"
      },
      "source": [
        "### or 복합 조건식 이용\n",
        "#### \"돈이 3000원 이상 있거나 카드가 있다면 택시를 타고 그렇지 않으면 걸어 가라.\""
      ]
    },
    {
      "cell_type": "code",
      "metadata": {
        "id": "u9Cd8R5bKi_C",
        "colab_type": "code",
        "colab": {}
      },
      "source": [
        "money = 2000\n",
        "card = True\n",
        "if money >= 3000 or card:\n",
        "    print(\"택시를 타고 가라\")\n",
        "else:\n",
        "    print(\"걸어가라\")\n"
      ],
      "execution_count": 0,
      "outputs": []
    },
    {
      "cell_type": "markdown",
      "metadata": {
        "id": "yd1hM8kwK3P3",
        "colab_type": "text"
      },
      "source": [
        "### 조건식: in, not in\n",
        "\n",
        "####   in\t          not in\n",
        "#### x in 리스트\tx not in 리스트\n",
        "#### x in 튜플\t    x not in 튜플\n",
        "#### x in 문자열\tx not in 문자열"
      ]
    },
    {
      "cell_type": "code",
      "metadata": {
        "id": "1b1L9VYgK1lu",
        "colab_type": "code",
        "colab": {}
      },
      "source": [
        "# list\n",
        "1 in [1, 2, 3]\n",
        "1 not in [1, 2, 3]\n",
        "# tuple\n",
        "'a' in ('a', 'b', 'c')\n",
        "# string\n",
        "'j' not in 'python'"
      ],
      "execution_count": 0,
      "outputs": []
    },
    {
      "cell_type": "code",
      "metadata": {
        "id": "H5tvk1aTK_pT",
        "colab_type": "code",
        "colab": {}
      },
      "source": [
        "# in을 이용한 코드\n",
        "# \"만약 주머니에 돈이 있으면 택시를 타고, 없으면 걸어 가라.\"\n",
        "pocket = ['paper', 'cellphone', 'money']\n",
        "if 'money' in pocket:\n",
        "    print(\"택시를 타고 가라\")\n",
        "else:\n",
        "    print(\"걸어가라\")"
      ],
      "execution_count": 0,
      "outputs": []
    },
    {
      "cell_type": "code",
      "metadata": {
        "id": "Un2aHCuTLDsN",
        "colab_type": "code",
        "colab": {
          "base_uri": "https://localhost:8080/",
          "height": 35
        },
        "outputId": "da513bfd-a4c3-4a4a-e3d7-6218ac18d5e5"
      },
      "source": [
        "# 조건식: pass\n",
        "pocket = ['paper', 'cellphone', 'money']\n",
        "if 'money' in pocket:\n",
        "    print(\"택시를 타고 가라\")\n",
        "    pass\n",
        "else:\n",
        "    print(\"걸어가라\")"
      ],
      "execution_count": 20,
      "outputs": [
        {
          "output_type": "stream",
          "text": [
            "택시를 타고 가라\n"
          ],
          "name": "stdout"
        }
      ]
    },
    {
      "cell_type": "markdown",
      "metadata": {
        "id": "1aV-0nQ_LjPA",
        "colab_type": "text"
      },
      "source": [
        "### 다중 조건식: elif\n",
        "### 다양한 조건을 판단"
      ]
    },
    {
      "cell_type": "code",
      "metadata": {
        "id": "dujTS3AGLHdT",
        "colab_type": "code",
        "colab": {}
      },
      "source": [
        "# \"주머니에 돈이 있으면 택시를 타고, \n",
        "# 주머니에 돈은 없지만 카드가 있으면 택시를 타고, \n",
        "# 돈도 없고 카드도 없으면 걸어 가라.\"\n",
        "#\n",
        "pocket = ['paper', 'handphone'] \n",
        "card = True\n",
        "if 'money' in pocket:\n",
        "    print(\"택시를 타고가라\")\n",
        "else:\n",
        "    if card:\n",
        "        print(\"택시를 타고가라\")\n",
        "    else:\n",
        "        print(\"걸어가라\")\n",
        "        \n",
        "        #pocket에 돈은없지만 카드값이 true이기때문에 '택시를 타고가라' 실행\n",
        "\n",
        "\n",
        "# elif 이용한 코드\n",
        "pocket = ['paper', 'handphone']\n",
        "card = True\n",
        "if 'money' in pocket:\n",
        "    print(\"택시를 타고가라\")\n",
        "elif card:\n",
        "    print(\"택시를 타고가라\")\n",
        "else:\n",
        "    print(\"걸어가라\")\n",
        "    #pocket에 돈은없지만 카드값이 true이기때문에 '택시를 타고가라' 실행\n"
      ],
      "execution_count": 0,
      "outputs": []
    },
    {
      "cell_type": "code",
      "metadata": {
        "id": "Ui5X8gdXMDGo",
        "colab_type": "code",
        "colab": {}
      },
      "source": [
        "# if문을 한 줄로 작성하기\n",
        "\n",
        "pocket = ['paper', 'cellphone', 'money']\n",
        "if 'money' in pocket:\n",
        "    pass\n",
        "else:\n",
        "    print(\"카드를 사용해라.\")\n",
        "\n",
        "\n",
        "# 한줄 코드\n",
        "if 'money' in pocket: pass\n",
        "else: print(\"카드를 사용해라.\")"
      ],
      "execution_count": 0,
      "outputs": []
    },
    {
      "cell_type": "code",
      "metadata": {
        "id": "H1ZdCDZUMdu-",
        "colab_type": "code",
        "colab": {}
      },
      "source": [
        "# 조건부 표현식 (conditional expression)\n",
        "# 조건문이 참인 경우 if 조건문 else 조건문이 거짓인 경우\n",
        "\n",
        "score=80\n",
        "if score >= 60:\n",
        "    message = \"success\"\n",
        "else:\n",
        "    message = \"failure\"\n",
        "\n",
        "print(message)\n",
        "\n",
        "# 한줄 코드\n",
        "message = \"success\" if score >= 60 else \"failure\"\n",
        "print(message)"
      ],
      "execution_count": 0,
      "outputs": []
    },
    {
      "cell_type": "code",
      "metadata": {
        "id": "AFy4EF0zMfnt",
        "colab_type": "code",
        "colab": {}
      },
      "source": [
        ""
      ],
      "execution_count": 0,
      "outputs": []
    }
  ]
}